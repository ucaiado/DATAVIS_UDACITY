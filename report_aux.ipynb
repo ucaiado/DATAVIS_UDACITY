{
 "cells": [
  {
   "cell_type": "markdown",
   "metadata": {},
   "source": [
    "###Open file and initiate variables"
   ]
  },
  {
   "cell_type": "code",
   "execution_count": 1,
   "metadata": {
    "collapsed": true
   },
   "outputs": [],
   "source": [
    "import glob\n",
    "import os\n",
    "import csv\n",
    "import zipfile\n",
    "import StringIO\n",
    "\n",
    "s_root = \"C:/Users/Vera\"\n",
    "s_root = \"/Users/ucaiado\"\n",
    "s_name = s_root + \"/Dropbox/NEUTRINO/ALGO/DATA/pisa2012.csv.zip\"\n",
    "s_dict = s_root + \"/Dropbox/NEUTRINO/ALGO/DATA/pisadict2012.csv\""
   ]
  },
  {
   "cell_type": "markdown",
   "metadata": {},
   "source": [
    "###Create a function to read the file and read the file labels"
   ]
  },
  {
   "cell_type": "code",
   "execution_count": 2,
   "metadata": {
    "collapsed": true
   },
   "outputs": [],
   "source": [
    "import pandas as pd"
   ]
  },
  {
   "cell_type": "code",
   "execution_count": 3,
   "metadata": {
    "collapsed": true
   },
   "outputs": [],
   "source": [
    "df_labels = pd.read_csv(s_dict)\n",
    "df_labels.columns=[\"VAR\",\"DESCRIPTION\"]"
   ]
  },
  {
   "cell_type": "code",
   "execution_count": 4,
   "metadata": {
    "collapsed": false
   },
   "outputs": [
    {
     "data": {
      "text/html": [
       "<div>\n",
       "<table border=\"1\" class=\"dataframe\">\n",
       "  <thead>\n",
       "    <tr style=\"text-align: right;\">\n",
       "      <th></th>\n",
       "      <th>VAR</th>\n",
       "      <th>DESCRIPTION</th>\n",
       "    </tr>\n",
       "  </thead>\n",
       "  <tbody>\n",
       "    <tr>\n",
       "      <th>0</th>\n",
       "      <td>CNT</td>\n",
       "      <td>Country code 3-character</td>\n",
       "    </tr>\n",
       "    <tr>\n",
       "      <th>1</th>\n",
       "      <td>SUBNATIO</td>\n",
       "      <td>Adjudicated sub-region code 7-digit code (3-di...</td>\n",
       "    </tr>\n",
       "    <tr>\n",
       "      <th>2</th>\n",
       "      <td>STRATUM</td>\n",
       "      <td>Stratum ID 7-character (cnt + region ID + orig...</td>\n",
       "    </tr>\n",
       "    <tr>\n",
       "      <th>3</th>\n",
       "      <td>OECD</td>\n",
       "      <td>OECD country</td>\n",
       "    </tr>\n",
       "    <tr>\n",
       "      <th>4</th>\n",
       "      <td>NC</td>\n",
       "      <td>National Centre 6-digit Code</td>\n",
       "    </tr>\n",
       "  </tbody>\n",
       "</table>\n",
       "</div>"
      ],
      "text/plain": [
       "        VAR                                        DESCRIPTION\n",
       "0       CNT                           Country code 3-character\n",
       "1  SUBNATIO  Adjudicated sub-region code 7-digit code (3-di...\n",
       "2   STRATUM  Stratum ID 7-character (cnt + region ID + orig...\n",
       "3      OECD                                       OECD country\n",
       "4        NC                       National Centre 6-digit Code"
      ]
     },
     "execution_count": 4,
     "metadata": {},
     "output_type": "execute_result"
    }
   ],
   "source": [
    "df_labels.head(5)"
   ]
  },
  {
   "cell_type": "code",
   "execution_count": 5,
   "metadata": {
    "collapsed": false
   },
   "outputs": [],
   "source": [
    "import csv\n",
    "import zipfile\n",
    "\n",
    "def _getFields(l_fields, row):\n",
    "    '''\n",
    "    Return a dictionary with the data into the row, filtering \n",
    "    the fields passed \n",
    "    '''\n",
    "    return {k: row.get(k, None) for k in l_fields}\n",
    "\n",
    "def getData(s_file, l_fields):\n",
    "    '''\n",
    "    Return a list of dictionaries with the data desired\n",
    "    '''\n",
    "    with open(s_file, 'rb') as f1:\n",
    "        zfile = zipfile.ZipFile(f1)\n",
    "        l_rtn = []\n",
    "        with zfile.open(zfile.filelist[0].filename) as f:\n",
    "            reader = csv.DictReader(f)\n",
    "            for idx, row in enumerate(reader):\n",
    "                #count lines processed\n",
    "                if idx%50000==0: print \"estou na linha {}\".format(idx)\n",
    "                #get data desired\n",
    "                l_rtn.append(_getFields(l_fields, row))\n",
    "        print \"estou na linha {}\".format(idx)\n",
    "        \n",
    "    return l_rtn    "
   ]
  },
  {
   "cell_type": "code",
   "execution_count": 9,
   "metadata": {
    "collapsed": false
   },
   "outputs": [
    {
     "name": "stdout",
     "output_type": "stream",
     "text": [
      "estou na linha 0\n",
      "estou na linha 50000\n",
      "estou na linha 100000\n",
      "estou na linha 150000\n",
      "estou na linha 200000\n",
      "estou na linha 250000\n",
      "estou na linha 300000\n",
      "estou na linha 350000\n",
      "estou na linha 400000\n",
      "estou na linha 450000\n",
      "estou na linha 485489\n",
      "CPU times: user 2min 25s, sys: 1.09 s, total: 2min 26s\n",
      "Wall time: 2min 27s\n"
     ]
    }
   ],
   "source": [
    "l_test = list(df_labels.head(5).VAR)\n",
    "%time d_data = getData(s_name, l_test)"
   ]
  },
  {
   "cell_type": "markdown",
   "metadata": {},
   "source": [
    "###let's see the countries names"
   ]
  },
  {
   "cell_type": "code",
   "execution_count": 40,
   "metadata": {
    "collapsed": false
   },
   "outputs": [],
   "source": [
    "df_country =  pd.DataFrame(d_data)"
   ]
  },
  {
   "cell_type": "code",
   "execution_count": 44,
   "metadata": {
    "collapsed": false
   },
   "outputs": [
    {
     "data": {
      "text/html": [
       "<div>\n",
       "<table border=\"1\" class=\"dataframe\">\n",
       "  <thead>\n",
       "    <tr style=\"text-align: right;\">\n",
       "      <th></th>\n",
       "      <th>CNT</th>\n",
       "      <th>NC</th>\n",
       "      <th>OECD</th>\n",
       "      <th>STRATUM</th>\n",
       "      <th>SUBNATIO</th>\n",
       "    </tr>\n",
       "  </thead>\n",
       "  <tbody>\n",
       "    <tr>\n",
       "      <th>0</th>\n",
       "      <td>Albania</td>\n",
       "      <td>Albania</td>\n",
       "      <td>Non-OECD</td>\n",
       "      <td>ALB0006</td>\n",
       "      <td>0080000</td>\n",
       "    </tr>\n",
       "    <tr>\n",
       "      <th>1</th>\n",
       "      <td>Albania</td>\n",
       "      <td>Albania</td>\n",
       "      <td>Non-OECD</td>\n",
       "      <td>ALB0006</td>\n",
       "      <td>0080000</td>\n",
       "    </tr>\n",
       "    <tr>\n",
       "      <th>2</th>\n",
       "      <td>Albania</td>\n",
       "      <td>Albania</td>\n",
       "      <td>Non-OECD</td>\n",
       "      <td>ALB0006</td>\n",
       "      <td>0080000</td>\n",
       "    </tr>\n",
       "    <tr>\n",
       "      <th>3</th>\n",
       "      <td>Albania</td>\n",
       "      <td>Albania</td>\n",
       "      <td>Non-OECD</td>\n",
       "      <td>ALB0006</td>\n",
       "      <td>0080000</td>\n",
       "    </tr>\n",
       "    <tr>\n",
       "      <th>4</th>\n",
       "      <td>Albania</td>\n",
       "      <td>Albania</td>\n",
       "      <td>Non-OECD</td>\n",
       "      <td>ALB0006</td>\n",
       "      <td>0080000</td>\n",
       "    </tr>\n",
       "  </tbody>\n",
       "</table>\n",
       "</div>"
      ],
      "text/plain": [
       "       CNT       NC      OECD  STRATUM SUBNATIO\n",
       "0  Albania  Albania  Non-OECD  ALB0006  0080000\n",
       "1  Albania  Albania  Non-OECD  ALB0006  0080000\n",
       "2  Albania  Albania  Non-OECD  ALB0006  0080000\n",
       "3  Albania  Albania  Non-OECD  ALB0006  0080000\n",
       "4  Albania  Albania  Non-OECD  ALB0006  0080000"
      ]
     },
     "execution_count": 44,
     "metadata": {},
     "output_type": "execute_result"
    }
   ],
   "source": [
    "df_country.head()"
   ]
  },
  {
   "cell_type": "code",
   "execution_count": 76,
   "metadata": {
    "collapsed": false
   },
   "outputs": [],
   "source": [
    "b=[x.strip() for x in df_country.CNT.unique()]\n",
    "a=[x.strip() for x in df_country.NC.unique()]"
   ]
  },
  {
   "cell_type": "code",
   "execution_count": 79,
   "metadata": {
    "collapsed": false
   },
   "outputs": [
    {
     "data": {
      "text/plain": [
       "['United Kingdom (excl.Scotland)',\n",
       " 'United Kingdom (Scotland)',\n",
       " 'Republic of Korea',\n",
       " 'China (Shanghai)',\n",
       " 'Perm (Russian Federation)',\n",
       " 'Viet Nam']"
      ]
     },
     "execution_count": 79,
     "metadata": {},
     "output_type": "execute_result"
    }
   ],
   "source": [
    "[x for  x in a if x not in b]"
   ]
  },
  {
   "cell_type": "code",
   "execution_count": 78,
   "metadata": {
    "collapsed": false
   },
   "outputs": [
    {
     "data": {
      "text/plain": [
       "['United Kingdom',\n",
       " 'Korea',\n",
       " 'China-Shanghai',\n",
       " 'Perm(Russian Federation)',\n",
       " 'Florida (USA)',\n",
       " 'Connecticut (USA)',\n",
       " 'Massachusetts (USA)',\n",
       " 'Vietnam']"
      ]
     },
     "execution_count": 78,
     "metadata": {},
     "output_type": "execute_result"
    }
   ],
   "source": [
    "[x for  x in b if x not in a]"
   ]
  },
  {
   "cell_type": "markdown",
   "metadata": {},
   "source": [
    "###I like more the CNT names. I will make just some changes"
   ]
  },
  {
   "cell_type": "code",
   "execution_count": 6,
   "metadata": {
    "collapsed": false
   },
   "outputs": [
    {
     "name": "stdout",
     "output_type": "stream",
     "text": [
      "estou na linha 0\n",
      "estou na linha 50000\n",
      "estou na linha 100000\n",
      "estou na linha 150000\n",
      "estou na linha 200000\n",
      "estou na linha 250000\n",
      "estou na linha 300000\n",
      "estou na linha 350000\n",
      "estou na linha 400000\n",
      "estou na linha 450000\n",
      "estou na linha 485489\n",
      "CPU times: user 2min 21s, sys: 794 ms, total: 2min 22s\n",
      "Wall time: 2min 22s\n"
     ]
    }
   ],
   "source": [
    "l_test = [\"CNT\",\"SUBJECT\"]\n",
    "%time d_data = getData(s_name, l_test)"
   ]
  },
  {
   "cell_type": "code",
   "execution_count": 82,
   "metadata": {
    "collapsed": false
   },
   "outputs": [],
   "source": [
    "df =  pd.DataFrame(d_data)\n",
    "b=[x.strip() for x in df.CNT.unique()]\n",
    "d_newNames = dict(zip(b,b))\n",
    "d_newNames[\"United Arab Emirates\"] = \"UAE\"\n",
    "d_newNames[\"United Kingdom\"] = \"UK\"\n",
    "d_newNames[\"Serbia\"] = \"Serbia\"\n",
    "d_newNames[\"Korea\"] = \"South Korea\"\n",
    "d_newNames[\"Chinese Taipei\"] = \"Taiwan\"\n",
    "d_newNames[\"Slovak Republic\"] = \"Slovakia\"\n",
    "d_newNames[\"Russian Federation\"] = \"Russia\"\n",
    "d_newNames[\"Perm(Russian Federation)\"] = \"Russia\"\n",
    "d_newNames[\"Hong Kong-China\"] = \"Hong Kong\"\n",
    "d_newNames[\"China-Shanghai\"] = \"China\"\n",
    "d_newNames[\"Macau\"] = \"Macau\"\n",
    "d_newNames[\"Connecticut (USA)\"] = \"USA\"\n",
    "d_newNames[\"Florida (USA)\"] = \"USA\"\n",
    "d_newNames[\"Massachusetts (USA)\"] = \"USA\"\n",
    "d_newNames[\"United States of America\"] = \"USA\"\n",
    "df.CNT1 = None\n",
    "df.CNT1 = df.CNT.apply(lambda x: d_newNames[x])"
   ]
  },
  {
   "cell_type": "code",
   "execution_count": 11,
   "metadata": {
    "collapsed": false
   },
   "outputs": [
    {
     "name": "stdout",
     "output_type": "stream",
     "text": [
      "Number of Rows: 485490\n",
      "Number of Countries in the dataset: 64\n"
     ]
    }
   ],
   "source": [
    "print \"Number of Rows: {}\".format(df.shape[0])\n",
    "print \"Number of Countries in the dataset: {}\".format(len(df.CNT.unique()))"
   ]
  },
  {
   "cell_type": "markdown",
   "metadata": {},
   "source": [
    "###Also, I would like to use Gini Index in my visualizations...maybe I could change the color of the countries by it"
   ]
  },
  {
   "cell_type": "markdown",
   "metadata": {},
   "source": [
    "Here is how it would be done in R\n",
    "<code>\n",
    "    > repGINI = vars %>%\n",
    "    +         group_by(CNT, SUBJECT) %>%\n",
    "    +         summarise_each(funs(Gini( (./sum(.)) * SCORE)), \n",
    "    +                        contains('W_FSTR')) %>%\n",
    "    +         melt(id=c('CNT', 'SUBJECT'), variable.name='REPNAME', \n",
    "    +              value.name='GINI')\n",
    "</code>"
   ]
  },
  {
   "cell_type": "markdown",
   "metadata": {
    "collapsed": true
   },
   "source": [
    "Think better, I will calculate it using R.... I guess that it would be faster."
   ]
  },
  {
   "cell_type": "code",
   "execution_count": 44,
   "metadata": {
    "collapsed": false
   },
   "outputs": [
    {
     "name": "stdout",
     "output_type": "stream",
     "text": [
      "estou na linha 0\n",
      "estou na linha 50000\n",
      "estou na linha 100000\n",
      "estou na linha 150000\n",
      "estou na linha 200000\n",
      "estou na linha 250000\n",
      "estou na linha 300000\n",
      "estou na linha 350000\n",
      "estou na linha 400000\n",
      "estou na linha 450000\n",
      "estou na linha 485489\n",
      "CPU times: user 2min 21s, sys: 3.59 s, total: 2min 25s\n",
      "Wall time: 2min 25s\n"
     ]
    }
   ],
   "source": [
    "l_test = [\"CNT\",\"SUBNATIO\",\"STRATUM\",\"OECD\",\"NC\",\"SCHOOLID\",\"STIDSTD\",\"PV1MATH\",\"PV2MATH\",\"PV3MATH\",\"PV4MATH\",\"PV5MATH\",\"PV1READ\",\"PV2READ\",\"PV3READ\",\"PV4READ\",\"PV5READ\",\"PV1SCIE\",\"PV2SCIE\",\"PV3SCIE\",\"PV4SCIE\",\"PV5SCIE\",\"W_FSTUWT\"]\n",
    "%time d_data = getData(s_name, l_test)"
   ]
  },
  {
   "cell_type": "code",
   "execution_count": 45,
   "metadata": {
    "collapsed": true
   },
   "outputs": [],
   "source": [
    "df =  pd.DataFrame(d_data)"
   ]
  },
  {
   "cell_type": "code",
   "execution_count": null,
   "metadata": {
    "collapsed": false
   },
   "outputs": [],
   "source": []
  },
  {
   "cell_type": "code",
   "execution_count": 36,
   "metadata": {
    "collapsed": false
   },
   "outputs": [
    {
     "data": {
      "text/html": [
       "<div>\n",
       "<table border=\"1\" class=\"dataframe\">\n",
       "  <thead>\n",
       "    <tr style=\"text-align: right;\">\n",
       "      <th></th>\n",
       "      <th>CNT</th>\n",
       "      <th>NC</th>\n",
       "      <th>OECD</th>\n",
       "      <th>PV1MATH</th>\n",
       "      <th>PV1READ</th>\n",
       "      <th>PV1SCIE</th>\n",
       "      <th>PV2MATH</th>\n",
       "      <th>PV2READ</th>\n",
       "      <th>PV2SCIE</th>\n",
       "      <th>PV3MATH</th>\n",
       "      <th>...</th>\n",
       "      <th>PV4READ</th>\n",
       "      <th>PV4SCIE</th>\n",
       "      <th>PV5MATH</th>\n",
       "      <th>PV5READ</th>\n",
       "      <th>PV5SCIE</th>\n",
       "      <th>SCHOOLID</th>\n",
       "      <th>STIDSTD</th>\n",
       "      <th>STRATUM</th>\n",
       "      <th>SUBNATIO</th>\n",
       "      <th>W_FSTUWT</th>\n",
       "    </tr>\n",
       "  </thead>\n",
       "  <tbody>\n",
       "    <tr>\n",
       "      <th>0</th>\n",
       "      <td>Albania</td>\n",
       "      <td>Albania</td>\n",
       "      <td>Non-OECD</td>\n",
       "      <td>406.8469</td>\n",
       "      <td>249.5762</td>\n",
       "      <td>None</td>\n",
       "      <td>376.4683</td>\n",
       "      <td>254.342</td>\n",
       "      <td>408.84</td>\n",
       "      <td>344.5319</td>\n",
       "      <td>...</td>\n",
       "      <td>175.7053</td>\n",
       "      <td>367.8105</td>\n",
       "      <td>381.9209</td>\n",
       "      <td>218.5981</td>\n",
       "      <td>392.9877</td>\n",
       "      <td>0000001</td>\n",
       "      <td>00001</td>\n",
       "      <td>ALB0006</td>\n",
       "      <td>0080000</td>\n",
       "      <td>8.9096</td>\n",
       "    </tr>\n",
       "    <tr>\n",
       "      <th>1</th>\n",
       "      <td>Albania</td>\n",
       "      <td>Albania</td>\n",
       "      <td>Non-OECD</td>\n",
       "      <td>486.1427</td>\n",
       "      <td>406.2936</td>\n",
       "      <td>None</td>\n",
       "      <td>464.3325</td>\n",
       "      <td>349.8975</td>\n",
       "      <td>471.5964</td>\n",
       "      <td>453.4273</td>\n",
       "      <td>...</td>\n",
       "      <td>369.7553</td>\n",
       "      <td>443.6218</td>\n",
       "      <td>476.0165</td>\n",
       "      <td>396.7618</td>\n",
       "      <td>454.8116</td>\n",
       "      <td>0000001</td>\n",
       "      <td>00002</td>\n",
       "      <td>ALB0006</td>\n",
       "      <td>0080000</td>\n",
       "      <td>8.9096</td>\n",
       "    </tr>\n",
       "    <tr>\n",
       "      <th>2</th>\n",
       "      <td>Albania</td>\n",
       "      <td>Albania</td>\n",
       "      <td>Non-OECD</td>\n",
       "      <td>533.2684</td>\n",
       "      <td>401.21</td>\n",
       "      <td>None</td>\n",
       "      <td>481.0796</td>\n",
       "      <td>404.3872</td>\n",
       "      <td>428.7952</td>\n",
       "      <td>489.6479</td>\n",
       "      <td>...</td>\n",
       "      <td>431.3938</td>\n",
       "      <td>512.7191</td>\n",
       "      <td>533.2684</td>\n",
       "      <td>401.21</td>\n",
       "      <td>499.6643</td>\n",
       "      <td>0000001</td>\n",
       "      <td>00003</td>\n",
       "      <td>ALB0006</td>\n",
       "      <td>0080000</td>\n",
       "      <td>8.4871</td>\n",
       "    </tr>\n",
       "    <tr>\n",
       "      <th>3</th>\n",
       "      <td>Albania</td>\n",
       "      <td>Albania</td>\n",
       "      <td>Non-OECD</td>\n",
       "      <td>412.2215</td>\n",
       "      <td>547.363</td>\n",
       "      <td>None</td>\n",
       "      <td>498.6836</td>\n",
       "      <td>481.4353</td>\n",
       "      <td>481.574</td>\n",
       "      <td>415.3373</td>\n",
       "      <td>...</td>\n",
       "      <td>425.0393</td>\n",
       "      <td>474.1141</td>\n",
       "      <td>454.2842</td>\n",
       "      <td>471.9036</td>\n",
       "      <td>426.5573</td>\n",
       "      <td>0000001</td>\n",
       "      <td>00004</td>\n",
       "      <td>ALB0006</td>\n",
       "      <td>0080000</td>\n",
       "      <td>8.4871</td>\n",
       "    </tr>\n",
       "    <tr>\n",
       "      <th>4</th>\n",
       "      <td>Albania</td>\n",
       "      <td>Albania</td>\n",
       "      <td>Non-OECD</td>\n",
       "      <td>381.9209</td>\n",
       "      <td>311.7707</td>\n",
       "      <td>None</td>\n",
       "      <td>328.1742</td>\n",
       "      <td>141.7883</td>\n",
       "      <td>275.774</td>\n",
       "      <td>403.7311</td>\n",
       "      <td>...</td>\n",
       "      <td>272.8495</td>\n",
       "      <td>403.5248</td>\n",
       "      <td>395.1628</td>\n",
       "      <td>260.1405</td>\n",
       "      <td>422.1746</td>\n",
       "      <td>0000001</td>\n",
       "      <td>00005</td>\n",
       "      <td>ALB0006</td>\n",
       "      <td>0080000</td>\n",
       "      <td>8.4871</td>\n",
       "    </tr>\n",
       "  </tbody>\n",
       "</table>\n",
       "<p>5 rows × 23 columns</p>\n",
       "</div>"
      ],
      "text/plain": [
       "       CNT       NC      OECD   PV1MATH   PV1READ PV1SCIE    PV2MATH  \\\n",
       "0  Albania  Albania  Non-OECD  406.8469  249.5762     None  376.4683   \n",
       "1  Albania  Albania  Non-OECD  486.1427  406.2936     None  464.3325   \n",
       "2  Albania  Albania  Non-OECD  533.2684    401.21     None  481.0796   \n",
       "3  Albania  Albania  Non-OECD  412.2215   547.363     None  498.6836   \n",
       "4  Albania  Albania  Non-OECD  381.9209  311.7707     None  328.1742   \n",
       "\n",
       "    PV2READ   PV2SCIE   PV3MATH   ...      PV4READ   PV4SCIE   PV5MATH  \\\n",
       "0   254.342    408.84  344.5319   ...     175.7053  367.8105  381.9209   \n",
       "1  349.8975  471.5964  453.4273   ...     369.7553  443.6218  476.0165   \n",
       "2  404.3872  428.7952  489.6479   ...     431.3938  512.7191  533.2684   \n",
       "3  481.4353   481.574  415.3373   ...     425.0393  474.1141  454.2842   \n",
       "4  141.7883   275.774  403.7311   ...     272.8495  403.5248  395.1628   \n",
       "\n",
       "    PV5READ   PV5SCIE SCHOOLID STIDSTD  STRATUM SUBNATIO W_FSTUWT  \n",
       "0  218.5981  392.9877  0000001   00001  ALB0006  0080000   8.9096  \n",
       "1  396.7618  454.8116  0000001   00002  ALB0006  0080000   8.9096  \n",
       "2    401.21  499.6643  0000001   00003  ALB0006  0080000   8.4871  \n",
       "3  471.9036  426.5573  0000001   00004  ALB0006  0080000   8.4871  \n",
       "4  260.1405  422.1746  0000001   00005  ALB0006  0080000   8.4871  \n",
       "\n",
       "[5 rows x 23 columns]"
      ]
     },
     "execution_count": 36,
     "metadata": {},
     "output_type": "execute_result"
    }
   ],
   "source": [
    "df.head()"
   ]
  },
  {
   "cell_type": "code",
   "execution_count": 38,
   "metadata": {
    "collapsed": false
   },
   "outputs": [
    {
     "data": {
      "text/plain": [
       "485490"
      ]
     },
     "execution_count": 38,
     "metadata": {},
     "output_type": "execute_result"
    }
   ],
   "source": [
    "len(df.ix[:,['CNT', 'SUBNATIO', 'STRATUM', 'OECD', 'NC','SCHOOLID', 'STIDSTD', 'W_FSTUWT']].values)"
   ]
  },
  {
   "cell_type": "code",
   "execution_count": 39,
   "metadata": {
    "collapsed": false
   },
   "outputs": [
    {
     "data": {
      "text/plain": [
       "485490"
      ]
     },
     "execution_count": 39,
     "metadata": {},
     "output_type": "execute_result"
    }
   ],
   "source": [
    "len(df.index)"
   ]
  },
  {
   "cell_type": "code",
   "execution_count": null,
   "metadata": {
    "collapsed": false
   },
   "outputs": [],
   "source": []
  },
  {
   "cell_type": "code",
   "execution_count": 46,
   "metadata": {
    "collapsed": true
   },
   "outputs": [],
   "source": [
    "df_aux = df.copy()"
   ]
  },
  {
   "cell_type": "code",
   "execution_count": 48,
   "metadata": {
    "collapsed": false
   },
   "outputs": [],
   "source": [
    "df.index = [df.CNT, df.SUBNATIO, df.STRATUM, df.OECD, df.NC, df.SCHOOLID, df.STIDSTD, df.W_FSTUWT]"
   ]
  },
  {
   "cell_type": "code",
   "execution_count": 49,
   "metadata": {
    "collapsed": false
   },
   "outputs": [],
   "source": [
    "df.drop(['CNT', 'SUBNATIO', 'STRATUM', 'OECD', 'NC','SCHOOLID', 'STIDSTD', 'W_FSTUWT'], inplace=True, axis=1)"
   ]
  },
  {
   "cell_type": "code",
   "execution_count": 51,
   "metadata": {
    "collapsed": false
   },
   "outputs": [],
   "source": [
    "df_aux = df.stack()"
   ]
  },
  {
   "cell_type": "code",
   "execution_count": 52,
   "metadata": {
    "collapsed": false
   },
   "outputs": [
    {
     "data": {
      "text/plain": [
       "(7282350,)"
      ]
     },
     "execution_count": 52,
     "metadata": {},
     "output_type": "execute_result"
    }
   ],
   "source": [
    "df_aux.shape"
   ]
  },
  {
   "cell_type": "markdown",
   "metadata": {
    "collapsed": true
   },
   "source": [
    "###Wait a minute... this Gini coefficient is about inequality in the Data...not economically. Let's do it in another way. I want the GDP per capita from this countries...in 2012\n",
    "\n",
    "I found a source about GDP in OCDE website...nice. The data is in dollars."
   ]
  },
  {
   "cell_type": "code",
   "execution_count": 368,
   "metadata": {
    "collapsed": false
   },
   "outputs": [],
   "source": [
    "s_gdp = \"data/OCDE_GDP_percapta.csv\""
   ]
  },
  {
   "cell_type": "code",
   "execution_count": 369,
   "metadata": {
    "collapsed": false
   },
   "outputs": [
    {
     "data": {
      "text/html": [
       "<div>\n",
       "<table border=\"1\" class=\"dataframe\">\n",
       "  <thead>\n",
       "    <tr style=\"text-align: right;\">\n",
       "      <th></th>\n",
       "      <th>country</th>\n",
       "      <th>Year</th>\n",
       "      <th>Source</th>\n",
       "      <th>Year of reference</th>\n",
       "      <th>Per capita GDP</th>\n",
       "    </tr>\n",
       "  </thead>\n",
       "  <tbody>\n",
       "    <tr>\n",
       "      <th>96</th>\n",
       "      <td>Tunisia</td>\n",
       "      <td>PISA 2012</td>\n",
       "      <td>c</td>\n",
       "      <td>2010</td>\n",
       "      <td>9409.766550</td>\n",
       "    </tr>\n",
       "    <tr>\n",
       "      <th>97</th>\n",
       "      <td>United Arab Emirates</td>\n",
       "      <td>PISA 2012</td>\n",
       "      <td>d</td>\n",
       "      <td>2010</td>\n",
       "      <td>46915.900070</td>\n",
       "    </tr>\n",
       "    <tr>\n",
       "      <th>98</th>\n",
       "      <td>Uruguay</td>\n",
       "      <td>PISA 2012</td>\n",
       "      <td>c</td>\n",
       "      <td>2010</td>\n",
       "      <td>14003.932110</td>\n",
       "    </tr>\n",
       "    <tr>\n",
       "      <th>99</th>\n",
       "      <td>Viet Nam</td>\n",
       "      <td>PISA 2012</td>\n",
       "      <td>c</td>\n",
       "      <td>2010</td>\n",
       "      <td>4097.937464</td>\n",
       "    </tr>\n",
       "    <tr>\n",
       "      <th>100</th>\n",
       "      <td>Liechtenstein</td>\n",
       "      <td>PISA 2012</td>\n",
       "      <td>c</td>\n",
       "      <td>2010</td>\n",
       "      <td>NaN</td>\n",
       "    </tr>\n",
       "  </tbody>\n",
       "</table>\n",
       "</div>"
      ],
      "text/plain": [
       "                  country       Year Source  Year of reference  Per capita GDP\n",
       "96                Tunisia  PISA 2012      c               2010     9409.766550\n",
       "97   United Arab Emirates  PISA 2012      d               2010    46915.900070\n",
       "98                Uruguay  PISA 2012      c               2010    14003.932110\n",
       "99               Viet Nam  PISA 2012      c               2010     4097.937464\n",
       "100         Liechtenstein  PISA 2012      c               2010             NaN"
      ]
     },
     "execution_count": 369,
     "metadata": {},
     "output_type": "execute_result"
    }
   ],
   "source": [
    "df_gdp = pd.read_csv(s_gdp, sep = \"\\t\")\n",
    "df_gdp.tail()"
   ]
  },
  {
   "cell_type": "code",
   "execution_count": 370,
   "metadata": {
    "collapsed": false
   },
   "outputs": [
    {
     "data": {
      "image/png": "[encoded data removed]",
      "text/plain": [
       "<matplotlib.figure.Figure at 0x12263c310>"
      ]
     },
     "metadata": {},
     "output_type": "display_data"
    }
   ],
   "source": [
    "ax = df_gdp[\"Per capita GDP\"].hist(bins = 15);\n",
    "ax.set_title(\"Distribution of GDP per capta\\n\");"
   ]
  },
  {
   "cell_type": "markdown",
   "metadata": {
    "collapsed": true
   },
   "source": [
    "###Ok, I'm not sure if it is what I want. I would like to stratify people into social status. Let's see how is distributed the feature _ESCS_, that is about Index of economic, social and cultural status"
   ]
  },
  {
   "cell_type": "code",
   "execution_count": 264,
   "metadata": {
    "collapsed": false
   },
   "outputs": [
    {
     "name": "stdout",
     "output_type": "stream",
     "text": [
      "estou na linha 0\n",
      "estou na linha 50000\n",
      "estou na linha 100000\n",
      "estou na linha 150000\n",
      "estou na linha 200000\n",
      "estou na linha 250000\n",
      "estou na linha 300000\n",
      "estou na linha 350000\n",
      "estou na linha 400000\n",
      "estou na linha 450000\n",
      "estou na linha 485489\n",
      "CPU times: user 2min 19s, sys: 599 ms, total: 2min 19s\n",
      "Wall time: 2min 19s\n"
     ]
    }
   ],
   "source": [
    "l_test = [\"CNT\",\"ESCS\",\"STIDSTD\",\"PV1MATH\",\"PV1READ\",\"PV1SCIE\",\"BELONG\", \"OUTHOURS\", \"ST28Q01\", \"ST57Q01\"]\n",
    "%time d_data = getData(s_name, l_test)"
   ]
  },
  {
   "cell_type": "code",
   "execution_count": 267,
   "metadata": {
    "collapsed": false
   },
   "outputs": [],
   "source": [
    "df = pd.DataFrame(d_data)"
   ]
  },
  {
   "cell_type": "code",
   "execution_count": 268,
   "metadata": {
    "collapsed": false
   },
   "outputs": [
    {
     "data": {
      "text/html": [
       "<div>\n",
       "<table border=\"1\" class=\"dataframe\">\n",
       "  <thead>\n",
       "    <tr style=\"text-align: right;\">\n",
       "      <th></th>\n",
       "      <th>BELONG</th>\n",
       "      <th>CNT</th>\n",
       "      <th>ESCS</th>\n",
       "      <th>OUTHOURS</th>\n",
       "      <th>PV1MATH</th>\n",
       "      <th>PV1READ</th>\n",
       "      <th>PV1SCIE</th>\n",
       "      <th>ST28Q01</th>\n",
       "      <th>ST57Q01</th>\n",
       "      <th>STIDSTD</th>\n",
       "    </tr>\n",
       "  </thead>\n",
       "  <tbody>\n",
       "    <tr>\n",
       "      <th>0</th>\n",
       "      <td>-1.18</td>\n",
       "      <td>Albania</td>\n",
       "      <td>NA</td>\n",
       "      <td>NA</td>\n",
       "      <td>406.8469</td>\n",
       "      <td>249.5762</td>\n",
       "      <td>341.7009</td>\n",
       "      <td>0-10 books</td>\n",
       "      <td>NA</td>\n",
       "      <td>00001</td>\n",
       "    </tr>\n",
       "    <tr>\n",
       "      <th>1</th>\n",
       "      <td>NA</td>\n",
       "      <td>Albania</td>\n",
       "      <td>NA</td>\n",
       "      <td>8</td>\n",
       "      <td>486.1427</td>\n",
       "      <td>406.2936</td>\n",
       "      <td>548.9929</td>\n",
       "      <td>201-500 books</td>\n",
       "      <td>NA</td>\n",
       "      <td>00002</td>\n",
       "    </tr>\n",
       "    <tr>\n",
       "      <th>2</th>\n",
       "      <td>NA</td>\n",
       "      <td>Albania</td>\n",
       "      <td>NA</td>\n",
       "      <td>24</td>\n",
       "      <td>533.2684</td>\n",
       "      <td>401.21</td>\n",
       "      <td>499.6643</td>\n",
       "      <td>More than 500 books</td>\n",
       "      <td>NA</td>\n",
       "      <td>00003</td>\n",
       "    </tr>\n",
       "    <tr>\n",
       "      <th>3</th>\n",
       "      <td>NA</td>\n",
       "      <td>Albania</td>\n",
       "      <td>NA</td>\n",
       "      <td>17</td>\n",
       "      <td>412.2215</td>\n",
       "      <td>547.363</td>\n",
       "      <td>438.6796</td>\n",
       "      <td>11-25 books</td>\n",
       "      <td>10</td>\n",
       "      <td>00004</td>\n",
       "    </tr>\n",
       "    <tr>\n",
       "      <th>4</th>\n",
       "      <td>2.63</td>\n",
       "      <td>Albania</td>\n",
       "      <td>NA</td>\n",
       "      <td>NA</td>\n",
       "      <td>381.9209</td>\n",
       "      <td>311.7707</td>\n",
       "      <td>361.5628</td>\n",
       "      <td>101-200 books</td>\n",
       "      <td>NA</td>\n",
       "      <td>00005</td>\n",
       "    </tr>\n",
       "  </tbody>\n",
       "</table>\n",
       "</div>"
      ],
      "text/plain": [
       "  BELONG      CNT ESCS OUTHOURS   PV1MATH   PV1READ   PV1SCIE  \\\n",
       "0  -1.18  Albania   NA       NA  406.8469  249.5762  341.7009   \n",
       "1     NA  Albania   NA        8  486.1427  406.2936  548.9929   \n",
       "2     NA  Albania   NA       24  533.2684    401.21  499.6643   \n",
       "3     NA  Albania   NA       17  412.2215   547.363  438.6796   \n",
       "4   2.63  Albania   NA       NA  381.9209  311.7707  361.5628   \n",
       "\n",
       "               ST28Q01 ST57Q01 STIDSTD  \n",
       "0          0-10 books       NA   00001  \n",
       "1       201-500 books       NA   00002  \n",
       "2  More than 500 books      NA   00003  \n",
       "3         11-25 books       10   00004  \n",
       "4       101-200 books       NA   00005  "
      ]
     },
     "execution_count": 268,
     "metadata": {},
     "output_type": "execute_result"
    }
   ],
   "source": [
    "df.head()"
   ]
  },
  {
   "cell_type": "code",
   "execution_count": null,
   "metadata": {
    "collapsed": false
   },
   "outputs": [],
   "source": []
  },
  {
   "cell_type": "code",
   "execution_count": 276,
   "metadata": {
    "collapsed": false
   },
   "outputs": [],
   "source": [
    "df.ST57Q01[df.ST57Q01==\"NA\"]=None\n",
    "df.ST57Q01 = df.ST57Q01.astype(float)"
   ]
  },
  {
   "cell_type": "code",
   "execution_count": null,
   "metadata": {
    "collapsed": false
   },
   "outputs": [],
   "source": []
  },
  {
   "cell_type": "code",
   "execution_count": 234,
   "metadata": {
    "collapsed": false
   },
   "outputs": [],
   "source": [
    "df.ESCS[df.ESCS==\"NA\"]=None\n",
    "df.ESCS = df.ESCS.astype(float)"
   ]
  },
  {
   "cell_type": "code",
   "execution_count": 88,
   "metadata": {
    "collapsed": false
   },
   "outputs": [
    {
     "data": {
      "image/png": "[encoded data removed]",
      "text/plain": [
       "<matplotlib.figure.Figure at 0x14c0e2510>"
      ]
     },
     "metadata": {},
     "output_type": "display_data"
    }
   ],
   "source": [
    "ax = df.ESCS.hist(bins = 20);\n",
    "ax.set_title(\"Distribution of Index of economic, social and cultural status\\n\");"
   ]
  },
  {
   "cell_type": "markdown",
   "metadata": {},
   "source": [
    "###Curious.... how it is correlated with Math scores? And how the scores are distributed?"
   ]
  },
  {
   "cell_type": "code",
   "execution_count": 235,
   "metadata": {
    "collapsed": false
   },
   "outputs": [],
   "source": [
    "df.PV1MATH = df.PV1MATH.astype(float)"
   ]
  },
  {
   "cell_type": "code",
   "execution_count": 90,
   "metadata": {
    "collapsed": false
   },
   "outputs": [
    {
     "data": {
      "image/png": "[encoded data removed]",
      "text/plain": [
       "<matplotlib.figure.Figure at 0x111d1aad0>"
      ]
     },
     "metadata": {},
     "output_type": "display_data"
    }
   ],
   "source": [
    "g = sns.jointplot(\"ESCS\", \"PV1MATH\", data=df, kind=\"reg\",\n",
    " size=6)"
   ]
  },
  {
   "cell_type": "markdown",
   "metadata": {},
   "source": [
    "Curious....the Math Score has a bell-nice-looking shape"
   ]
  },
  {
   "cell_type": "markdown",
   "metadata": {},
   "source": [
    "###There is too much data here.... I don't know if I can plot all this data using D3. Maybe I should group it in some way....Besides that, This chart is too cluttered...."
   ]
  },
  {
   "cell_type": "markdown",
   "metadata": {},
   "source": [
    "###Know what....let's see if I just classify each point by its country's GDP per capta. First, I need to identify the GDP for each country"
   ]
  },
  {
   "cell_type": "markdown",
   "metadata": {},
   "source": [
    "what countries from the dataset does not appear in GDP dataframe"
   ]
  },
  {
   "cell_type": "code",
   "execution_count": 371,
   "metadata": {
    "collapsed": false
   },
   "outputs": [],
   "source": [
    "df_gdp = df_gdp.loc[df_gdp[\"Year\"]==\"PISA 2012\"]"
   ]
  },
  {
   "cell_type": "code",
   "execution_count": 372,
   "metadata": {
    "collapsed": false
   },
   "outputs": [],
   "source": [
    "l = [x for x in list(df.CNT) if x not in  list(df_gdp.country)] "
   ]
  },
  {
   "cell_type": "code",
   "execution_count": 373,
   "metadata": {
    "collapsed": false
   },
   "outputs": [
    {
     "data": {
      "text/plain": [
       "{'China-Shanghai',\n",
       " 'Connecticut (USA)',\n",
       " 'Florida (USA)',\n",
       " 'Hong Kong-China',\n",
       " 'Macao-China',\n",
       " 'Massachusetts (USA)',\n",
       " 'Norway',\n",
       " 'Perm(Russian Federation)',\n",
       " 'United States of America',\n",
       " 'Vietnam'}"
      ]
     },
     "execution_count": 373,
     "metadata": {},
     "output_type": "execute_result"
    }
   ],
   "source": [
    "set(l)"
   ]
  },
  {
   "cell_type": "markdown",
   "metadata": {},
   "source": [
    "Now, what is in GDP dataset that does not appear in my dataset"
   ]
  },
  {
   "cell_type": "code",
   "execution_count": 239,
   "metadata": {
    "collapsed": false
   },
   "outputs": [
    {
     "data": {
      "text/plain": [
       "{'Cyprus2, 3',\n",
       " 'Hong Kong - China',\n",
       " 'Macao - China',\n",
       " 'Norway1',\n",
       " 'OECD average',\n",
       " 'Shanghai - China',\n",
       " 'United States',\n",
       " 'Viet Nam'}"
      ]
     },
     "execution_count": 239,
     "metadata": {},
     "output_type": "execute_result"
    }
   ],
   "source": [
    "l = [x for x in  list(df_gdp.country) if x not in   list(df.CNT)] \n",
    "set(l)"
   ]
  },
  {
   "cell_type": "markdown",
   "metadata": {},
   "source": [
    "Ok...let's map what is missing"
   ]
  },
  {
   "cell_type": "code",
   "execution_count": 374,
   "metadata": {
    "collapsed": true
   },
   "outputs": [],
   "source": [
    "def rename_contries(l_names):\n",
    "    \"\"\"\n",
    "    rename the name of each string in a list by names pre-selected\n",
    "    inside the function. Return a new list with the names modifieds\n",
    "    \"\"\"\n",
    "    set_names = set(l_names)\n",
    "    b=[x.strip() for x in set_names]\n",
    "    d_newNames = dict(zip(b,b))\n",
    "    l2 = [\"UAE\", \"UK\", \"Serbia\", \"South Korea\", \"Taiwan\", \"Slovakia\", \"Russia\", \n",
    "          \"Russia\", \"Hong Kong\",\"China\", \"Macau\", \"USA\", \"USA\",\"USA\", \"USA\",\n",
    "          \"Vietnam\", \"Macau\", \"Hong Kong\",\"China\", \"Norway\", \"USA\",\"Macau\"]\n",
    "    \n",
    "    l1 = [\"United Arab Emirates\",\"United Kingdom\",\"Serbia\",\"Korea\",\"Chinese Taipei\",\n",
    "          \"Slovak Republic\",\"Russian Federation\",\"Perm(Russian Federation)\",\n",
    "          \"Hong Kong-China\", \"China-Shanghai\",\"Macau\",\"Connecticut (USA)\",\"Florida (USA)\",\n",
    "          \"Massachusetts (USA)\", \"United States of America\", \"Viet Nam\", \"Macao - China\",\n",
    "         \"Hong Kong - China\", \"Shanghai - China\", \"Norway1\", 'United States', 'Macao-China']\n",
    "    for s1, s2 in zip(l1,l2):\n",
    "        if s1 in set_names:\n",
    "           d_newNames[s1] = s2\n",
    "    \n",
    "    l_rtn = [d_newNames[x] for x in l_names] \n",
    "    return l_rtn\n",
    "\n"
   ]
  },
  {
   "cell_type": "code",
   "execution_count": 375,
   "metadata": {
    "collapsed": false
   },
   "outputs": [
    {
     "data": {
      "text/html": [
       "<div>\n",
       "<table border=\"1\" class=\"dataframe\">\n",
       "  <thead>\n",
       "    <tr style=\"text-align: right;\">\n",
       "      <th></th>\n",
       "      <th>BELONG</th>\n",
       "      <th>CNT</th>\n",
       "      <th>ESCS</th>\n",
       "      <th>OUTHOURS</th>\n",
       "      <th>PV1MATH</th>\n",
       "      <th>PV1READ</th>\n",
       "      <th>PV1SCIE</th>\n",
       "      <th>ST28Q01</th>\n",
       "      <th>ST57Q01</th>\n",
       "      <th>STIDSTD</th>\n",
       "      <th>ST57Q01_bk</th>\n",
       "      <th>ESCS_bk</th>\n",
       "      <th>ESCS_bk2</th>\n",
       "      <th>CNT1</th>\n",
       "    </tr>\n",
       "  </thead>\n",
       "  <tbody>\n",
       "    <tr>\n",
       "      <th>0</th>\n",
       "      <td>-1.18</td>\n",
       "      <td>Albania</td>\n",
       "      <td>NaN</td>\n",
       "      <td>NA</td>\n",
       "      <td>406.8469</td>\n",
       "      <td>249.5762</td>\n",
       "      <td>341.7009</td>\n",
       "      <td>0-10 books</td>\n",
       "      <td>NaN</td>\n",
       "      <td>00001</td>\n",
       "      <td>NaN</td>\n",
       "      <td>NaN</td>\n",
       "      <td>NaN</td>\n",
       "      <td>None</td>\n",
       "    </tr>\n",
       "    <tr>\n",
       "      <th>1</th>\n",
       "      <td>NA</td>\n",
       "      <td>Albania</td>\n",
       "      <td>NaN</td>\n",
       "      <td>8</td>\n",
       "      <td>486.1427</td>\n",
       "      <td>406.2936</td>\n",
       "      <td>548.9929</td>\n",
       "      <td>201-500 books</td>\n",
       "      <td>NaN</td>\n",
       "      <td>00002</td>\n",
       "      <td>NaN</td>\n",
       "      <td>NaN</td>\n",
       "      <td>NaN</td>\n",
       "      <td>None</td>\n",
       "    </tr>\n",
       "    <tr>\n",
       "      <th>2</th>\n",
       "      <td>NA</td>\n",
       "      <td>Albania</td>\n",
       "      <td>NaN</td>\n",
       "      <td>24</td>\n",
       "      <td>533.2684</td>\n",
       "      <td>401.21</td>\n",
       "      <td>499.6643</td>\n",
       "      <td>More than 500 books</td>\n",
       "      <td>NaN</td>\n",
       "      <td>00003</td>\n",
       "      <td>NaN</td>\n",
       "      <td>NaN</td>\n",
       "      <td>NaN</td>\n",
       "      <td>None</td>\n",
       "    </tr>\n",
       "    <tr>\n",
       "      <th>3</th>\n",
       "      <td>NA</td>\n",
       "      <td>Albania</td>\n",
       "      <td>NaN</td>\n",
       "      <td>17</td>\n",
       "      <td>412.2215</td>\n",
       "      <td>547.363</td>\n",
       "      <td>438.6796</td>\n",
       "      <td>11-25 books</td>\n",
       "      <td>10</td>\n",
       "      <td>00004</td>\n",
       "      <td>(8, 10]</td>\n",
       "      <td>NaN</td>\n",
       "      <td>NaN</td>\n",
       "      <td>None</td>\n",
       "    </tr>\n",
       "    <tr>\n",
       "      <th>4</th>\n",
       "      <td>2.63</td>\n",
       "      <td>Albania</td>\n",
       "      <td>NaN</td>\n",
       "      <td>NA</td>\n",
       "      <td>381.9209</td>\n",
       "      <td>311.7707</td>\n",
       "      <td>361.5628</td>\n",
       "      <td>101-200 books</td>\n",
       "      <td>NaN</td>\n",
       "      <td>00005</td>\n",
       "      <td>NaN</td>\n",
       "      <td>NaN</td>\n",
       "      <td>NaN</td>\n",
       "      <td>None</td>\n",
       "    </tr>\n",
       "  </tbody>\n",
       "</table>\n",
       "</div>"
      ],
      "text/plain": [
       "  BELONG      CNT  ESCS OUTHOURS   PV1MATH   PV1READ   PV1SCIE  \\\n",
       "0  -1.18  Albania   NaN       NA  406.8469  249.5762  341.7009   \n",
       "1     NA  Albania   NaN        8  486.1427  406.2936  548.9929   \n",
       "2     NA  Albania   NaN       24  533.2684    401.21  499.6643   \n",
       "3     NA  Albania   NaN       17  412.2215   547.363  438.6796   \n",
       "4   2.63  Albania   NaN       NA  381.9209  311.7707  361.5628   \n",
       "\n",
       "               ST28Q01  ST57Q01 STIDSTD ST57Q01_bk ESCS_bk ESCS_bk2  CNT1  \n",
       "0          0-10 books       NaN   00001        NaN     NaN      NaN  None  \n",
       "1       201-500 books       NaN   00002        NaN     NaN      NaN  None  \n",
       "2  More than 500 books      NaN   00003        NaN     NaN      NaN  None  \n",
       "3         11-25 books        10   00004    (8, 10]     NaN      NaN  None  \n",
       "4       101-200 books       NaN   00005        NaN     NaN      NaN  None  "
      ]
     },
     "execution_count": 375,
     "metadata": {},
     "output_type": "execute_result"
    }
   ],
   "source": [
    "df[\"CNT1\"] = None\n",
    "df.head()"
   ]
  },
  {
   "cell_type": "code",
   "execution_count": 376,
   "metadata": {
    "collapsed": false,
    "scrolled": false
   },
   "outputs": [],
   "source": [
    "df[\"CNT1\"] = rename_contries(list(df.CNT))"
   ]
  },
  {
   "cell_type": "code",
   "execution_count": 377,
   "metadata": {
    "collapsed": false
   },
   "outputs": [
    {
     "data": {
      "text/html": [
       "<div>\n",
       "<table border=\"1\" class=\"dataframe\">\n",
       "  <thead>\n",
       "    <tr style=\"text-align: right;\">\n",
       "      <th></th>\n",
       "      <th>BELONG</th>\n",
       "      <th>CNT</th>\n",
       "      <th>ESCS</th>\n",
       "      <th>OUTHOURS</th>\n",
       "      <th>PV1MATH</th>\n",
       "      <th>PV1READ</th>\n",
       "      <th>PV1SCIE</th>\n",
       "      <th>ST28Q01</th>\n",
       "      <th>ST57Q01</th>\n",
       "      <th>STIDSTD</th>\n",
       "      <th>ST57Q01_bk</th>\n",
       "      <th>ESCS_bk</th>\n",
       "      <th>ESCS_bk2</th>\n",
       "      <th>CNT1</th>\n",
       "    </tr>\n",
       "  </thead>\n",
       "  <tbody>\n",
       "    <tr>\n",
       "      <th>0</th>\n",
       "      <td>-1.18</td>\n",
       "      <td>Albania</td>\n",
       "      <td>NaN</td>\n",
       "      <td>NA</td>\n",
       "      <td>406.8469</td>\n",
       "      <td>249.5762</td>\n",
       "      <td>341.7009</td>\n",
       "      <td>0-10 books</td>\n",
       "      <td>NaN</td>\n",
       "      <td>00001</td>\n",
       "      <td>NaN</td>\n",
       "      <td>NaN</td>\n",
       "      <td>NaN</td>\n",
       "      <td>Albania</td>\n",
       "    </tr>\n",
       "    <tr>\n",
       "      <th>1</th>\n",
       "      <td>NA</td>\n",
       "      <td>Albania</td>\n",
       "      <td>NaN</td>\n",
       "      <td>8</td>\n",
       "      <td>486.1427</td>\n",
       "      <td>406.2936</td>\n",
       "      <td>548.9929</td>\n",
       "      <td>201-500 books</td>\n",
       "      <td>NaN</td>\n",
       "      <td>00002</td>\n",
       "      <td>NaN</td>\n",
       "      <td>NaN</td>\n",
       "      <td>NaN</td>\n",
       "      <td>Albania</td>\n",
       "    </tr>\n",
       "    <tr>\n",
       "      <th>2</th>\n",
       "      <td>NA</td>\n",
       "      <td>Albania</td>\n",
       "      <td>NaN</td>\n",
       "      <td>24</td>\n",
       "      <td>533.2684</td>\n",
       "      <td>401.21</td>\n",
       "      <td>499.6643</td>\n",
       "      <td>More than 500 books</td>\n",
       "      <td>NaN</td>\n",
       "      <td>00003</td>\n",
       "      <td>NaN</td>\n",
       "      <td>NaN</td>\n",
       "      <td>NaN</td>\n",
       "      <td>Albania</td>\n",
       "    </tr>\n",
       "    <tr>\n",
       "      <th>3</th>\n",
       "      <td>NA</td>\n",
       "      <td>Albania</td>\n",
       "      <td>NaN</td>\n",
       "      <td>17</td>\n",
       "      <td>412.2215</td>\n",
       "      <td>547.363</td>\n",
       "      <td>438.6796</td>\n",
       "      <td>11-25 books</td>\n",
       "      <td>10</td>\n",
       "      <td>00004</td>\n",
       "      <td>(8, 10]</td>\n",
       "      <td>NaN</td>\n",
       "      <td>NaN</td>\n",
       "      <td>Albania</td>\n",
       "    </tr>\n",
       "    <tr>\n",
       "      <th>4</th>\n",
       "      <td>2.63</td>\n",
       "      <td>Albania</td>\n",
       "      <td>NaN</td>\n",
       "      <td>NA</td>\n",
       "      <td>381.9209</td>\n",
       "      <td>311.7707</td>\n",
       "      <td>361.5628</td>\n",
       "      <td>101-200 books</td>\n",
       "      <td>NaN</td>\n",
       "      <td>00005</td>\n",
       "      <td>NaN</td>\n",
       "      <td>NaN</td>\n",
       "      <td>NaN</td>\n",
       "      <td>Albania</td>\n",
       "    </tr>\n",
       "  </tbody>\n",
       "</table>\n",
       "</div>"
      ],
      "text/plain": [
       "  BELONG      CNT  ESCS OUTHOURS   PV1MATH   PV1READ   PV1SCIE  \\\n",
       "0  -1.18  Albania   NaN       NA  406.8469  249.5762  341.7009   \n",
       "1     NA  Albania   NaN        8  486.1427  406.2936  548.9929   \n",
       "2     NA  Albania   NaN       24  533.2684    401.21  499.6643   \n",
       "3     NA  Albania   NaN       17  412.2215   547.363  438.6796   \n",
       "4   2.63  Albania   NaN       NA  381.9209  311.7707  361.5628   \n",
       "\n",
       "               ST28Q01  ST57Q01 STIDSTD ST57Q01_bk ESCS_bk ESCS_bk2     CNT1  \n",
       "0          0-10 books       NaN   00001        NaN     NaN      NaN  Albania  \n",
       "1       201-500 books       NaN   00002        NaN     NaN      NaN  Albania  \n",
       "2  More than 500 books      NaN   00003        NaN     NaN      NaN  Albania  \n",
       "3         11-25 books        10   00004    (8, 10]     NaN      NaN  Albania  \n",
       "4       101-200 books       NaN   00005        NaN     NaN      NaN  Albania  "
      ]
     },
     "execution_count": 377,
     "metadata": {},
     "output_type": "execute_result"
    }
   ],
   "source": [
    "df.head()"
   ]
  },
  {
   "cell_type": "code",
   "execution_count": null,
   "metadata": {
    "collapsed": true
   },
   "outputs": [],
   "source": []
  },
  {
   "cell_type": "code",
   "execution_count": 378,
   "metadata": {
    "collapsed": false
   },
   "outputs": [
    {
     "data": {
      "text/html": [
       "<div>\n",
       "<table border=\"1\" class=\"dataframe\">\n",
       "  <thead>\n",
       "    <tr style=\"text-align: right;\">\n",
       "      <th></th>\n",
       "      <th>country</th>\n",
       "      <th>Year</th>\n",
       "      <th>Source</th>\n",
       "      <th>Year of reference</th>\n",
       "      <th>Per capita GDP</th>\n",
       "      <th>country1</th>\n",
       "    </tr>\n",
       "  </thead>\n",
       "  <tbody>\n",
       "    <tr>\n",
       "      <th>35</th>\n",
       "      <td>Australia</td>\n",
       "      <td>PISA 2012</td>\n",
       "      <td>b</td>\n",
       "      <td>2010</td>\n",
       "      <td>40801.34357</td>\n",
       "      <td>Australia</td>\n",
       "    </tr>\n",
       "    <tr>\n",
       "      <th>36</th>\n",
       "      <td>Austria</td>\n",
       "      <td>PISA 2012</td>\n",
       "      <td>b</td>\n",
       "      <td>2010</td>\n",
       "      <td>40410.79897</td>\n",
       "      <td>Austria</td>\n",
       "    </tr>\n",
       "    <tr>\n",
       "      <th>37</th>\n",
       "      <td>Belgium</td>\n",
       "      <td>PISA 2012</td>\n",
       "      <td>b</td>\n",
       "      <td>2010</td>\n",
       "      <td>37877.85105</td>\n",
       "      <td>Belgium</td>\n",
       "    </tr>\n",
       "    <tr>\n",
       "      <th>38</th>\n",
       "      <td>Canada</td>\n",
       "      <td>PISA 2012</td>\n",
       "      <td>b</td>\n",
       "      <td>2009</td>\n",
       "      <td>40135.59065</td>\n",
       "      <td>Canada</td>\n",
       "    </tr>\n",
       "    <tr>\n",
       "      <th>39</th>\n",
       "      <td>Chile</td>\n",
       "      <td>PISA 2012</td>\n",
       "      <td>b</td>\n",
       "      <td>2011</td>\n",
       "      <td>17311.55842</td>\n",
       "      <td>Chile</td>\n",
       "    </tr>\n",
       "  </tbody>\n",
       "</table>\n",
       "</div>"
      ],
      "text/plain": [
       "      country       Year Source  Year of reference  Per capita GDP   country1\n",
       "35  Australia  PISA 2012      b               2010     40801.34357  Australia\n",
       "36    Austria  PISA 2012      b               2010     40410.79897    Austria\n",
       "37    Belgium  PISA 2012      b               2010     37877.85105    Belgium\n",
       "38     Canada  PISA 2012      b               2009     40135.59065     Canada\n",
       "39      Chile  PISA 2012      b               2011     17311.55842      Chile"
      ]
     },
     "execution_count": 378,
     "metadata": {},
     "output_type": "execute_result"
    }
   ],
   "source": [
    "df_gdp[\"country1\"] = None\n",
    "df_gdp[\"country1\"] = rename_contries(list(df_gdp.country))\n",
    "df_gdp.head()\n"
   ]
  },
  {
   "cell_type": "code",
   "execution_count": 379,
   "metadata": {
    "collapsed": true
   },
   "outputs": [],
   "source": [
    "df_gdp.index = list(df_gdp.country1)"
   ]
  },
  {
   "cell_type": "code",
   "execution_count": 246,
   "metadata": {
    "collapsed": false
   },
   "outputs": [
    {
     "data": {
      "text/plain": [
       "{'Cyprus2, 3', 'OECD average'}"
      ]
     },
     "execution_count": 246,
     "metadata": {},
     "output_type": "execute_result"
    }
   ],
   "source": [
    "l = [x for x in  list(df_gdp.country1) if x not in   list(df[\"CNT1\"])] \n",
    "set(l)"
   ]
  },
  {
   "cell_type": "code",
   "execution_count": 247,
   "metadata": {
    "collapsed": false
   },
   "outputs": [
    {
     "data": {
      "text/plain": [
       "set()"
      ]
     },
     "execution_count": 247,
     "metadata": {},
     "output_type": "execute_result"
    }
   ],
   "source": [
    "l = [x for x in list(df[\"CNT1\"]) if x not in  list(df_gdp.country1)] \n",
    "set(l)"
   ]
  },
  {
   "cell_type": "markdown",
   "metadata": {},
   "source": [
    "Nice...all cleaned. Let's insert the GDP per capta to each country"
   ]
  },
  {
   "cell_type": "code",
   "execution_count": 248,
   "metadata": {
    "collapsed": true
   },
   "outputs": [],
   "source": [
    "df[\"perCaptaGDP\"]=None"
   ]
  },
  {
   "cell_type": "code",
   "execution_count": 249,
   "metadata": {
    "collapsed": false
   },
   "outputs": [
    {
     "data": {
      "text/html": [
       "<div>\n",
       "<table border=\"1\" class=\"dataframe\">\n",
       "  <thead>\n",
       "    <tr style=\"text-align: right;\">\n",
       "      <th></th>\n",
       "      <th>BELONG</th>\n",
       "      <th>CNT</th>\n",
       "      <th>ESCS</th>\n",
       "      <th>OUTHOURS</th>\n",
       "      <th>PV1MATH</th>\n",
       "      <th>PV1READ</th>\n",
       "      <th>PV1SCIE</th>\n",
       "      <th>ST28Q01</th>\n",
       "      <th>ST57Q01</th>\n",
       "      <th>STIDSTD</th>\n",
       "      <th>CNT1</th>\n",
       "      <th>perCaptaGDP</th>\n",
       "    </tr>\n",
       "  </thead>\n",
       "  <tbody>\n",
       "    <tr>\n",
       "      <th>0</th>\n",
       "      <td>-1.18</td>\n",
       "      <td>Albania</td>\n",
       "      <td>NaN</td>\n",
       "      <td>NA</td>\n",
       "      <td>406.8469</td>\n",
       "      <td>249.5762</td>\n",
       "      <td>341.7009</td>\n",
       "      <td>0-10 books</td>\n",
       "      <td>NA</td>\n",
       "      <td>00001</td>\n",
       "      <td>Albania</td>\n",
       "      <td>8630.994455</td>\n",
       "    </tr>\n",
       "    <tr>\n",
       "      <th>1</th>\n",
       "      <td>NA</td>\n",
       "      <td>Albania</td>\n",
       "      <td>NaN</td>\n",
       "      <td>8</td>\n",
       "      <td>486.1427</td>\n",
       "      <td>406.2936</td>\n",
       "      <td>548.9929</td>\n",
       "      <td>201-500 books</td>\n",
       "      <td>NA</td>\n",
       "      <td>00002</td>\n",
       "      <td>Albania</td>\n",
       "      <td>8630.994455</td>\n",
       "    </tr>\n",
       "    <tr>\n",
       "      <th>2</th>\n",
       "      <td>NA</td>\n",
       "      <td>Albania</td>\n",
       "      <td>NaN</td>\n",
       "      <td>24</td>\n",
       "      <td>533.2684</td>\n",
       "      <td>401.21</td>\n",
       "      <td>499.6643</td>\n",
       "      <td>More than 500 books</td>\n",
       "      <td>NA</td>\n",
       "      <td>00003</td>\n",
       "      <td>Albania</td>\n",
       "      <td>8630.994455</td>\n",
       "    </tr>\n",
       "    <tr>\n",
       "      <th>3</th>\n",
       "      <td>NA</td>\n",
       "      <td>Albania</td>\n",
       "      <td>NaN</td>\n",
       "      <td>17</td>\n",
       "      <td>412.2215</td>\n",
       "      <td>547.363</td>\n",
       "      <td>438.6796</td>\n",
       "      <td>11-25 books</td>\n",
       "      <td>10</td>\n",
       "      <td>00004</td>\n",
       "      <td>Albania</td>\n",
       "      <td>8630.994455</td>\n",
       "    </tr>\n",
       "    <tr>\n",
       "      <th>4</th>\n",
       "      <td>2.63</td>\n",
       "      <td>Albania</td>\n",
       "      <td>NaN</td>\n",
       "      <td>NA</td>\n",
       "      <td>381.9209</td>\n",
       "      <td>311.7707</td>\n",
       "      <td>361.5628</td>\n",
       "      <td>101-200 books</td>\n",
       "      <td>NA</td>\n",
       "      <td>00005</td>\n",
       "      <td>Albania</td>\n",
       "      <td>8630.994455</td>\n",
       "    </tr>\n",
       "  </tbody>\n",
       "</table>\n",
       "</div>"
      ],
      "text/plain": [
       "  BELONG      CNT  ESCS OUTHOURS   PV1MATH   PV1READ   PV1SCIE  \\\n",
       "0  -1.18  Albania   NaN       NA  406.8469  249.5762  341.7009   \n",
       "1     NA  Albania   NaN        8  486.1427  406.2936  548.9929   \n",
       "2     NA  Albania   NaN       24  533.2684    401.21  499.6643   \n",
       "3     NA  Albania   NaN       17  412.2215   547.363  438.6796   \n",
       "4   2.63  Albania   NaN       NA  381.9209  311.7707  361.5628   \n",
       "\n",
       "               ST28Q01 ST57Q01 STIDSTD     CNT1  perCaptaGDP  \n",
       "0          0-10 books       NA   00001  Albania  8630.994455  \n",
       "1       201-500 books       NA   00002  Albania  8630.994455  \n",
       "2  More than 500 books      NA   00003  Albania  8630.994455  \n",
       "3         11-25 books       10   00004  Albania  8630.994455  \n",
       "4       101-200 books       NA   00005  Albania  8630.994455  "
      ]
     },
     "execution_count": 249,
     "metadata": {},
     "output_type": "execute_result"
    }
   ],
   "source": [
    "df[\"perCaptaGDP\"]=None\n",
    "df[\"perCaptaGDP\"] = list(df_gdp.loc[df[\"CNT1\"]][\"Per capita GDP\"].values)\n",
    "df.head()"
   ]
  },
  {
   "cell_type": "code",
   "execution_count": 250,
   "metadata": {
    "collapsed": false
   },
   "outputs": [
    {
     "data": {
      "image/png": "[encoded data removed]",
      "text/plain": [
       "<matplotlib.figure.Figure at 0x111ddebd0>"
      ]
     },
     "metadata": {},
     "output_type": "display_data"
    }
   ],
   "source": [
    "ax = df.perCaptaGDP.hist(bins = 15);\n",
    "ax.set_title(\"Distrubution of GDP per capta\\n\");\n",
    "ax.set_xlabel(\"GDP\");"
   ]
  },
  {
   "cell_type": "markdown",
   "metadata": {},
   "source": [
    "###Ok....if I classify each data point by if its country has more than 20,000 of GDP per capta.... how it relates to the Math score"
   ]
  },
  {
   "cell_type": "code",
   "execution_count": 114,
   "metadata": {
    "collapsed": true
   },
   "outputs": [],
   "source": [
    "import matplotlib.pylab as plt"
   ]
  },
  {
   "cell_type": "code",
   "execution_count": 169,
   "metadata": {
    "collapsed": false
   },
   "outputs": [
    {
     "data": {
      "text/html": [
       "<div>\n",
       "<table border=\"1\" class=\"dataframe\">\n",
       "  <thead>\n",
       "    <tr style=\"text-align: right;\">\n",
       "      <th></th>\n",
       "      <th>BELONG</th>\n",
       "      <th>CNT</th>\n",
       "      <th>ESCS</th>\n",
       "      <th>OUTHOURS</th>\n",
       "      <th>PV1MATH</th>\n",
       "      <th>PV1READ</th>\n",
       "      <th>PV1SCIE</th>\n",
       "      <th>ST28Q01</th>\n",
       "      <th>STIDSTD</th>\n",
       "      <th>CNT1</th>\n",
       "      <th>perCaptaGDP</th>\n",
       "      <th>test</th>\n",
       "    </tr>\n",
       "  </thead>\n",
       "  <tbody>\n",
       "    <tr>\n",
       "      <th>0</th>\n",
       "      <td>-1.18</td>\n",
       "      <td>Albania</td>\n",
       "      <td>NaN</td>\n",
       "      <td>NA</td>\n",
       "      <td>406.8469</td>\n",
       "      <td>249.5762</td>\n",
       "      <td>341.7009</td>\n",
       "      <td>0-10 books</td>\n",
       "      <td>00001</td>\n",
       "      <td>Albania</td>\n",
       "      <td>8630.994455</td>\n",
       "      <td>False</td>\n",
       "    </tr>\n",
       "    <tr>\n",
       "      <th>1</th>\n",
       "      <td>NA</td>\n",
       "      <td>Albania</td>\n",
       "      <td>NaN</td>\n",
       "      <td>8</td>\n",
       "      <td>486.1427</td>\n",
       "      <td>406.2936</td>\n",
       "      <td>548.9929</td>\n",
       "      <td>201-500 books</td>\n",
       "      <td>00002</td>\n",
       "      <td>Albania</td>\n",
       "      <td>8630.994455</td>\n",
       "      <td>False</td>\n",
       "    </tr>\n",
       "    <tr>\n",
       "      <th>2</th>\n",
       "      <td>NA</td>\n",
       "      <td>Albania</td>\n",
       "      <td>NaN</td>\n",
       "      <td>24</td>\n",
       "      <td>533.2684</td>\n",
       "      <td>401.21</td>\n",
       "      <td>499.6643</td>\n",
       "      <td>More than 500 books</td>\n",
       "      <td>00003</td>\n",
       "      <td>Albania</td>\n",
       "      <td>8630.994455</td>\n",
       "      <td>False</td>\n",
       "    </tr>\n",
       "    <tr>\n",
       "      <th>3</th>\n",
       "      <td>NA</td>\n",
       "      <td>Albania</td>\n",
       "      <td>NaN</td>\n",
       "      <td>17</td>\n",
       "      <td>412.2215</td>\n",
       "      <td>547.363</td>\n",
       "      <td>438.6796</td>\n",
       "      <td>11-25 books</td>\n",
       "      <td>00004</td>\n",
       "      <td>Albania</td>\n",
       "      <td>8630.994455</td>\n",
       "      <td>False</td>\n",
       "    </tr>\n",
       "    <tr>\n",
       "      <th>4</th>\n",
       "      <td>2.63</td>\n",
       "      <td>Albania</td>\n",
       "      <td>NaN</td>\n",
       "      <td>NA</td>\n",
       "      <td>381.9209</td>\n",
       "      <td>311.7707</td>\n",
       "      <td>361.5628</td>\n",
       "      <td>101-200 books</td>\n",
       "      <td>00005</td>\n",
       "      <td>Albania</td>\n",
       "      <td>8630.994455</td>\n",
       "      <td>False</td>\n",
       "    </tr>\n",
       "  </tbody>\n",
       "</table>\n",
       "</div>"
      ],
      "text/plain": [
       "  BELONG      CNT  ESCS OUTHOURS   PV1MATH   PV1READ   PV1SCIE  \\\n",
       "0  -1.18  Albania   NaN       NA  406.8469  249.5762  341.7009   \n",
       "1     NA  Albania   NaN        8  486.1427  406.2936  548.9929   \n",
       "2     NA  Albania   NaN       24  533.2684    401.21  499.6643   \n",
       "3     NA  Albania   NaN       17  412.2215   547.363  438.6796   \n",
       "4   2.63  Albania   NaN       NA  381.9209  311.7707  361.5628   \n",
       "\n",
       "               ST28Q01 STIDSTD     CNT1  perCaptaGDP   test  \n",
       "0          0-10 books    00001  Albania  8630.994455  False  \n",
       "1       201-500 books    00002  Albania  8630.994455  False  \n",
       "2  More than 500 books   00003  Albania  8630.994455  False  \n",
       "3         11-25 books    00004  Albania  8630.994455  False  \n",
       "4       101-200 books    00005  Albania  8630.994455  False  "
      ]
     },
     "execution_count": 169,
     "metadata": {},
     "output_type": "execute_result"
    }
   ],
   "source": [
    "df[\"test\"]=None\n",
    "df[\"test\"] = df[\"perCaptaGDP\"]>20000\n",
    "df.head()"
   ]
  },
  {
   "cell_type": "code",
   "execution_count": 170,
   "metadata": {
    "collapsed": false
   },
   "outputs": [
    {
     "data": {
      "image/png": "[encoded data removed]",
      "text/plain": [
       "<matplotlib.figure.Figure at 0x19afeec50>"
      ]
     },
     "metadata": {},
     "output_type": "display_data"
    }
   ],
   "source": [
    "g = sns.FacetGrid(df, hue=\"test\", palette=\"Set1\", size = 4)\n",
    "\n",
    "g = (g.map(plt.scatter, \"ESCS\", \"PV1MATH\", alpha=.5).add_legend())"
   ]
  },
  {
   "cell_type": "markdown",
   "metadata": {},
   "source": [
    "it isn't good. Maybe if I plot in another way. Let's start by creating a boxplot"
   ]
  },
  {
   "cell_type": "code",
   "execution_count": 148,
   "metadata": {
    "collapsed": false
   },
   "outputs": [
    {
     "data": {
      "image/png": "[encoded data removed]",
      "text/plain": [
       "<matplotlib.figure.Figure at 0x10df72510>"
      ]
     },
     "metadata": {},
     "output_type": "display_data"
    }
   ],
   "source": [
    "g = sns.FacetGrid(df, size = 4)\n",
    "g.map(sns.boxplot, \"test\", \"PV1MATH\");"
   ]
  },
  {
   "cell_type": "markdown",
   "metadata": {},
   "source": [
    "The box plot is showing more the scatter...I am going to classify data by their decil in relation to theirs GDPs and compare when I do the same in relation to the social indicator"
   ]
  },
  {
   "cell_type": "code",
   "execution_count": 251,
   "metadata": {
    "collapsed": false
   },
   "outputs": [
    {
     "data": {
      "text/plain": [
       "BELONG         485490\n",
       "CNT            485490\n",
       "ESCS           473648\n",
       "OUTHOURS       485490\n",
       "PV1MATH        485490\n",
       "PV1READ        485490\n",
       "PV1SCIE        485490\n",
       "ST28Q01        485490\n",
       "ST57Q01        485490\n",
       "STIDSTD        485490\n",
       "CNT1           485490\n",
       "perCaptaGDP    485197\n",
       "gdp_bk         485197\n",
       "dtype: int64"
      ]
     },
     "execution_count": 251,
     "metadata": {},
     "output_type": "execute_result"
    }
   ],
   "source": [
    "df[\"gdp_bk\"] = None\n",
    "df[\"gdp_bk\"]  = pd.qcut(df.perCaptaGDP, q = 5)\n",
    "df.count()"
   ]
  },
  {
   "cell_type": "markdown",
   "metadata": {},
   "source": [
    "There are some data missing in perCaptaGDP"
   ]
  },
  {
   "cell_type": "code",
   "execution_count": 172,
   "metadata": {
    "collapsed": false
   },
   "outputs": [
    {
     "data": {
      "text/plain": [
       "array(['Liechtenstein'], dtype=object)"
      ]
     },
     "execution_count": 172,
     "metadata": {},
     "output_type": "execute_result"
    }
   ],
   "source": [
    "df.loc[pd.qcut(df.perCaptaGDP, q = 10).isnull()].CNT.unique()"
   ]
  },
  {
   "cell_type": "markdown",
   "metadata": {},
   "source": [
    "Ok, it is correct...let's plot it"
   ]
  },
  {
   "cell_type": "code",
   "execution_count": 201,
   "metadata": {
    "collapsed": false
   },
   "outputs": [
    {
     "data": {
      "text/plain": [
       "<matplotlib.axes._subplots.AxesSubplot at 0x142d65410>"
      ]
     },
     "execution_count": 201,
     "metadata": {},
     "output_type": "execute_result"
    },
    {
     "data": {
      "image/png": "[encoded data removed]",
      "text/plain": [
       "<matplotlib.figure.Figure at 0x12c9e0590>"
      ]
     },
     "metadata": {},
     "output_type": "display_data"
    }
   ],
   "source": [
    "sns.boxplot(\"gdp_bk\", \"PV1MATH\", data=df)"
   ]
  },
  {
   "cell_type": "markdown",
   "metadata": {},
   "source": [
    "###Intresting...let's see regarding to the social score...\n"
   ]
  },
  {
   "cell_type": "code",
   "execution_count": 307,
   "metadata": {
    "collapsed": false
   },
   "outputs": [
    {
     "name": "stderr",
     "output_type": "stream",
     "text": [
      "/Users/ucaiado/anaconda/lib/python2.7/site-packages/IPython/kernel/__main__.py:1: SettingWithCopyWarning: \n",
      "A value is trying to be set on a copy of a slice from a DataFrame\n",
      "\n",
      "See the the caveats in the documentation: http://pandas.pydata.org/pandas-docs/stable/indexing.html#indexing-view-versus-copy\n",
      "  if __name__ == '__main__':\n"
     ]
    },
    {
     "data": {
      "text/plain": [
       "BELONG        485490\n",
       "CNT           485490\n",
       "ESCS          473648\n",
       "OUTHOURS      485490\n",
       "PV1MATH       485490\n",
       "PV1READ       485490\n",
       "PV1SCIE       485490\n",
       "ST28Q01       485490\n",
       "ST57Q01       301367\n",
       "STIDSTD       485490\n",
       "ST57Q01_bk    290694\n",
       "ESCS_bk       473648\n",
       "dtype: int64"
      ]
     },
     "execution_count": 307,
     "metadata": {},
     "output_type": "execute_result"
    }
   ],
   "source": [
    "df.ESCS[df.ESCS==\"NA\"]=None\n",
    "df.ESCS = df.ESCS.astype(float)\n",
    "df[\"ESCS_bk\"] = None\n",
    "df[\"ESCS_bk\"]  = pd.qcut(df.ESCS, q = 5)\n",
    "df.count()"
   ]
  },
  {
   "cell_type": "code",
   "execution_count": 308,
   "metadata": {
    "collapsed": false
   },
   "outputs": [
    {
     "data": {
      "image/png": "[encoded data removed]",
      "text/plain": [
       "<matplotlib.figure.Figure at 0x10ce2e850>"
      ]
     },
     "metadata": {},
     "output_type": "display_data"
    }
   ],
   "source": [
    "ax = sns.boxplot(\"ESCS_bk\", \"PV1MATH\", data=df);\n",
    "ax.set_title(\"distribution of \");"
   ]
  },
  {
   "cell_type": "markdown",
   "metadata": {},
   "source": [
    "It is much more interesting...I could explore that. Let's see the box-plot of the other scores"
   ]
  },
  {
   "cell_type": "code",
   "execution_count": 204,
   "metadata": {
    "collapsed": true
   },
   "outputs": [],
   "source": [
    "df.PV1READ = df.PV1READ.astype(float)\n",
    "df.PV1SCIE = df.PV1SCIE.astype(float)"
   ]
  },
  {
   "cell_type": "code",
   "execution_count": 205,
   "metadata": {
    "collapsed": false
   },
   "outputs": [
    {
     "data": {
      "image/png": "[encoded data removed]",
      "text/plain": [
       "<matplotlib.figure.Figure at 0x13c644a50>"
      ]
     },
     "metadata": {},
     "output_type": "display_data"
    }
   ],
   "source": [
    "ax = sns.boxplot(\"ESCS_bk\", \"PV1READ\", data=df);\n",
    "ax.set_title(\"distribution of \");"
   ]
  },
  {
   "cell_type": "code",
   "execution_count": 206,
   "metadata": {
    "collapsed": false
   },
   "outputs": [
    {
     "data": {
      "image/png": "[encoded data removed]",
      "text/plain": [
       "<matplotlib.figure.Figure at 0x10c685bd0>"
      ]
     },
     "metadata": {},
     "output_type": "display_data"
    }
   ],
   "source": [
    "ax = sns.boxplot(\"ESCS_bk\", \"PV1SCIE\", data=df);\n",
    "ax.set_title(\"distribution of \");"
   ]
  },
  {
   "cell_type": "markdown",
   "metadata": {},
   "source": [
    "Nice...it is consistent with all scores... "
   ]
  },
  {
   "cell_type": "markdown",
   "metadata": {},
   "source": [
    "###Ok, let me explore the others variables that I choose"
   ]
  },
  {
   "cell_type": "code",
   "execution_count": 253,
   "metadata": {
    "collapsed": false
   },
   "outputs": [
    {
     "name": "stderr",
     "output_type": "stream",
     "text": [
      "/Users/ucaiado/anaconda/lib/python2.7/site-packages/IPython/kernel/__main__.py:1: SettingWithCopyWarning: \n",
      "A value is trying to be set on a copy of a slice from a DataFrame\n",
      "\n",
      "See the the caveats in the documentation: http://pandas.pydata.org/pandas-docs/stable/indexing.html#indexing-view-versus-copy\n",
      "  if __name__ == '__main__':\n"
     ]
    }
   ],
   "source": [
    "df.BELONG[df.BELONG==\"NA\"]=None\n",
    "df.BELONG = df.BELONG.astype(float)"
   ]
  },
  {
   "cell_type": "code",
   "execution_count": 212,
   "metadata": {
    "collapsed": false
   },
   "outputs": [
    {
     "data": {
      "text/plain": [
       "<matplotlib.axes._subplots.AxesSubplot at 0x14cef89d0>"
      ]
     },
     "execution_count": 212,
     "metadata": {},
     "output_type": "execute_result"
    },
    {
     "data": {
      "image/png": "[encoded data removed]",
      "text/plain": [
       "<matplotlib.figure.Figure at 0x143514190>"
      ]
     },
     "metadata": {},
     "output_type": "display_data"
    }
   ],
   "source": [
    "df.BELONG.hist()"
   ]
  },
  {
   "cell_type": "code",
   "execution_count": 254,
   "metadata": {
    "collapsed": false
   },
   "outputs": [
    {
     "name": "stderr",
     "output_type": "stream",
     "text": [
      "/Users/ucaiado/anaconda/lib/python2.7/site-packages/IPython/kernel/__main__.py:1: SettingWithCopyWarning: \n",
      "A value is trying to be set on a copy of a slice from a DataFrame\n",
      "\n",
      "See the the caveats in the documentation: http://pandas.pydata.org/pandas-docs/stable/indexing.html#indexing-view-versus-copy\n",
      "  if __name__ == '__main__':\n"
     ]
    }
   ],
   "source": [
    "df.OUTHOURS[df.OUTHOURS==\"NA\"]=None\n",
    "df.OUTHOURS = df.OUTHOURS.astype(float)"
   ]
  },
  {
   "cell_type": "code",
   "execution_count": null,
   "metadata": {
    "collapsed": false
   },
   "outputs": [],
   "source": []
  },
  {
   "cell_type": "code",
   "execution_count": 258,
   "metadata": {
    "collapsed": false
   },
   "outputs": [
    {
     "data": {
      "text/plain": [
       "BELONG         313399\n",
       "CNT            485490\n",
       "ESCS           473648\n",
       "OUTHOURS       308799\n",
       "PV1MATH        485490\n",
       "PV1READ        485490\n",
       "PV1SCIE        485490\n",
       "ST28Q01        485490\n",
       "ST57Q01        301367\n",
       "STIDSTD        485490\n",
       "CNT1           485490\n",
       "perCaptaGDP    485197\n",
       "gdp_bk         485197\n",
       "ESCS_bk        473648\n",
       "dtype: int64"
      ]
     },
     "execution_count": 258,
     "metadata": {},
     "output_type": "execute_result"
    }
   ],
   "source": [
    "df.count()"
   ]
  },
  {
   "cell_type": "code",
   "execution_count": 280,
   "metadata": {
    "collapsed": false
   },
   "outputs": [
    {
     "data": {
      "text/plain": [
       "<matplotlib.axes._subplots.AxesSubplot at 0x145402d10>"
      ]
     },
     "execution_count": 280,
     "metadata": {},
     "output_type": "execute_result"
    },
    {
     "data": {
      "image/png": "[encoded data removed]",
      "text/plain": [
       "<matplotlib.figure.Figure at 0x1459b9c90>"
      ]
     },
     "metadata": {},
     "output_type": "display_data"
    }
   ],
   "source": [
    "df.ST57Q01.hist(bins = 15)"
   ]
  },
  {
   "cell_type": "code",
   "execution_count": 295,
   "metadata": {
    "collapsed": false
   },
   "outputs": [
    {
     "data": {
      "text/plain": [
       "count    301367.000000\n",
       "mean          5.493770\n",
       "std           5.383815\n",
       "min           0.000000\n",
       "25%           2.000000\n",
       "50%           4.000000\n",
       "75%           7.000000\n",
       "max          30.000000\n",
       "Name: ST57Q01, dtype: float64"
      ]
     },
     "execution_count": 295,
     "metadata": {},
     "output_type": "execute_result"
    }
   ],
   "source": [
    "df.ST57Q01.describe()"
   ]
  },
  {
   "cell_type": "code",
   "execution_count": 298,
   "metadata": {
    "collapsed": true
   },
   "outputs": [],
   "source": [
    "pd.cut?"
   ]
  },
  {
   "cell_type": "code",
   "execution_count": null,
   "metadata": {
    "collapsed": false
   },
   "outputs": [],
   "source": []
  },
  {
   "cell_type": "code",
   "execution_count": 302,
   "metadata": {
    "collapsed": false
   },
   "outputs": [],
   "source": [
    "df[\"ST57Q01_bk\"] = None\n",
    "df[\"ST57Q01_bk\"]  =pd.cut(df.ST57Q01, bins = [0, 2,4,5,7,8,10,12, 15, 30])"
   ]
  },
  {
   "cell_type": "code",
   "execution_count": 293,
   "metadata": {
    "collapsed": true
   },
   "outputs": [],
   "source": [
    "pd.qcut?"
   ]
  },
  {
   "cell_type": "code",
   "execution_count": 303,
   "metadata": {
    "collapsed": false
   },
   "outputs": [],
   "source": [
    "df.PV1MATH = df.PV1MATH.astype(float)"
   ]
  },
  {
   "cell_type": "code",
   "execution_count": 662,
   "metadata": {
    "collapsed": false
   },
   "outputs": [
    {
     "data": {
      "image/png": "[encoded data removed]",
      "text/plain": [
       "<matplotlib.figure.Figure at 0x11b662f10>"
      ]
     },
     "metadata": {},
     "output_type": "display_data"
    }
   ],
   "source": [
    "ax = sns.boxplot(\"ST57Q01_bk\", \"PV1MATH\", data=df);\n",
    "ax.set_title(\"distribution of \");"
   ]
  },
  {
   "cell_type": "code",
   "execution_count": null,
   "metadata": {
    "collapsed": false
   },
   "outputs": [],
   "source": []
  },
  {
   "cell_type": "markdown",
   "metadata": {
    "collapsed": false
   },
   "source": [
    "####Hmm....let me see the last data faceting by the social buckets"
   ]
  },
  {
   "cell_type": "code",
   "execution_count": 356,
   "metadata": {
    "collapsed": false
   },
   "outputs": [
    {
     "data": {
      "image/png": "[encoded data removed]",
      "text/plain": [
       "<matplotlib.figure.Figure at 0x14b2c2390>"
      ]
     },
     "metadata": {},
     "output_type": "display_data"
    }
   ],
   "source": [
    "g = sns.FacetGrid(df, size = 4, col_wrap =3, col=\"ESCS_bk\")\n",
    "g.map(sns.boxplot, \"ST57Q01_bk\", \"PV1MATH\");"
   ]
  },
  {
   "cell_type": "markdown",
   "metadata": {
    "collapsed": true
   },
   "source": [
    "###would be nice if I could filter the data to see each bucket. Maybe by a barplot with the count on each bucket"
   ]
  },
  {
   "cell_type": "code",
   "execution_count": 320,
   "metadata": {
    "collapsed": false
   },
   "outputs": [
    {
     "data": {
      "image/png": "[encoded data removed]",
      "text/plain": [
       "<matplotlib.figure.Figure at 0x131b5fc10>"
      ]
     },
     "metadata": {},
     "output_type": "display_data"
    }
   ],
   "source": [
    "sns.countplot(x=\"ESCS_bk\", data=df);"
   ]
  },
  {
   "cell_type": "markdown",
   "metadata": {
    "collapsed": true
   },
   "source": [
    "###Own....I have forgotten that I bucketize all data by its deciles. Maybe by its histogram then\n"
   ]
  },
  {
   "cell_type": "code",
   "execution_count": 324,
   "metadata": {
    "collapsed": false
   },
   "outputs": [
    {
     "data": {
      "image/png": "[encoded data removed]",
      "text/plain": [
       "<matplotlib.figure.Figure at 0x129e6ae10>"
      ]
     },
     "metadata": {},
     "output_type": "display_data"
    }
   ],
   "source": [
    "ax = df.ESCS.hist(bins = 10)"
   ]
  },
  {
   "cell_type": "code",
   "execution_count": 329,
   "metadata": {
    "collapsed": true
   },
   "outputs": [],
   "source": [
    "import numpy as np"
   ]
  },
  {
   "cell_type": "code",
   "execution_count": 341,
   "metadata": {
    "collapsed": false
   },
   "outputs": [
    {
     "data": {
      "text/plain": [
       "array([-5.95 , -4.986, -4.022, -3.058, -2.094, -1.13 , -0.166,  0.798,\n",
       "        1.762,  2.726,  3.69 ])"
      ]
     },
     "execution_count": 341,
     "metadata": {},
     "output_type": "execute_result"
    }
   ],
   "source": [
    "a_bins"
   ]
  },
  {
   "cell_type": "code",
   "execution_count": 361,
   "metadata": {
    "collapsed": false
   },
   "outputs": [],
   "source": [
    "a_heights, a_bins = np.histogram(df.ESCS[~df['ESCS'].isnull()], bins = 7)"
   ]
  },
  {
   "cell_type": "code",
   "execution_count": 362,
   "metadata": {
    "collapsed": false
   },
   "outputs": [],
   "source": [
    "df[\"ESCS_bk2\"] = None\n",
    "df[\"ESCS_bk2\"] = pd.cut(df.ESCS, bins= a_bins)"
   ]
  },
  {
   "cell_type": "code",
   "execution_count": 363,
   "metadata": {
    "collapsed": false
   },
   "outputs": [
    {
     "data": {
      "image/png": "[encoded data removed]",
      "text/plain": [
       "<matplotlib.figure.Figure at 0x1465e7990>"
      ]
     },
     "metadata": {},
     "output_type": "display_data"
    }
   ],
   "source": [
    "sns.countplot(x=\"ESCS_bk2\", data=df);\n"
   ]
  },
  {
   "cell_type": "code",
   "execution_count": 364,
   "metadata": {
    "collapsed": false
   },
   "outputs": [
    {
     "data": {
      "image/png": "[encoded data removed]",
      "text/plain": [
       "<matplotlib.figure.Figure at 0x1113e9710>"
      ]
     },
     "metadata": {},
     "output_type": "display_data"
    }
   ],
   "source": [
    "g = sns.FacetGrid(df, size = 4, col_wrap =3, col=\"ESCS_bk2\")\n",
    "g.map(sns.boxplot, \"ST57Q01_bk\", \"PV1MATH\");"
   ]
  },
  {
   "cell_type": "markdown",
   "metadata": {},
   "source": [
    "###Nice, I also would like to plot something about each country....the average time, maybe"
   ]
  },
  {
   "cell_type": "code",
   "execution_count": 383,
   "metadata": {
    "collapsed": false
   },
   "outputs": [],
   "source": [
    "df_grouped = df.groupby(\"CNT1\").mean()"
   ]
  },
  {
   "cell_type": "code",
   "execution_count": 384,
   "metadata": {
    "collapsed": false
   },
   "outputs": [
    {
     "data": {
      "image/png": "[encoded data removed]",
      "text/plain": [
       "<matplotlib.figure.Figure at 0x122d9eb50>"
      ]
     },
     "metadata": {},
     "output_type": "display_data"
    }
   ],
   "source": [
    "sns.regplot(x=\"ST57Q01\", y=\"PV1MATH\", data=df_grouped);"
   ]
  },
  {
   "cell_type": "markdown",
   "metadata": {
    "collapsed": true
   },
   "source": [
    "###Then, I would allow the readers to mouse ouver each point to see more data and the name of each country. Maybe I could colored the points by the countries'continent. "
   ]
  },
  {
   "cell_type": "code",
   "execution_count": 613,
   "metadata": {
    "collapsed": false
   },
   "outputs": [],
   "source": [
    "df_continents = pd.read_csv(\"data/continents.csv\", sep = \"\\t\")\n",
    "df_continents.index=df_continents.CNT1.values\n",
    "df_continents.drop([\"CNT1\"], axis=1, inplace=True)"
   ]
  },
  {
   "cell_type": "code",
   "execution_count": 614,
   "metadata": {
    "collapsed": false
   },
   "outputs": [
    {
     "data": {
      "text/html": [
       "<div>\n",
       "<table border=\"1\" class=\"dataframe\">\n",
       "  <thead>\n",
       "    <tr style=\"text-align: right;\">\n",
       "      <th></th>\n",
       "      <th>CONTINENT</th>\n",
       "    </tr>\n",
       "  </thead>\n",
       "  <tbody>\n",
       "    <tr>\n",
       "      <th>Albania</th>\n",
       "      <td>Europe</td>\n",
       "    </tr>\n",
       "    <tr>\n",
       "      <th>Argentina</th>\n",
       "      <td>South America</td>\n",
       "    </tr>\n",
       "    <tr>\n",
       "      <th>Australia</th>\n",
       "      <td>Oceania</td>\n",
       "    </tr>\n",
       "    <tr>\n",
       "      <th>Austria</th>\n",
       "      <td>Europe</td>\n",
       "    </tr>\n",
       "    <tr>\n",
       "      <th>Belgium</th>\n",
       "      <td>Europe</td>\n",
       "    </tr>\n",
       "  </tbody>\n",
       "</table>\n",
       "</div>"
      ],
      "text/plain": [
       "               CONTINENT\n",
       "Albania           Europe\n",
       "Argentina  South America\n",
       "Australia        Oceania\n",
       "Austria           Europe\n",
       "Belgium           Europe"
      ]
     },
     "execution_count": 614,
     "metadata": {},
     "output_type": "execute_result"
    }
   ],
   "source": [
    "df_continents.head()"
   ]
  },
  {
   "cell_type": "code",
   "execution_count": 618,
   "metadata": {
    "collapsed": false
   },
   "outputs": [],
   "source": [
    "df_grouped[\"continent\"] = None\n",
    "df_grouped[\"continent\"]  = df_continents.loc[df_grouped.index].values"
   ]
  },
  {
   "cell_type": "code",
   "execution_count": 619,
   "metadata": {
    "collapsed": false
   },
   "outputs": [
    {
     "data": {
      "text/html": [
       "<div>\n",
       "<table border=\"1\" class=\"dataframe\">\n",
       "  <thead>\n",
       "    <tr style=\"text-align: right;\">\n",
       "      <th></th>\n",
       "      <th>ESCS</th>\n",
       "      <th>PV1MATH</th>\n",
       "      <th>ST57Q01</th>\n",
       "      <th>continent</th>\n",
       "    </tr>\n",
       "    <tr>\n",
       "      <th>CNT1</th>\n",
       "      <th></th>\n",
       "      <th></th>\n",
       "      <th></th>\n",
       "      <th></th>\n",
       "    </tr>\n",
       "  </thead>\n",
       "  <tbody>\n",
       "    <tr>\n",
       "      <th>Albania</th>\n",
       "      <td>NaN</td>\n",
       "      <td>395.296185</td>\n",
       "      <td>5.026426</td>\n",
       "      <td>Europe</td>\n",
       "    </tr>\n",
       "    <tr>\n",
       "      <th>Argentina</th>\n",
       "      <td>-0.626649</td>\n",
       "      <td>395.402241</td>\n",
       "      <td>3.681577</td>\n",
       "      <td>South America</td>\n",
       "    </tr>\n",
       "    <tr>\n",
       "      <th>Australia</th>\n",
       "      <td>0.189072</td>\n",
       "      <td>492.842855</td>\n",
       "      <td>5.718562</td>\n",
       "      <td>Oceania</td>\n",
       "    </tr>\n",
       "    <tr>\n",
       "      <th>Austria</th>\n",
       "      <td>0.108333</td>\n",
       "      <td>507.711753</td>\n",
       "      <td>4.601316</td>\n",
       "      <td>Europe</td>\n",
       "    </tr>\n",
       "    <tr>\n",
       "      <th>Belgium</th>\n",
       "      <td>0.175149</td>\n",
       "      <td>519.868902</td>\n",
       "      <td>5.540794</td>\n",
       "      <td>Europe</td>\n",
       "    </tr>\n",
       "  </tbody>\n",
       "</table>\n",
       "</div>"
      ],
      "text/plain": [
       "               ESCS     PV1MATH   ST57Q01      continent\n",
       "CNT1                                                    \n",
       "Albania         NaN  395.296185  5.026426         Europe\n",
       "Argentina -0.626649  395.402241  3.681577  South America\n",
       "Australia  0.189072  492.842855  5.718562        Oceania\n",
       "Austria    0.108333  507.711753  4.601316         Europe\n",
       "Belgium    0.175149  519.868902  5.540794         Europe"
      ]
     },
     "execution_count": 619,
     "metadata": {},
     "output_type": "execute_result"
    }
   ],
   "source": [
    "df_grouped.head()"
   ]
  },
  {
   "cell_type": "code",
   "execution_count": 661,
   "metadata": {
    "collapsed": false
   },
   "outputs": [
    {
     "data": {
      "image/png": "[encoded data removed]",
      "text/plain": [
       "<matplotlib.figure.Figure at 0x13fffc3d0>"
      ]
     },
     "metadata": {},
     "output_type": "display_data"
    }
   ],
   "source": [
    "\n",
    "ax = sns.lmplot(x=\"ST57Q01\", y=\"PV1MATH\",hue = \"continent\", palette=\"Set1\",fit_reg=False,\n",
    "           data=df_grouped)\n"
   ]
  },
  {
   "cell_type": "markdown",
   "metadata": {},
   "source": [
    "###I am not sure about the trend line....It can be painful to redraw it when the data is filtered out. One last chart before start to reshape the data to use in my visualization....I would like to use my personal data (about the time I commited to the Udacity course) as an introduction. It would be a nice introduction"
   ]
  },
  {
   "cell_type": "markdown",
   "metadata": {},
   "source": [
    "importing data"
   ]
  },
  {
   "cell_type": "code",
   "execution_count": 437,
   "metadata": {
    "collapsed": true
   },
   "outputs": [],
   "source": [
    "import datetime"
   ]
  },
  {
   "cell_type": "code",
   "execution_count": 499,
   "metadata": {
    "collapsed": false
   },
   "outputs": [],
   "source": [
    "l_wk = [\"SEGUNDA-FEIRA\", \"TERCA-FEIRA\",\"QUARTA-FEIRA\",\"QUINTA-FEIRA\",\n",
    " \"SEXTA-FEIRA\",\"SABADO\", \"DOMINGO\"]\n",
    "l_lab = [u\"JANEIRO\", u\"FEVEREIRO\", u\"MARAO\", u\"ABRIL\", u\"MAIO\", u\"JUNHO\",\n",
    " u\"JULHO\", u\"AGOSTO\", u\"SETEMBRO\", u\"OUTUBRO\", u\"NOVEMBRO\", u\"DEZEMBRO\" ]\n",
    "d_convert = dict(zip(l_lab, range(1,13)))"
   ]
  },
  {
   "cell_type": "code",
   "execution_count": 540,
   "metadata": {
    "collapsed": false
   },
   "outputs": [
    {
     "name": "stderr",
     "output_type": "stream",
     "text": [
      "/Users/ucaiado/anaconda/lib/python2.7/site-packages/IPython/kernel/__main__.py:7: RuntimeWarning: Argument <type 'str'> is not an unicode object. Passing an encoded string will likely have unexpected results.\n",
      "/Users/ucaiado/anaconda/lib/python2.7/site-packages/IPython/kernel/__main__.py:8: RuntimeWarning: Argument <type 'str'> is not an unicode object. Passing an encoded string will likely have unexpected results.\n"
     ]
    }
   ],
   "source": [
    "l_data=[]\n",
    "with open(\"data/DailyTimeDetail_DataScience.csv\") as fo:\n",
    "    b_test  = True\n",
    "    i_year=2014\n",
    "    for idx, row in enumerate(fo):\n",
    "        l = row.strip().split(\",\")\n",
    "        if unidecode(l[0][1:]) in l_wk:\n",
    "            i_m = d_convert[unidecode(l[1].split()[-1][:-1])]\n",
    "            i_d = int(l[1].split()[0])\n",
    "            if i_m==1 and b_test: \n",
    "                i_year+=1\n",
    "                b_test=False\n",
    "            i_y = i_year\n",
    "            dt_last = datetime.datetime(i_y, i_m, i_d)\n",
    "        if \"Total\" in l:\n",
    "            d1 = datetime.datetime.strptime(l[1],'%H:%M')\n",
    "            dt1 = datetime.timedelta(hours = d1.hour, minutes=d1.minute, seconds=d1.second)\n",
    "            i_min = d1.hour*60 + d1.minute\n",
    "            l_data.append([dt_last, dt1,i_min, l[1]]) \n",
    "            \n",
    "            \n"
   ]
  },
  {
   "cell_type": "code",
   "execution_count": 541,
   "metadata": {
    "collapsed": false
   },
   "outputs": [
    {
     "data": {
      "text/html": [
       "<div>\n",
       "<table border=\"1\" class=\"dataframe\">\n",
       "  <thead>\n",
       "    <tr style=\"text-align: right;\">\n",
       "      <th></th>\n",
       "      <th>DATE</th>\n",
       "      <th>TIME</th>\n",
       "      <th>MINT</th>\n",
       "      <th>ORG</th>\n",
       "    </tr>\n",
       "  </thead>\n",
       "  <tbody>\n",
       "    <tr>\n",
       "      <th>0</th>\n",
       "      <td>2014-10-04</td>\n",
       "      <td>04:17:00</td>\n",
       "      <td>257</td>\n",
       "      <td>4:17</td>\n",
       "    </tr>\n",
       "    <tr>\n",
       "      <th>1</th>\n",
       "      <td>2014-10-05</td>\n",
       "      <td>00:24:00</td>\n",
       "      <td>24</td>\n",
       "      <td>0:24</td>\n",
       "    </tr>\n",
       "    <tr>\n",
       "      <th>2</th>\n",
       "      <td>2014-10-06</td>\n",
       "      <td>01:15:00</td>\n",
       "      <td>75</td>\n",
       "      <td>1:15</td>\n",
       "    </tr>\n",
       "    <tr>\n",
       "      <th>3</th>\n",
       "      <td>2014-10-10</td>\n",
       "      <td>01:06:00</td>\n",
       "      <td>66</td>\n",
       "      <td>1:06</td>\n",
       "    </tr>\n",
       "    <tr>\n",
       "      <th>4</th>\n",
       "      <td>2014-10-12</td>\n",
       "      <td>01:24:00</td>\n",
       "      <td>84</td>\n",
       "      <td>1:24</td>\n",
       "    </tr>\n",
       "  </tbody>\n",
       "</table>\n",
       "</div>"
      ],
      "text/plain": [
       "        DATE     TIME  MINT   ORG\n",
       "0 2014-10-04 04:17:00   257  4:17\n",
       "1 2014-10-05 00:24:00    24  0:24\n",
       "2 2014-10-06 01:15:00    75  1:15\n",
       "3 2014-10-10 01:06:00    66  1:06\n",
       "4 2014-10-12 01:24:00    84  1:24"
      ]
     },
     "execution_count": 541,
     "metadata": {},
     "output_type": "execute_result"
    }
   ],
   "source": [
    "df_timeCommited = pd.DataFrame(l_data)\n",
    "df_timeCommited.columns = [\"DATE\",\"TIME\", \"MINT\", \"ORG\"]\n",
    "df_timeCommited.head()"
   ]
  },
  {
   "cell_type": "code",
   "execution_count": null,
   "metadata": {
    "collapsed": false
   },
   "outputs": [],
   "source": []
  },
  {
   "cell_type": "code",
   "execution_count": 543,
   "metadata": {
    "collapsed": false
   },
   "outputs": [
    {
     "data": {
      "text/plain": [
       "455.6666666666667"
      ]
     },
     "execution_count": 543,
     "metadata": {},
     "output_type": "execute_result"
    }
   ],
   "source": [
    "(df_timeCommited.TIME.sum()).total_seconds()/60**2"
   ]
  },
  {
   "cell_type": "code",
   "execution_count": 544,
   "metadata": {
    "collapsed": false
   },
   "outputs": [
    {
     "data": {
      "text/plain": [
       "'GRAND TOTAL,455:42'"
      ]
     },
     "execution_count": 544,
     "metadata": {},
     "output_type": "execute_result"
    }
   ],
   "source": [
    "row"
   ]
  },
  {
   "cell_type": "code",
   "execution_count": 508,
   "metadata": {
    "collapsed": true
   },
   "outputs": [],
   "source": [
    "kw = lambda x: x.isocalendar()[1]"
   ]
  },
  {
   "cell_type": "code",
   "execution_count": 514,
   "metadata": {
    "collapsed": false
   },
   "outputs": [],
   "source": [
    "df_timeCommited[\"WK_IDX\"] = list(df_timeCommited['DATE'].map(kw))"
   ]
  },
  {
   "cell_type": "code",
   "execution_count": 515,
   "metadata": {
    "collapsed": false
   },
   "outputs": [
    {
     "data": {
      "text/html": [
       "<div>\n",
       "<table border=\"1\" class=\"dataframe\">\n",
       "  <thead>\n",
       "    <tr style=\"text-align: right;\">\n",
       "      <th></th>\n",
       "      <th>DATE</th>\n",
       "      <th>TIME</th>\n",
       "      <th>ORG</th>\n",
       "      <th>WK_IDX</th>\n",
       "    </tr>\n",
       "  </thead>\n",
       "  <tbody>\n",
       "    <tr>\n",
       "      <th>0</th>\n",
       "      <td>2014-10-04</td>\n",
       "      <td>04:17:00</td>\n",
       "      <td>4:17</td>\n",
       "      <td>40</td>\n",
       "    </tr>\n",
       "    <tr>\n",
       "      <th>1</th>\n",
       "      <td>2014-10-05</td>\n",
       "      <td>00:24:00</td>\n",
       "      <td>0:24</td>\n",
       "      <td>40</td>\n",
       "    </tr>\n",
       "    <tr>\n",
       "      <th>2</th>\n",
       "      <td>2014-10-06</td>\n",
       "      <td>01:15:00</td>\n",
       "      <td>1:15</td>\n",
       "      <td>41</td>\n",
       "    </tr>\n",
       "    <tr>\n",
       "      <th>3</th>\n",
       "      <td>2014-10-10</td>\n",
       "      <td>01:06:00</td>\n",
       "      <td>1:06</td>\n",
       "      <td>41</td>\n",
       "    </tr>\n",
       "    <tr>\n",
       "      <th>4</th>\n",
       "      <td>2014-10-12</td>\n",
       "      <td>01:24:00</td>\n",
       "      <td>1:24</td>\n",
       "      <td>41</td>\n",
       "    </tr>\n",
       "  </tbody>\n",
       "</table>\n",
       "</div>"
      ],
      "text/plain": [
       "        DATE     TIME   ORG  WK_IDX\n",
       "0 2014-10-04 04:17:00  4:17      40\n",
       "1 2014-10-05 00:24:00  0:24      40\n",
       "2 2014-10-06 01:15:00  1:15      41\n",
       "3 2014-10-10 01:06:00  1:06      41\n",
       "4 2014-10-12 01:24:00  1:24      41"
      ]
     },
     "execution_count": 515,
     "metadata": {},
     "output_type": "execute_result"
    }
   ],
   "source": [
    "df_timeCommited.head()"
   ]
  },
  {
   "cell_type": "code",
   "execution_count": 548,
   "metadata": {
    "collapsed": true
   },
   "outputs": [],
   "source": [
    "df_t = df_timeCommited.copy()"
   ]
  },
  {
   "cell_type": "code",
   "execution_count": 549,
   "metadata": {
    "collapsed": true
   },
   "outputs": [],
   "source": [
    "df_t.index = df_timeCommited.DATE"
   ]
  },
  {
   "cell_type": "code",
   "execution_count": 522,
   "metadata": {
    "collapsed": false
   },
   "outputs": [
    {
     "data": {
      "text/html": [
       "<div>\n",
       "<table border=\"1\" class=\"dataframe\">\n",
       "  <thead>\n",
       "    <tr style=\"text-align: right;\">\n",
       "      <th></th>\n",
       "      <th>DATE</th>\n",
       "      <th>TIME</th>\n",
       "      <th>ORG</th>\n",
       "      <th>WK_IDX</th>\n",
       "    </tr>\n",
       "    <tr>\n",
       "      <th>DATE</th>\n",
       "      <th></th>\n",
       "      <th></th>\n",
       "      <th></th>\n",
       "      <th></th>\n",
       "    </tr>\n",
       "  </thead>\n",
       "  <tbody>\n",
       "    <tr>\n",
       "      <th>2014-10-04</th>\n",
       "      <td>2014-10-04</td>\n",
       "      <td>04:17:00</td>\n",
       "      <td>4:17</td>\n",
       "      <td>40</td>\n",
       "    </tr>\n",
       "    <tr>\n",
       "      <th>2014-10-05</th>\n",
       "      <td>2014-10-05</td>\n",
       "      <td>00:24:00</td>\n",
       "      <td>0:24</td>\n",
       "      <td>40</td>\n",
       "    </tr>\n",
       "    <tr>\n",
       "      <th>2014-10-06</th>\n",
       "      <td>2014-10-06</td>\n",
       "      <td>01:15:00</td>\n",
       "      <td>1:15</td>\n",
       "      <td>41</td>\n",
       "    </tr>\n",
       "    <tr>\n",
       "      <th>2014-10-10</th>\n",
       "      <td>2014-10-10</td>\n",
       "      <td>01:06:00</td>\n",
       "      <td>1:06</td>\n",
       "      <td>41</td>\n",
       "    </tr>\n",
       "    <tr>\n",
       "      <th>2014-10-12</th>\n",
       "      <td>2014-10-12</td>\n",
       "      <td>01:24:00</td>\n",
       "      <td>1:24</td>\n",
       "      <td>41</td>\n",
       "    </tr>\n",
       "  </tbody>\n",
       "</table>\n",
       "</div>"
      ],
      "text/plain": [
       "                 DATE     TIME   ORG  WK_IDX\n",
       "DATE                                        \n",
       "2014-10-04 2014-10-04 04:17:00  4:17      40\n",
       "2014-10-05 2014-10-05 00:24:00  0:24      40\n",
       "2014-10-06 2014-10-06 01:15:00  1:15      41\n",
       "2014-10-10 2014-10-10 01:06:00  1:06      41\n",
       "2014-10-12 2014-10-12 01:24:00  1:24      41"
      ]
     },
     "execution_count": 522,
     "metadata": {},
     "output_type": "execute_result"
    }
   ],
   "source": [
    "df_t.head()"
   ]
  },
  {
   "cell_type": "code",
   "execution_count": 551,
   "metadata": {
    "collapsed": false
   },
   "outputs": [],
   "source": [
    "df_wk = df_t.resample(\"W\", how=\"sum\")"
   ]
  },
  {
   "cell_type": "code",
   "execution_count": 555,
   "metadata": {
    "collapsed": false
   },
   "outputs": [],
   "source": [
    "df_wk.fillna(0, inplace=True)\n",
    "df_wk/=60."
   ]
  },
  {
   "cell_type": "code",
   "execution_count": 558,
   "metadata": {
    "collapsed": true
   },
   "outputs": [],
   "source": [
    "import matplotlib.pylab as plt"
   ]
  },
  {
   "cell_type": "code",
   "execution_count": 583,
   "metadata": {
    "collapsed": true
   },
   "outputs": [],
   "source": [
    "#When I started the NanoDegree\n",
    "df_wk = df_wk.loc[df_wk.index>datetime.datetime(2014,11,10)]"
   ]
  },
  {
   "cell_type": "code",
   "execution_count": 599,
   "metadata": {
    "collapsed": false
   },
   "outputs": [
    {
     "data": {
      "image/png": "[encoded data removed]",
      "text/plain": [
       "<matplotlib.figure.Figure at 0x13a016590>"
      ]
     },
     "metadata": {},
     "output_type": "display_data"
    }
   ],
   "source": [
    "ax = df_wk.plot(kind = \"bar\")\n",
    "lgd=plt.legend()\n",
    "lgd.set_visible(False)\n",
    "lf_ticks=plt.xticks()\n",
    "labels = [item.get_text() for item in ax.get_xticklabels()]\n",
    "labels = [x[:10] for x in labels]\n",
    "i_labelidx=np.arange(0,len(lf_ticks[0]),max(1,len(lf_ticks[0])/10))\n",
    "l_labels=[labels[i] for i in i_labelidx]\n",
    "plt.xticks(lf_ticks[0][np.arange(0,len(lf_ticks[0]),max(1,len(lf_ticks[0])/10))],l_labels);\n",
    "ax.set_ylabel(\"Hours Commited\\n\");\n",
    "ax.set_title(\"Time Commited to Udacity\\n\");"
   ]
  },
  {
   "cell_type": "code",
   "execution_count": 587,
   "metadata": {
    "collapsed": false
   },
   "outputs": [
    {
     "data": {
      "text/plain": [
       "40"
      ]
     },
     "execution_count": 587,
     "metadata": {},
     "output_type": "execute_result"
    }
   ],
   "source": [
    "#number of weeks studied\n",
    "df_wk.shape[0]"
   ]
  },
  {
   "cell_type": "code",
   "execution_count": 588,
   "metadata": {
    "collapsed": false
   },
   "outputs": [
    {
     "data": {
      "text/plain": [
       "MINT    10.64625\n",
       "dtype: float64"
      ]
     },
     "execution_count": 588,
     "metadata": {},
     "output_type": "execute_result"
    }
   ],
   "source": [
    "#average time studied\n",
    "df_wk.sum()*1./df_wk.shape[0]"
   ]
  },
  {
   "cell_type": "markdown",
   "metadata": {},
   "source": [
    "###Nice, I guess taht I already have enought ideas to start to make my project....well...I mean, before I need to make one last BIG thing"
   ]
  },
  {
   "cell_type": "markdown",
   "metadata": {},
   "source": [
    "##Reshape the data"
   ]
  },
  {
   "cell_type": "markdown",
   "metadata": {},
   "source": [
    "###I need to organize the data in a way that I can filter out what the reader want. As I will allow filter just by the Social index buckets....then, it is one of my levels.....also, I will like to plot the scatter by country....then, I also need a column with the weight of each row and a index by country...all data also need to be identifyed by continent....and finally....all data that will be uses in the boxplot"
   ]
  },
  {
   "cell_type": "code",
   "execution_count": 666,
   "metadata": {
    "collapsed": false
   },
   "outputs": [
    {
     "data": {
      "image/png": "[encoded data removed]",
      "text/plain": [
       "<matplotlib.figure.Figure at 0x112a11e10>"
      ]
     },
     "metadata": {},
     "output_type": "display_data"
    }
   ],
   "source": [
    "g = sns.FacetGrid(df, size = 4)\n",
    "g.map(sns.boxplot, \"ST57Q01_bk\", \"PV1MATH\");"
   ]
  },
  {
   "cell_type": "code",
   "execution_count": 687,
   "metadata": {
    "collapsed": false
   },
   "outputs": [
    {
     "data": {
      "image/png": "[encoded data removed]",
      "text/plain": [
       "<matplotlib.figure.Figure at 0x1239b6d10>"
      ]
     },
     "metadata": {},
     "output_type": "display_data"
    }
   ],
   "source": [
    "x = df.boxplot(by=\"ST57Q01_bk\", column=\"PV1MATH\", sym=\"k.\", return_type = \"dict\")"
   ]
  },
  {
   "cell_type": "code",
   "execution_count": 673,
   "metadata": {
    "collapsed": false
   },
   "outputs": [],
   "source": [
    "df.boxplot?"
   ]
  },
  {
   "cell_type": "code",
   "execution_count": 696,
   "metadata": {
    "collapsed": false
   },
   "outputs": [],
   "source": [
    "y = x[\"PV1MATH\"][\"whiskers\"][0]"
   ]
  },
  {
   "cell_type": "code",
   "execution_count": 698,
   "metadata": {
    "collapsed": false
   },
   "outputs": [
    {
     "data": {
      "text/plain": [
       "Path(array([[   1.    ,  371.7168],\n",
       "       [   1.    ,  161.6373]]), None)"
      ]
     },
     "execution_count": 698,
     "metadata": {},
     "output_type": "execute_result"
    }
   ],
   "source": [
    "y.get_path()"
   ]
  },
  {
   "cell_type": "code",
   "execution_count": 700,
   "metadata": {
    "collapsed": false
   },
   "outputs": [
    {
     "data": {
      "text/html": [
       "<div>\n",
       "<table border=\"1\" class=\"dataframe\">\n",
       "  <thead>\n",
       "    <tr style=\"text-align: right;\">\n",
       "      <th></th>\n",
       "      <th>BELONG</th>\n",
       "      <th>CNT</th>\n",
       "      <th>ESCS</th>\n",
       "      <th>OUTHOURS</th>\n",
       "      <th>PV1MATH</th>\n",
       "      <th>PV1READ</th>\n",
       "      <th>PV1SCIE</th>\n",
       "      <th>ST28Q01</th>\n",
       "      <th>ST57Q01</th>\n",
       "      <th>STIDSTD</th>\n",
       "      <th>ST57Q01_bk</th>\n",
       "      <th>ESCS_bk</th>\n",
       "      <th>ESCS_bk2</th>\n",
       "      <th>CNT1</th>\n",
       "    </tr>\n",
       "  </thead>\n",
       "  <tbody>\n",
       "    <tr>\n",
       "      <th>0</th>\n",
       "      <td>-1.18</td>\n",
       "      <td>Albania</td>\n",
       "      <td>NaN</td>\n",
       "      <td>NA</td>\n",
       "      <td>406.8469</td>\n",
       "      <td>249.5762</td>\n",
       "      <td>341.7009</td>\n",
       "      <td>0-10 books</td>\n",
       "      <td>NaN</td>\n",
       "      <td>00001</td>\n",
       "      <td>NaN</td>\n",
       "      <td>NaN</td>\n",
       "      <td>NaN</td>\n",
       "      <td>Albania</td>\n",
       "    </tr>\n",
       "    <tr>\n",
       "      <th>1</th>\n",
       "      <td>NA</td>\n",
       "      <td>Albania</td>\n",
       "      <td>NaN</td>\n",
       "      <td>8</td>\n",
       "      <td>486.1427</td>\n",
       "      <td>406.2936</td>\n",
       "      <td>548.9929</td>\n",
       "      <td>201-500 books</td>\n",
       "      <td>NaN</td>\n",
       "      <td>00002</td>\n",
       "      <td>NaN</td>\n",
       "      <td>NaN</td>\n",
       "      <td>NaN</td>\n",
       "      <td>Albania</td>\n",
       "    </tr>\n",
       "    <tr>\n",
       "      <th>2</th>\n",
       "      <td>NA</td>\n",
       "      <td>Albania</td>\n",
       "      <td>NaN</td>\n",
       "      <td>24</td>\n",
       "      <td>533.2684</td>\n",
       "      <td>401.21</td>\n",
       "      <td>499.6643</td>\n",
       "      <td>More than 500 books</td>\n",
       "      <td>NaN</td>\n",
       "      <td>00003</td>\n",
       "      <td>NaN</td>\n",
       "      <td>NaN</td>\n",
       "      <td>NaN</td>\n",
       "      <td>Albania</td>\n",
       "    </tr>\n",
       "    <tr>\n",
       "      <th>3</th>\n",
       "      <td>NA</td>\n",
       "      <td>Albania</td>\n",
       "      <td>NaN</td>\n",
       "      <td>17</td>\n",
       "      <td>412.2215</td>\n",
       "      <td>547.363</td>\n",
       "      <td>438.6796</td>\n",
       "      <td>11-25 books</td>\n",
       "      <td>10</td>\n",
       "      <td>00004</td>\n",
       "      <td>(8, 10]</td>\n",
       "      <td>NaN</td>\n",
       "      <td>NaN</td>\n",
       "      <td>Albania</td>\n",
       "    </tr>\n",
       "    <tr>\n",
       "      <th>4</th>\n",
       "      <td>2.63</td>\n",
       "      <td>Albania</td>\n",
       "      <td>NaN</td>\n",
       "      <td>NA</td>\n",
       "      <td>381.9209</td>\n",
       "      <td>311.7707</td>\n",
       "      <td>361.5628</td>\n",
       "      <td>101-200 books</td>\n",
       "      <td>NaN</td>\n",
       "      <td>00005</td>\n",
       "      <td>NaN</td>\n",
       "      <td>NaN</td>\n",
       "      <td>NaN</td>\n",
       "      <td>Albania</td>\n",
       "    </tr>\n",
       "  </tbody>\n",
       "</table>\n",
       "</div>"
      ],
      "text/plain": [
       "  BELONG      CNT  ESCS OUTHOURS   PV1MATH   PV1READ   PV1SCIE  \\\n",
       "0  -1.18  Albania   NaN       NA  406.8469  249.5762  341.7009   \n",
       "1     NA  Albania   NaN        8  486.1427  406.2936  548.9929   \n",
       "2     NA  Albania   NaN       24  533.2684    401.21  499.6643   \n",
       "3     NA  Albania   NaN       17  412.2215   547.363  438.6796   \n",
       "4   2.63  Albania   NaN       NA  381.9209  311.7707  361.5628   \n",
       "\n",
       "               ST28Q01  ST57Q01 STIDSTD ST57Q01_bk ESCS_bk ESCS_bk2     CNT1  \n",
       "0          0-10 books       NaN   00001        NaN     NaN      NaN  Albania  \n",
       "1       201-500 books       NaN   00002        NaN     NaN      NaN  Albania  \n",
       "2  More than 500 books      NaN   00003        NaN     NaN      NaN  Albania  \n",
       "3         11-25 books        10   00004    (8, 10]     NaN      NaN  Albania  \n",
       "4       101-200 books       NaN   00005        NaN     NaN      NaN  Albania  "
      ]
     },
     "execution_count": 700,
     "metadata": {},
     "output_type": "execute_result"
    }
   ],
   "source": [
    "df.head()"
   ]
  },
  {
   "cell_type": "code",
   "execution_count": 701,
   "metadata": {
    "collapsed": true
   },
   "outputs": [],
   "source": [
    "df2 = df.copy()\n",
    "df2.drop([\"BELONG\", \"OUTHOURS\", \"PV1READ\", \"PV1SCIE\", \"ST28Q01\", \"STIDSTD\"], axis=1, inplace = True)"
   ]
  },
  {
   "cell_type": "code",
   "execution_count": 702,
   "metadata": {
    "collapsed": false
   },
   "outputs": [
    {
     "data": {
      "text/plain": [
       "(485490, 8)"
      ]
     },
     "execution_count": 702,
     "metadata": {},
     "output_type": "execute_result"
    }
   ],
   "source": [
    "df2.shape"
   ]
  },
  {
   "cell_type": "code",
   "execution_count": 704,
   "metadata": {
    "collapsed": true
   },
   "outputs": [],
   "source": [
    "df2.drop([\"CNT\"], axis=1, inplace = True)"
   ]
  },
  {
   "cell_type": "code",
   "execution_count": 710,
   "metadata": {
    "collapsed": false
   },
   "outputs": [],
   "source": [
    "df2.drop(df2[df2.isnull().sum(axis=1)>0].index, inplace=True)"
   ]
  },
  {
   "cell_type": "code",
   "execution_count": 712,
   "metadata": {
    "collapsed": false
   },
   "outputs": [
    {
     "data": {
      "text/plain": [
       "(287265, 7)"
      ]
     },
     "execution_count": 712,
     "metadata": {},
     "output_type": "execute_result"
    }
   ],
   "source": [
    "df2.shape"
   ]
  },
  {
   "cell_type": "code",
   "execution_count": 711,
   "metadata": {
    "collapsed": false
   },
   "outputs": [
    {
     "data": {
      "text/html": [
       "<div>\n",
       "<table border=\"1\" class=\"dataframe\">\n",
       "  <thead>\n",
       "    <tr style=\"text-align: right;\">\n",
       "      <th></th>\n",
       "      <th>ESCS</th>\n",
       "      <th>PV1MATH</th>\n",
       "      <th>ST57Q01</th>\n",
       "      <th>ST57Q01_bk</th>\n",
       "      <th>ESCS_bk</th>\n",
       "      <th>ESCS_bk2</th>\n",
       "      <th>CNT1</th>\n",
       "    </tr>\n",
       "  </thead>\n",
       "  <tbody>\n",
       "    <tr>\n",
       "      <th>4748</th>\n",
       "      <td>0.25</td>\n",
       "      <td>223.0955</td>\n",
       "      <td>1</td>\n",
       "      <td>(0, 2]</td>\n",
       "      <td>(0.13, 0.78]</td>\n",
       "      <td>(-0.441, 0.936]</td>\n",
       "      <td>UAE</td>\n",
       "    </tr>\n",
       "    <tr>\n",
       "      <th>4753</th>\n",
       "      <td>-0.95</td>\n",
       "      <td>379.5840</td>\n",
       "      <td>1</td>\n",
       "      <td>(0, 2]</td>\n",
       "      <td>(-1.21, -0.51]</td>\n",
       "      <td>(-1.819, -0.441]</td>\n",
       "      <td>UAE</td>\n",
       "    </tr>\n",
       "    <tr>\n",
       "      <th>4754</th>\n",
       "      <td>0.40</td>\n",
       "      <td>384.3356</td>\n",
       "      <td>5</td>\n",
       "      <td>(4, 5]</td>\n",
       "      <td>(0.13, 0.78]</td>\n",
       "      <td>(-0.441, 0.936]</td>\n",
       "      <td>UAE</td>\n",
       "    </tr>\n",
       "    <tr>\n",
       "      <th>4755</th>\n",
       "      <td>0.74</td>\n",
       "      <td>405.9121</td>\n",
       "      <td>20</td>\n",
       "      <td>(15, 30]</td>\n",
       "      <td>(0.13, 0.78]</td>\n",
       "      <td>(-0.441, 0.936]</td>\n",
       "      <td>UAE</td>\n",
       "    </tr>\n",
       "    <tr>\n",
       "      <th>4756</th>\n",
       "      <td>0.38</td>\n",
       "      <td>473.9913</td>\n",
       "      <td>4</td>\n",
       "      <td>(2, 4]</td>\n",
       "      <td>(0.13, 0.78]</td>\n",
       "      <td>(-0.441, 0.936]</td>\n",
       "      <td>UAE</td>\n",
       "    </tr>\n",
       "  </tbody>\n",
       "</table>\n",
       "</div>"
      ],
      "text/plain": [
       "      ESCS   PV1MATH  ST57Q01 ST57Q01_bk         ESCS_bk          ESCS_bk2  \\\n",
       "4748  0.25  223.0955        1     (0, 2]    (0.13, 0.78]   (-0.441, 0.936]   \n",
       "4753 -0.95  379.5840        1     (0, 2]  (-1.21, -0.51]  (-1.819, -0.441]   \n",
       "4754  0.40  384.3356        5     (4, 5]    (0.13, 0.78]   (-0.441, 0.936]   \n",
       "4755  0.74  405.9121       20   (15, 30]    (0.13, 0.78]   (-0.441, 0.936]   \n",
       "4756  0.38  473.9913        4     (2, 4]    (0.13, 0.78]   (-0.441, 0.936]   \n",
       "\n",
       "     CNT1  \n",
       "4748  UAE  \n",
       "4753  UAE  \n",
       "4754  UAE  \n",
       "4755  UAE  \n",
       "4756  UAE  "
      ]
     },
     "execution_count": 711,
     "metadata": {},
     "output_type": "execute_result"
    }
   ],
   "source": [
    "df2.head()"
   ]
  },
  {
   "cell_type": "code",
   "execution_count": 713,
   "metadata": {
    "collapsed": false
   },
   "outputs": [
    {
     "data": {
      "image/png": "[encoded data removed]",
      "text/plain": [
       "<matplotlib.figure.Figure at 0x112749590>"
      ]
     },
     "metadata": {},
     "output_type": "display_data"
    }
   ],
   "source": [
    "ax = sns.boxplot(\"ST57Q01_bk\", \"PV1MATH\", data=df);\n",
    "ax.set_title(\"distribution of \");"
   ]
  },
  {
   "cell_type": "code",
   "execution_count": 714,
   "metadata": {
    "collapsed": false
   },
   "outputs": [
    {
     "data": {
      "image/png": "[encoded data removed]",
      "text/plain": [
       "<matplotlib.figure.Figure at 0x13e7eb390>"
      ]
     },
     "metadata": {},
     "output_type": "display_data"
    }
   ],
   "source": [
    "ax = sns.boxplot(\"ST57Q01_bk\", \"PV1MATH\", data=df2);\n",
    "ax.set_title(\"distribution of \");"
   ]
  },
  {
   "cell_type": "code",
   "execution_count": 718,
   "metadata": {
    "collapsed": false
   },
   "outputs": [
    {
     "data": {
      "image/png": "[encoded data removed]",
      "text/plain": [
       "<matplotlib.figure.Figure at 0x1332c2250>"
      ]
     },
     "metadata": {},
     "output_type": "display_data"
    }
   ],
   "source": [
    "g = sns.FacetGrid(df2, size = 4, col_wrap =3, col=\"ESCS_bk2\")\n",
    "g.map(sns.boxplot, \"ST57Q01_bk\", \"PV1MATH\");"
   ]
  },
  {
   "cell_type": "code",
   "execution_count": 717,
   "metadata": {
    "collapsed": false
   },
   "outputs": [
    {
     "data": {
      "image/png": "[encoded data removed]",
      "text/plain": [
       "<matplotlib.figure.Figure at 0x125d1df90>"
      ]
     },
     "metadata": {},
     "output_type": "display_data"
    }
   ],
   "source": [
    "g = sns.FacetGrid(df, size = 4, col_wrap =3, col=\"ESCS_bk2\")\n",
    "g.map(sns.boxplot, \"ST57Q01_bk\", \"PV1MATH\");"
   ]
  },
  {
   "cell_type": "code",
   "execution_count": 721,
   "metadata": {
    "collapsed": false
   },
   "outputs": [
    {
     "data": {
      "image/png": "[encoded data removed]",
      "text/plain": [
       "<matplotlib.figure.Figure at 0x13d8b8110>"
      ]
     },
     "metadata": {},
     "output_type": "display_data"
    }
   ],
   "source": [
    "sns.countplot(x=\"ESCS_bk2\", data=df2);"
   ]
  },
  {
   "cell_type": "code",
   "execution_count": 719,
   "metadata": {
    "collapsed": false
   },
   "outputs": [
    {
     "data": {
      "text/plain": [
       "(287265, 7)"
      ]
     },
     "execution_count": 719,
     "metadata": {},
     "output_type": "execute_result"
    }
   ],
   "source": [
    "df2.shape"
   ]
  },
  {
   "cell_type": "markdown",
   "metadata": {},
   "source": [
    "###I don't know....287,000 rows to handle and plot come just is a problem in D3??? I will test that. Would be simple to use all data then to pre-calculate all decils and so on"
   ]
  },
  {
   "cell_type": "code",
   "execution_count": null,
   "metadata": {
    "collapsed": true
   },
   "outputs": [],
   "source": []
  },
  {
   "cell_type": "code",
   "execution_count": null,
   "metadata": {
    "collapsed": true
   },
   "outputs": [],
   "source": []
  },
  {
   "cell_type": "code",
   "execution_count": null,
   "metadata": {
    "collapsed": true
   },
   "outputs": [],
   "source": []
  },
  {
   "cell_type": "code",
   "execution_count": null,
   "metadata": {
    "collapsed": true
   },
   "outputs": [],
   "source": []
  },
  {
   "cell_type": "code",
   "execution_count": null,
   "metadata": {
    "collapsed": true
   },
   "outputs": [],
   "source": []
  },
  {
   "cell_type": "code",
   "execution_count": null,
   "metadata": {
    "collapsed": true
   },
   "outputs": [],
   "source": []
  },
  {
   "cell_type": "code",
   "execution_count": 502,
   "metadata": {
    "collapsed": false
   },
   "outputs": [
    {
     "data": {
      "text/html": [
       "<style>\n",
       "    @font-face {\n",
       "        font-family: \"Computer Modern\";\n",
       "        src: url('http://9dbb143991406a7c655e-aa5fcb0a5a4ec34cff238a2d56ca4144.r56.cf5.rackcdn.com/cmunss.otf');\n",
       "    }\n",
       "    @font-face {\n",
       "        font-family: \"Computer Modern\";\n",
       "        font-weight: bold;\n",
       "        src: url('http://9dbb143991406a7c655e-aa5fcb0a5a4ec34cff238a2d56ca4144.r56.cf5.rackcdn.com/cmunsx.otf');\n",
       "    }\n",
       "    @font-face {\n",
       "        font-family: \"Computer Modern\";\n",
       "        font-style: oblique;\n",
       "        src: url('http://9dbb143991406a7c655e-aa5fcb0a5a4ec34cff238a2d56ca4144.r56.cf5.rackcdn.com/cmunsi.otf');\n",
       "    }\n",
       "    @font-face {\n",
       "        font-family: \"Computer Modern\";\n",
       "        font-weight: bold;\n",
       "        font-style: oblique;\n",
       "        src: url('http://9dbb143991406a7c655e-aa5fcb0a5a4ec34cff238a2d56ca4144.r56.cf5.rackcdn.com/cmunso.otf');\n",
       "    }\n",
       "    div.cell{\n",
       "        width:800px;\n",
       "        margin-left:16% !important;\n",
       "        margin-right:auto;\n",
       "    }\n",
       "    h1 {\n",
       "        font-family: Helvetica, serif;\n",
       "    }\n",
       "    h4{\n",
       "        margin-top:12px;\n",
       "        margin-bottom: 3px;\n",
       "       }\n",
       "    div.text_cell_render{\n",
       "        font-family: Computer Modern, \"Helvetica Neue\", Arial, Helvetica, Geneva, sans-serif;\n",
       "        line-height: 145%;\n",
       "        font-size: 130%;\n",
       "        width:800px;\n",
       "        margin-left:auto;\n",
       "        margin-right:auto;\n",
       "    }\n",
       "    .CodeMirror{\n",
       "            font-family: \"Source Code Pro\", source-code-pro,Consolas, monospace;\n",
       "    }\n",
       "    .prompt{\n",
       "        display: None;\n",
       "    }\n",
       "    .text_cell_render h5 {\n",
       "        font-weight: 300;\n",
       "        font-size: 22pt;\n",
       "        color: #4057A1;\n",
       "        font-style: italic;\n",
       "        margin-bottom: .5em;\n",
       "        margin-top: 0.5em;\n",
       "        display: block;\n",
       "    }\n",
       "    \n",
       "    .warning{\n",
       "        color: rgb( 240, 20, 20 )\n",
       "        }  \n",
       "</style>\n",
       "<script>\n",
       "    MathJax.Hub.Config({\n",
       "                        TeX: {\n",
       "                           extensions: [\"AMSmath.js\"]\n",
       "                           },\n",
       "                tex2jax: {\n",
       "                    inlineMath: [ ['$','$'], [\"\\\\(\",\"\\\\)\"] ],\n",
       "                    displayMath: [ ['$$','$$'], [\"\\\\[\",\"\\\\]\"] ]\n",
       "                },\n",
       "                displayAlign: 'center', // Change this to 'center' to center equations.\n",
       "                \"HTML-CSS\": {\n",
       "                    styles: {'.MathJax_Display': {\"margin\": 4}}\n",
       "                }\n",
       "        });\n",
       "</script>\n"
      ],
      "text/plain": [
       "<IPython.core.display.HTML object>"
      ]
     },
     "execution_count": 502,
     "metadata": {},
     "output_type": "execute_result"
    }
   ],
   "source": [
    "%matplotlib inline\n",
    "from IPython.core.display import HTML\n",
    "\n",
    "\n",
    "def css_styling():\n",
    "    styles = open(\"css/ipython2.css\", \"r\").read()\n",
    "    return HTML(styles)\n",
    "\n",
    "css_styling()"
   ]
  },
  {
   "cell_type": "code",
   "execution_count": 598,
   "metadata": {
    "collapsed": true
   },
   "outputs": [],
   "source": [
    "import seaborn as sns\n",
    "sns.set_palette(\"deep\", desat=.6)\n",
    "sns.set_context(rc={\"figure.figsize\": (11, 4)})\n",
    "sns.set_style(\"darkgrid\")"
   ]
  },
  {
   "cell_type": "code",
   "execution_count": null,
   "metadata": {
    "collapsed": true
   },
   "outputs": [],
   "source": []
  }
 ],
 "metadata": {
  "kernelspec": {
   "display_name": "Python 2",
   "language": "python",
   "name": "python2"
  },
  "language_info": {
   "codemirror_mode": {
    "name": "ipython",
    "version": 2
   },
   "file_extension": ".py",
   "mimetype": "text/x-python",
   "name": "python",
   "nbconvert_exporter": "python",
   "pygments_lexer": "ipython2",
   "version": "2.7.10"
  }
 },
 "nbformat": 4,
 "nbformat_minor": 0
}
