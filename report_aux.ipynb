{
 "cells": [
  {
   "cell_type": "markdown",
   "metadata": {},
   "source": [
    "###Open file"
   ]
  },
  {
   "cell_type": "code",
   "execution_count": 8,
   "metadata": {
    "collapsed": true
   },
   "outputs": [],
   "source": [
    "import glob\n",
    "import os\n",
    "import csv\n",
    "import zipfile\n",
    "import StringIO\n",
    "\n",
    "s_root = \"C:/Users/Vera\"\n",
    "s_name = s_root + \"/Dropbox/NEUTRINO/ALGO/DATA/pisa2012.csv.zip\"\n",
    "s_dict = s_root + \"/Dropbox/NEUTRINO/ALGO/DATA/pisadict2012.csv\"\n",
    "\n",
    "# for name in glob.glob('C:/Projects/abase/*.zip'):\n",
    "#     base = os.path.basename(name)\n",
    "#     filename = os.path.splitext(base)[0]\n",
    "\n",
    "\n",
    "#     datadirectory = 'C:/Projects/abase/'\n",
    "#     dataFile = filename\n",
    "#     archive = '.'.join([dataFile, 'zip'])\n",
    "#     fullpath = ''.join([datadirectory, archive])\n",
    "#     csv_file = '.'.join([dataFile, 'csv']) #all fixed\n",
    "\n",
    "\n",
    "#     filehandle = open(fullpath, 'rb')\n",
    "#     zfile = zipfile.ZipFile(filehandle)\n",
    "#     data = StringIO.StringIO(zfile.read(csv_file)) #don't forget this line!\n",
    "#     reader = csv.reader(data)\n",
    "\n",
    "#     for row in reader:\n",
    "#         print row"
   ]
  },
  {
   "cell_type": "markdown",
   "metadata": {},
   "source": [
    "###Create a function to read the file"
   ]
  },
  {
   "cell_type": "code",
   "execution_count": 9,
   "metadata": {
    "collapsed": true
   },
   "outputs": [],
   "source": [
    "import pandas as pd"
   ]
  },
  {
   "cell_type": "code",
   "execution_count": 10,
   "metadata": {
    "collapsed": true
   },
   "outputs": [],
   "source": [
    "df_labels = pd.read_csv(s_dict)\n",
    "df_labels.columns=[\"VAR\",\"DESCRIPTION\"]"
   ]
  },
  {
   "cell_type": "code",
   "execution_count": 11,
   "metadata": {
    "collapsed": false
   },
   "outputs": [
    {
     "data": {
      "text/html": [
       "<div>\n",
       "<table border=\"1\" class=\"dataframe\">\n",
       "  <thead>\n",
       "    <tr style=\"text-align: right;\">\n",
       "      <th></th>\n",
       "      <th>VAR</th>\n",
       "      <th>DESCRIPTION</th>\n",
       "    </tr>\n",
       "  </thead>\n",
       "  <tbody>\n",
       "    <tr>\n",
       "      <th>0</th>\n",
       "      <td>CNT</td>\n",
       "      <td>Country code 3-character</td>\n",
       "    </tr>\n",
       "    <tr>\n",
       "      <th>1</th>\n",
       "      <td>SUBNATIO</td>\n",
       "      <td>Adjudicated sub-region code 7-digit code (3-di...</td>\n",
       "    </tr>\n",
       "    <tr>\n",
       "      <th>2</th>\n",
       "      <td>STRATUM</td>\n",
       "      <td>Stratum ID 7-character (cnt + region ID + orig...</td>\n",
       "    </tr>\n",
       "    <tr>\n",
       "      <th>3</th>\n",
       "      <td>OECD</td>\n",
       "      <td>OECD country</td>\n",
       "    </tr>\n",
       "    <tr>\n",
       "      <th>4</th>\n",
       "      <td>NC</td>\n",
       "      <td>National Centre 6-digit Code</td>\n",
       "    </tr>\n",
       "  </tbody>\n",
       "</table>\n",
       "</div>"
      ],
      "text/plain": [
       "        VAR                                        DESCRIPTION\n",
       "0       CNT                           Country code 3-character\n",
       "1  SUBNATIO  Adjudicated sub-region code 7-digit code (3-di...\n",
       "2   STRATUM  Stratum ID 7-character (cnt + region ID + orig...\n",
       "3      OECD                                       OECD country\n",
       "4        NC                       National Centre 6-digit Code"
      ]
     },
     "execution_count": 11,
     "metadata": {},
     "output_type": "execute_result"
    }
   ],
   "source": [
    "df_labels.head(5)"
   ]
  },
  {
   "cell_type": "code",
   "execution_count": 12,
   "metadata": {
    "collapsed": false
   },
   "outputs": [],
   "source": [
    "import csv\n",
    "import zipfile\n",
    "\n",
    "def _getFields(l_fields, row):\n",
    "    '''\n",
    "    Return a dictionary with the data into the row, filtering \n",
    "    the fields passed \n",
    "    '''\n",
    "    return {k: row.get(k, None) for k in l_fields}\n",
    "\n",
    "def getData(s_file, l_fields):\n",
    "    '''\n",
    "    Return a list of dictionaries with the data desired\n",
    "    '''\n",
    "    with open(s_file, 'rb') as f1:\n",
    "        zfile = zipfile.ZipFile(f1)\n",
    "        l_rtn = []\n",
    "        with zfile.open(zfile.filelist[0].filename) as f:\n",
    "            reader = csv.DictReader(f)\n",
    "            for idx, row in enumerate(reader):\n",
    "                #count lines processed\n",
    "                if idx%50000==0: print \"estou na linha {}\".format(idx)\n",
    "                #get data desired\n",
    "                l_rtn.append(_getFields(l_fields, row))\n",
    "        print \"estou na linha {}\".format(idx)\n",
    "        \n",
    "    return l_rtn    "
   ]
  },
  {
   "cell_type": "code",
   "execution_count": 37,
   "metadata": {
    "collapsed": false
   },
   "outputs": [
    {
     "name": "stdout",
     "output_type": "stream",
     "text": [
      "estou na linha 0\n",
      "estou na linha 50000\n",
      "estou na linha 100000\n",
      "estou na linha 150000\n",
      "estou na linha 200000\n",
      "estou na linha 250000\n",
      "estou na linha 300000\n",
      "estou na linha 350000\n",
      "estou na linha 400000\n",
      "estou na linha 450000\n",
      "estou na linha 485489\n",
      "CPU times: user 2min 18s, sys: 723 ms, total: 2min 19s\n",
      "Wall time: 2min 19s\n"
     ]
    }
   ],
   "source": [
    "l_test = list(df_labels.head(5).VAR)\n",
    "%time d_data = getData(s_name, l_test)"
   ]
  },
  {
   "cell_type": "markdown",
   "metadata": {},
   "source": [
    "###let's see the countries names"
   ]
  },
  {
   "cell_type": "code",
   "execution_count": 40,
   "metadata": {
    "collapsed": false
   },
   "outputs": [],
   "source": [
    "df_country =  pd.DataFrame(d_data)"
   ]
  },
  {
   "cell_type": "code",
   "execution_count": 44,
   "metadata": {
    "collapsed": false
   },
   "outputs": [
    {
     "data": {
      "text/html": [
       "<div>\n",
       "<table border=\"1\" class=\"dataframe\">\n",
       "  <thead>\n",
       "    <tr style=\"text-align: right;\">\n",
       "      <th></th>\n",
       "      <th>CNT</th>\n",
       "      <th>NC</th>\n",
       "      <th>OECD</th>\n",
       "      <th>STRATUM</th>\n",
       "      <th>SUBNATIO</th>\n",
       "    </tr>\n",
       "  </thead>\n",
       "  <tbody>\n",
       "    <tr>\n",
       "      <th>0</th>\n",
       "      <td>Albania</td>\n",
       "      <td>Albania</td>\n",
       "      <td>Non-OECD</td>\n",
       "      <td>ALB0006</td>\n",
       "      <td>0080000</td>\n",
       "    </tr>\n",
       "    <tr>\n",
       "      <th>1</th>\n",
       "      <td>Albania</td>\n",
       "      <td>Albania</td>\n",
       "      <td>Non-OECD</td>\n",
       "      <td>ALB0006</td>\n",
       "      <td>0080000</td>\n",
       "    </tr>\n",
       "    <tr>\n",
       "      <th>2</th>\n",
       "      <td>Albania</td>\n",
       "      <td>Albania</td>\n",
       "      <td>Non-OECD</td>\n",
       "      <td>ALB0006</td>\n",
       "      <td>0080000</td>\n",
       "    </tr>\n",
       "    <tr>\n",
       "      <th>3</th>\n",
       "      <td>Albania</td>\n",
       "      <td>Albania</td>\n",
       "      <td>Non-OECD</td>\n",
       "      <td>ALB0006</td>\n",
       "      <td>0080000</td>\n",
       "    </tr>\n",
       "    <tr>\n",
       "      <th>4</th>\n",
       "      <td>Albania</td>\n",
       "      <td>Albania</td>\n",
       "      <td>Non-OECD</td>\n",
       "      <td>ALB0006</td>\n",
       "      <td>0080000</td>\n",
       "    </tr>\n",
       "  </tbody>\n",
       "</table>\n",
       "</div>"
      ],
      "text/plain": [
       "       CNT       NC      OECD  STRATUM SUBNATIO\n",
       "0  Albania  Albania  Non-OECD  ALB0006  0080000\n",
       "1  Albania  Albania  Non-OECD  ALB0006  0080000\n",
       "2  Albania  Albania  Non-OECD  ALB0006  0080000\n",
       "3  Albania  Albania  Non-OECD  ALB0006  0080000\n",
       "4  Albania  Albania  Non-OECD  ALB0006  0080000"
      ]
     },
     "execution_count": 44,
     "metadata": {},
     "output_type": "execute_result"
    }
   ],
   "source": [
    "df_country.head()"
   ]
  },
  {
   "cell_type": "code",
   "execution_count": 76,
   "metadata": {
    "collapsed": false
   },
   "outputs": [],
   "source": [
    "b=[x.strip() for x in df_country.CNT.unique()]\n",
    "a=[x.strip() for x in df_country.NC.unique()]"
   ]
  },
  {
   "cell_type": "code",
   "execution_count": 79,
   "metadata": {
    "collapsed": false
   },
   "outputs": [
    {
     "data": {
      "text/plain": [
       "['United Kingdom (excl.Scotland)',\n",
       " 'United Kingdom (Scotland)',\n",
       " 'Republic of Korea',\n",
       " 'China (Shanghai)',\n",
       " 'Perm (Russian Federation)',\n",
       " 'Viet Nam']"
      ]
     },
     "execution_count": 79,
     "metadata": {},
     "output_type": "execute_result"
    }
   ],
   "source": [
    "[x for  x in a if x not in b]"
   ]
  },
  {
   "cell_type": "code",
   "execution_count": 78,
   "metadata": {
    "collapsed": false
   },
   "outputs": [
    {
     "data": {
      "text/plain": [
       "['United Kingdom',\n",
       " 'Korea',\n",
       " 'China-Shanghai',\n",
       " 'Perm(Russian Federation)',\n",
       " 'Florida (USA)',\n",
       " 'Connecticut (USA)',\n",
       " 'Massachusetts (USA)',\n",
       " 'Vietnam']"
      ]
     },
     "execution_count": 78,
     "metadata": {},
     "output_type": "execute_result"
    }
   ],
   "source": [
    "[x for  x in b if x not in a]"
   ]
  },
  {
   "cell_type": "markdown",
   "metadata": {},
   "source": [
    "###I like more the CNT names. I will make just some changes"
   ]
  },
  {
   "cell_type": "code",
   "execution_count": 6,
   "metadata": {
    "collapsed": false
   },
   "outputs": [
    {
     "name": "stdout",
     "output_type": "stream",
     "text": [
      "estou na linha 0\n",
      "estou na linha 50000\n",
      "estou na linha 100000\n",
      "estou na linha 150000\n",
      "estou na linha 200000\n",
      "estou na linha 250000\n",
      "estou na linha 300000\n",
      "estou na linha 350000\n",
      "estou na linha 400000\n",
      "estou na linha 450000\n",
      "estou na linha 485489\n",
      "CPU times: user 2min 21s, sys: 794 ms, total: 2min 22s\n",
      "Wall time: 2min 22s\n"
     ]
    }
   ],
   "source": [
    "l_test = [\"CNT\",\"SUBJECT\"]\n",
    "%time d_data = getData(s_name, l_test)"
   ]
  },
  {
   "cell_type": "code",
   "execution_count": 7,
   "metadata": {
    "collapsed": true
   },
   "outputs": [],
   "source": [
    "df =  pd.DataFrame(d_data)\n",
    "b=[x.strip() for x in df.CNT.unique()]"
   ]
  },
  {
   "cell_type": "code",
   "execution_count": 8,
   "metadata": {
    "collapsed": false
   },
   "outputs": [],
   "source": [
    "d_newNames = dict(zip(b,b))\n",
    "d_newNames[\"United Arab Emirates\"] = \"UAE\"\n",
    "d_newNames[\"United Kingdom\"] = \"UK\"\n",
    "d_newNames[\"Serbia\"] = \"Serbia\"\n",
    "d_newNames[\"Korea\"] = \"South Korea\"\n",
    "d_newNames[\"Chinese Taipei\"] = \"Taiwan\"\n",
    "d_newNames[\"Slovak Republic\"] = \"Slovakia\"\n",
    "d_newNames[\"Russian Federation\"] = \"Russia\"\n",
    "d_newNames[\"Perm(Russian Federation)\"] = \"Russia\"\n",
    "d_newNames[\"Hong Kong-China\"] = \"Hong Kong\"\n",
    "d_newNames[\"China-Shanghai\"] = \"China\"\n",
    "d_newNames[\"Macau\"] = \"Macau\"\n",
    "d_newNames[\"Connecticut (USA)\"] = \"USA\"\n",
    "d_newNames[\"Florida (USA)\"] = \"USA\"\n",
    "d_newNames[\"Massachusetts (USA)\"] = \"USA\"\n",
    "d_newNames[\"United States of America\"] = \"USA\""
   ]
  },
  {
   "cell_type": "code",
   "execution_count": 9,
   "metadata": {
    "collapsed": false
   },
   "outputs": [],
   "source": [
    "df.CNT = df.CNT.apply(lambda x: d_newNames[x])"
   ]
  },
  {
   "cell_type": "code",
   "execution_count": 11,
   "metadata": {
    "collapsed": false
   },
   "outputs": [
    {
     "name": "stdout",
     "output_type": "stream",
     "text": [
      "Number of Rows: 485490\n",
      "Number of Countries in the dataset: 64\n"
     ]
    }
   ],
   "source": [
    "print \"Number of Rows: {}\".format(df.shape[0])\n",
    "print \"Number of Countries in the dataset: {}\".format(len(df.CNT.unique()))"
   ]
  },
  {
   "cell_type": "markdown",
   "metadata": {},
   "source": [
    "###Also, I would like to use Gini Index in my visualizations...maybe I could change the color of the countries by it"
   ]
  },
  {
   "cell_type": "markdown",
   "metadata": {},
   "source": [
    "Here is how it would be done in R\n",
    "<code>\n",
    "    > repGINI = vars %>%\n",
    "    +         group_by(CNT, SUBJECT) %>%\n",
    "    +         summarise_each(funs(Gini( (./sum(.)) * SCORE)), \n",
    "    +                        contains('W_FSTR')) %>%\n",
    "    +         melt(id=c('CNT', 'SUBJECT'), variable.name='REPNAME', \n",
    "    +              value.name='GINI')\n",
    "</code>"
   ]
  },
  {
   "cell_type": "markdown",
   "metadata": {
    "collapsed": true
   },
   "source": [
    "Think better, I will calculate it using R.... I guess that it would be faster."
   ]
  },
  {
   "cell_type": "code",
   "execution_count": 44,
   "metadata": {
    "collapsed": false
   },
   "outputs": [
    {
     "name": "stdout",
     "output_type": "stream",
     "text": [
      "estou na linha 0\n",
      "estou na linha 50000\n",
      "estou na linha 100000\n",
      "estou na linha 150000\n",
      "estou na linha 200000\n",
      "estou na linha 250000\n",
      "estou na linha 300000\n",
      "estou na linha 350000\n",
      "estou na linha 400000\n",
      "estou na linha 450000\n",
      "estou na linha 485489\n",
      "CPU times: user 2min 21s, sys: 3.59 s, total: 2min 25s\n",
      "Wall time: 2min 25s\n"
     ]
    }
   ],
   "source": [
    "l_test = [\"CNT\",\"SUBNATIO\",\"STRATUM\",\"OECD\",\"NC\",\"SCHOOLID\",\"STIDSTD\",\"PV1MATH\",\"PV2MATH\",\"PV3MATH\",\"PV4MATH\",\"PV5MATH\",\"PV1READ\",\"PV2READ\",\"PV3READ\",\"PV4READ\",\"PV5READ\",\"PV1SCIE\",\"PV2SCIE\",\"PV3SCIE\",\"PV4SCIE\",\"PV5SCIE\",\"W_FSTUWT\"]\n",
    "%time d_data = getData(s_name, l_test)"
   ]
  },
  {
   "cell_type": "code",
   "execution_count": 45,
   "metadata": {
    "collapsed": true
   },
   "outputs": [],
   "source": [
    "df =  pd.DataFrame(d_data)"
   ]
  },
  {
   "cell_type": "code",
   "execution_count": null,
   "metadata": {
    "collapsed": false
   },
   "outputs": [],
   "source": []
  },
  {
   "cell_type": "code",
   "execution_count": 36,
   "metadata": {
    "collapsed": false
   },
   "outputs": [
    {
     "data": {
      "text/html": [
       "<div>\n",
       "<table border=\"1\" class=\"dataframe\">\n",
       "  <thead>\n",
       "    <tr style=\"text-align: right;\">\n",
       "      <th></th>\n",
       "      <th>CNT</th>\n",
       "      <th>NC</th>\n",
       "      <th>OECD</th>\n",
       "      <th>PV1MATH</th>\n",
       "      <th>PV1READ</th>\n",
       "      <th>PV1SCIE</th>\n",
       "      <th>PV2MATH</th>\n",
       "      <th>PV2READ</th>\n",
       "      <th>PV2SCIE</th>\n",
       "      <th>PV3MATH</th>\n",
       "      <th>...</th>\n",
       "      <th>PV4READ</th>\n",
       "      <th>PV4SCIE</th>\n",
       "      <th>PV5MATH</th>\n",
       "      <th>PV5READ</th>\n",
       "      <th>PV5SCIE</th>\n",
       "      <th>SCHOOLID</th>\n",
       "      <th>STIDSTD</th>\n",
       "      <th>STRATUM</th>\n",
       "      <th>SUBNATIO</th>\n",
       "      <th>W_FSTUWT</th>\n",
       "    </tr>\n",
       "  </thead>\n",
       "  <tbody>\n",
       "    <tr>\n",
       "      <th>0</th>\n",
       "      <td>Albania</td>\n",
       "      <td>Albania</td>\n",
       "      <td>Non-OECD</td>\n",
       "      <td>406.8469</td>\n",
       "      <td>249.5762</td>\n",
       "      <td>None</td>\n",
       "      <td>376.4683</td>\n",
       "      <td>254.342</td>\n",
       "      <td>408.84</td>\n",
       "      <td>344.5319</td>\n",
       "      <td>...</td>\n",
       "      <td>175.7053</td>\n",
       "      <td>367.8105</td>\n",
       "      <td>381.9209</td>\n",
       "      <td>218.5981</td>\n",
       "      <td>392.9877</td>\n",
       "      <td>0000001</td>\n",
       "      <td>00001</td>\n",
       "      <td>ALB0006</td>\n",
       "      <td>0080000</td>\n",
       "      <td>8.9096</td>\n",
       "    </tr>\n",
       "    <tr>\n",
       "      <th>1</th>\n",
       "      <td>Albania</td>\n",
       "      <td>Albania</td>\n",
       "      <td>Non-OECD</td>\n",
       "      <td>486.1427</td>\n",
       "      <td>406.2936</td>\n",
       "      <td>None</td>\n",
       "      <td>464.3325</td>\n",
       "      <td>349.8975</td>\n",
       "      <td>471.5964</td>\n",
       "      <td>453.4273</td>\n",
       "      <td>...</td>\n",
       "      <td>369.7553</td>\n",
       "      <td>443.6218</td>\n",
       "      <td>476.0165</td>\n",
       "      <td>396.7618</td>\n",
       "      <td>454.8116</td>\n",
       "      <td>0000001</td>\n",
       "      <td>00002</td>\n",
       "      <td>ALB0006</td>\n",
       "      <td>0080000</td>\n",
       "      <td>8.9096</td>\n",
       "    </tr>\n",
       "    <tr>\n",
       "      <th>2</th>\n",
       "      <td>Albania</td>\n",
       "      <td>Albania</td>\n",
       "      <td>Non-OECD</td>\n",
       "      <td>533.2684</td>\n",
       "      <td>401.21</td>\n",
       "      <td>None</td>\n",
       "      <td>481.0796</td>\n",
       "      <td>404.3872</td>\n",
       "      <td>428.7952</td>\n",
       "      <td>489.6479</td>\n",
       "      <td>...</td>\n",
       "      <td>431.3938</td>\n",
       "      <td>512.7191</td>\n",
       "      <td>533.2684</td>\n",
       "      <td>401.21</td>\n",
       "      <td>499.6643</td>\n",
       "      <td>0000001</td>\n",
       "      <td>00003</td>\n",
       "      <td>ALB0006</td>\n",
       "      <td>0080000</td>\n",
       "      <td>8.4871</td>\n",
       "    </tr>\n",
       "    <tr>\n",
       "      <th>3</th>\n",
       "      <td>Albania</td>\n",
       "      <td>Albania</td>\n",
       "      <td>Non-OECD</td>\n",
       "      <td>412.2215</td>\n",
       "      <td>547.363</td>\n",
       "      <td>None</td>\n",
       "      <td>498.6836</td>\n",
       "      <td>481.4353</td>\n",
       "      <td>481.574</td>\n",
       "      <td>415.3373</td>\n",
       "      <td>...</td>\n",
       "      <td>425.0393</td>\n",
       "      <td>474.1141</td>\n",
       "      <td>454.2842</td>\n",
       "      <td>471.9036</td>\n",
       "      <td>426.5573</td>\n",
       "      <td>0000001</td>\n",
       "      <td>00004</td>\n",
       "      <td>ALB0006</td>\n",
       "      <td>0080000</td>\n",
       "      <td>8.4871</td>\n",
       "    </tr>\n",
       "    <tr>\n",
       "      <th>4</th>\n",
       "      <td>Albania</td>\n",
       "      <td>Albania</td>\n",
       "      <td>Non-OECD</td>\n",
       "      <td>381.9209</td>\n",
       "      <td>311.7707</td>\n",
       "      <td>None</td>\n",
       "      <td>328.1742</td>\n",
       "      <td>141.7883</td>\n",
       "      <td>275.774</td>\n",
       "      <td>403.7311</td>\n",
       "      <td>...</td>\n",
       "      <td>272.8495</td>\n",
       "      <td>403.5248</td>\n",
       "      <td>395.1628</td>\n",
       "      <td>260.1405</td>\n",
       "      <td>422.1746</td>\n",
       "      <td>0000001</td>\n",
       "      <td>00005</td>\n",
       "      <td>ALB0006</td>\n",
       "      <td>0080000</td>\n",
       "      <td>8.4871</td>\n",
       "    </tr>\n",
       "  </tbody>\n",
       "</table>\n",
       "<p>5 rows × 23 columns</p>\n",
       "</div>"
      ],
      "text/plain": [
       "       CNT       NC      OECD   PV1MATH   PV1READ PV1SCIE    PV2MATH  \\\n",
       "0  Albania  Albania  Non-OECD  406.8469  249.5762     None  376.4683   \n",
       "1  Albania  Albania  Non-OECD  486.1427  406.2936     None  464.3325   \n",
       "2  Albania  Albania  Non-OECD  533.2684    401.21     None  481.0796   \n",
       "3  Albania  Albania  Non-OECD  412.2215   547.363     None  498.6836   \n",
       "4  Albania  Albania  Non-OECD  381.9209  311.7707     None  328.1742   \n",
       "\n",
       "    PV2READ   PV2SCIE   PV3MATH   ...      PV4READ   PV4SCIE   PV5MATH  \\\n",
       "0   254.342    408.84  344.5319   ...     175.7053  367.8105  381.9209   \n",
       "1  349.8975  471.5964  453.4273   ...     369.7553  443.6218  476.0165   \n",
       "2  404.3872  428.7952  489.6479   ...     431.3938  512.7191  533.2684   \n",
       "3  481.4353   481.574  415.3373   ...     425.0393  474.1141  454.2842   \n",
       "4  141.7883   275.774  403.7311   ...     272.8495  403.5248  395.1628   \n",
       "\n",
       "    PV5READ   PV5SCIE SCHOOLID STIDSTD  STRATUM SUBNATIO W_FSTUWT  \n",
       "0  218.5981  392.9877  0000001   00001  ALB0006  0080000   8.9096  \n",
       "1  396.7618  454.8116  0000001   00002  ALB0006  0080000   8.9096  \n",
       "2    401.21  499.6643  0000001   00003  ALB0006  0080000   8.4871  \n",
       "3  471.9036  426.5573  0000001   00004  ALB0006  0080000   8.4871  \n",
       "4  260.1405  422.1746  0000001   00005  ALB0006  0080000   8.4871  \n",
       "\n",
       "[5 rows x 23 columns]"
      ]
     },
     "execution_count": 36,
     "metadata": {},
     "output_type": "execute_result"
    }
   ],
   "source": [
    "df.head()"
   ]
  },
  {
   "cell_type": "code",
   "execution_count": 38,
   "metadata": {
    "collapsed": false
   },
   "outputs": [
    {
     "data": {
      "text/plain": [
       "485490"
      ]
     },
     "execution_count": 38,
     "metadata": {},
     "output_type": "execute_result"
    }
   ],
   "source": [
    "len(df.ix[:,['CNT', 'SUBNATIO', 'STRATUM', 'OECD', 'NC','SCHOOLID', 'STIDSTD', 'W_FSTUWT']].values)"
   ]
  },
  {
   "cell_type": "code",
   "execution_count": 39,
   "metadata": {
    "collapsed": false
   },
   "outputs": [
    {
     "data": {
      "text/plain": [
       "485490"
      ]
     },
     "execution_count": 39,
     "metadata": {},
     "output_type": "execute_result"
    }
   ],
   "source": [
    "len(df.index)"
   ]
  },
  {
   "cell_type": "code",
   "execution_count": null,
   "metadata": {
    "collapsed": false
   },
   "outputs": [],
   "source": []
  },
  {
   "cell_type": "code",
   "execution_count": 46,
   "metadata": {
    "collapsed": true
   },
   "outputs": [],
   "source": [
    "df_aux = df.copy()"
   ]
  },
  {
   "cell_type": "code",
   "execution_count": 48,
   "metadata": {
    "collapsed": false
   },
   "outputs": [],
   "source": [
    "df.index = [df.CNT, df.SUBNATIO, df.STRATUM, df.OECD, df.NC, df.SCHOOLID, df.STIDSTD, df.W_FSTUWT]"
   ]
  },
  {
   "cell_type": "code",
   "execution_count": 49,
   "metadata": {
    "collapsed": false
   },
   "outputs": [],
   "source": [
    "df.drop(['CNT', 'SUBNATIO', 'STRATUM', 'OECD', 'NC','SCHOOLID', 'STIDSTD', 'W_FSTUWT'], inplace=True, axis=1)"
   ]
  },
  {
   "cell_type": "code",
   "execution_count": 51,
   "metadata": {
    "collapsed": false
   },
   "outputs": [],
   "source": [
    "df_aux = df.stack()"
   ]
  },
  {
   "cell_type": "code",
   "execution_count": 52,
   "metadata": {
    "collapsed": false
   },
   "outputs": [
    {
     "data": {
      "text/plain": [
       "(7282350,)"
      ]
     },
     "execution_count": 52,
     "metadata": {},
     "output_type": "execute_result"
    }
   ],
   "source": [
    "df_aux.shape"
   ]
  },
  {
   "cell_type": "markdown",
   "metadata": {
    "collapsed": true
   },
   "source": [
    "###I just notice that this Gini coeficient is about inequality in the Data...not economically. Let's do it in another way. I need the GDP per capita from this countries...in 2012\n",
    "\n",
    "I just found a source...nice"
   ]
  },
  {
   "cell_type": "code",
   "execution_count": null,
   "metadata": {
    "collapsed": true
   },
   "outputs": [],
   "source": []
  },
  {
   "cell_type": "code",
   "execution_count": null,
   "metadata": {
    "collapsed": true
   },
   "outputs": [],
   "source": []
  },
  {
   "cell_type": "code",
   "execution_count": null,
   "metadata": {
    "collapsed": true
   },
   "outputs": [],
   "source": []
  },
  {
   "cell_type": "code",
   "execution_count": null,
   "metadata": {
    "collapsed": true
   },
   "outputs": [],
   "source": []
  },
  {
   "cell_type": "code",
   "execution_count": null,
   "metadata": {
    "collapsed": true
   },
   "outputs": [],
   "source": []
  },
  {
   "cell_type": "code",
   "execution_count": null,
   "metadata": {
    "collapsed": true
   },
   "outputs": [],
   "source": []
  },
  {
   "cell_type": "code",
   "execution_count": null,
   "metadata": {
    "collapsed": true
   },
   "outputs": [],
   "source": []
  },
  {
   "cell_type": "markdown",
   "metadata": {},
   "source": [
    "###Look at what there are inside the data"
   ]
  },
  {
   "cell_type": "code",
   "execution_count": null,
   "metadata": {
    "collapsed": true
   },
   "outputs": [],
   "source": []
  },
  {
   "cell_type": "code",
   "execution_count": null,
   "metadata": {
    "collapsed": true
   },
   "outputs": [],
   "source": []
  },
  {
   "cell_type": "code",
   "execution_count": null,
   "metadata": {
    "collapsed": true
   },
   "outputs": [],
   "source": []
  },
  {
   "cell_type": "code",
   "execution_count": null,
   "metadata": {
    "collapsed": true
   },
   "outputs": [],
   "source": []
  },
  {
   "cell_type": "code",
   "execution_count": null,
   "metadata": {
    "collapsed": true
   },
   "outputs": [],
   "source": []
  },
  {
   "cell_type": "code",
   "execution_count": null,
   "metadata": {
    "collapsed": true
   },
   "outputs": [],
   "source": []
  },
  {
   "cell_type": "code",
   "execution_count": 7,
   "metadata": {
    "collapsed": false
   },
   "outputs": [
    {
     "data": {
      "text/html": [
       "<style>\n",
       "    @font-face {\n",
       "        font-family: \"Computer Modern\";\n",
       "        src: url('http://9dbb143991406a7c655e-aa5fcb0a5a4ec34cff238a2d56ca4144.r56.cf5.rackcdn.com/cmunss.otf');\n",
       "    }\n",
       "    @font-face {\n",
       "        font-family: \"Computer Modern\";\n",
       "        font-weight: bold;\n",
       "        src: url('http://9dbb143991406a7c655e-aa5fcb0a5a4ec34cff238a2d56ca4144.r56.cf5.rackcdn.com/cmunsx.otf');\n",
       "    }\n",
       "    @font-face {\n",
       "        font-family: \"Computer Modern\";\n",
       "        font-style: oblique;\n",
       "        src: url('http://9dbb143991406a7c655e-aa5fcb0a5a4ec34cff238a2d56ca4144.r56.cf5.rackcdn.com/cmunsi.otf');\n",
       "    }\n",
       "    @font-face {\n",
       "        font-family: \"Computer Modern\";\n",
       "        font-weight: bold;\n",
       "        font-style: oblique;\n",
       "        src: url('http://9dbb143991406a7c655e-aa5fcb0a5a4ec34cff238a2d56ca4144.r56.cf5.rackcdn.com/cmunso.otf');\n",
       "    }\n",
       "    div.cell{\n",
       "        width:800px;\n",
       "        margin-left:16% !important;\n",
       "        margin-right:auto;\n",
       "    }\n",
       "    h1 {\n",
       "        font-family: Helvetica, serif;\n",
       "    }\n",
       "    h4{\n",
       "        margin-top:12px;\n",
       "        margin-bottom: 3px;\n",
       "       }\n",
       "    div.text_cell_render{\n",
       "        font-family: Computer Modern, \"Helvetica Neue\", Arial, Helvetica, Geneva, sans-serif;\n",
       "        line-height: 145%;\n",
       "        font-size: 130%;\n",
       "        width:800px;\n",
       "        margin-left:auto;\n",
       "        margin-right:auto;\n",
       "    }\n",
       "    .CodeMirror{\n",
       "            font-family: \"Source Code Pro\", source-code-pro,Consolas, monospace;\n",
       "    }\n",
       "    .prompt{\n",
       "        display: None;\n",
       "    }\n",
       "    .text_cell_render h5 {\n",
       "        font-weight: 300;\n",
       "        font-size: 22pt;\n",
       "        color: #4057A1;\n",
       "        font-style: italic;\n",
       "        margin-bottom: .5em;\n",
       "        margin-top: 0.5em;\n",
       "        display: block;\n",
       "    }\n",
       "    \n",
       "    .warning{\n",
       "        color: rgb( 240, 20, 20 )\n",
       "        }  \n",
       "</style>\n",
       "<script>\n",
       "    MathJax.Hub.Config({\n",
       "                        TeX: {\n",
       "                           extensions: [\"AMSmath.js\"]\n",
       "                           },\n",
       "                tex2jax: {\n",
       "                    inlineMath: [ ['$','$'], [\"\\\\(\",\"\\\\)\"] ],\n",
       "                    displayMath: [ ['$$','$$'], [\"\\\\[\",\"\\\\]\"] ]\n",
       "                },\n",
       "                displayAlign: 'center', // Change this to 'center' to center equations.\n",
       "                \"HTML-CSS\": {\n",
       "                    styles: {'.MathJax_Display': {\"margin\": 4}}\n",
       "                }\n",
       "        });\n",
       "</script>\n"
      ],
      "text/plain": [
       "<IPython.core.display.HTML object>"
      ]
     },
     "execution_count": 7,
     "metadata": {},
     "output_type": "execute_result"
    }
   ],
   "source": [
    "from IPython.core.display import HTML\n",
    "\n",
    "\n",
    "def css_styling():\n",
    "    styles = open(\"css/ipython2.css\", \"r\").read()\n",
    "    return HTML(styles)\n",
    "\n",
    "css_styling()"
   ]
  },
  {
   "cell_type": "code",
   "execution_count": null,
   "metadata": {
    "collapsed": true
   },
   "outputs": [],
   "source": []
  }
 ],
 "metadata": {
  "kernelspec": {
   "display_name": "Python 2",
   "language": "python",
   "name": "python2"
  },
  "language_info": {
   "codemirror_mode": {
    "name": "ipython",
    "version": 2
   },
   "file_extension": ".py",
   "mimetype": "text/x-python",
   "name": "python",
   "nbconvert_exporter": "python",
   "pygments_lexer": "ipython2",
   "version": "2.7.9"
  }
 },
 "nbformat": 4,
 "nbformat_minor": 0
}
