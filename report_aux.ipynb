{
 "cells": [
  {
   "cell_type": "markdown",
   "metadata": {},
   "source": [
    "###Open file and initiate variables"
   ]
  },
  {
   "cell_type": "code",
   "execution_count": 5,
   "metadata": {
    "collapsed": true
   },
   "outputs": [],
   "source": [
    "import glob\n",
    "import os\n",
    "import csv\n",
    "import zipfile\n",
    "import StringIO\n",
    "\n",
    "s_root = \"C:/Users/Vera\"\n",
    "s_root = \"/Users/ucaiado\"\n",
    "s_name = s_root + \"/Dropbox/NEUTRINO/ALGO/DATA/pisa2012.csv.zip\"\n",
    "s_dict = s_root + \"/Dropbox/NEUTRINO/ALGO/DATA/pisadict2012.csv\""
   ]
  },
  {
   "cell_type": "markdown",
   "metadata": {},
   "source": [
    "###Create a function to read the file and read the file labels"
   ]
  },
  {
   "cell_type": "code",
   "execution_count": 6,
   "metadata": {
    "collapsed": true
   },
   "outputs": [],
   "source": [
    "import pandas as pd"
   ]
  },
  {
   "cell_type": "code",
   "execution_count": 7,
   "metadata": {
    "collapsed": true
   },
   "outputs": [],
   "source": [
    "df_labels = pd.read_csv(s_dict)\n",
    "df_labels.columns=[\"VAR\",\"DESCRIPTION\"]"
   ]
  },
  {
   "cell_type": "code",
   "execution_count": 8,
   "metadata": {
    "collapsed": false
   },
   "outputs": [
    {
     "data": {
      "text/html": [
       "<div>\n",
       "<table border=\"1\" class=\"dataframe\">\n",
       "  <thead>\n",
       "    <tr style=\"text-align: right;\">\n",
       "      <th></th>\n",
       "      <th>VAR</th>\n",
       "      <th>DESCRIPTION</th>\n",
       "    </tr>\n",
       "  </thead>\n",
       "  <tbody>\n",
       "    <tr>\n",
       "      <th>0</th>\n",
       "      <td>CNT</td>\n",
       "      <td>Country code 3-character</td>\n",
       "    </tr>\n",
       "    <tr>\n",
       "      <th>1</th>\n",
       "      <td>SUBNATIO</td>\n",
       "      <td>Adjudicated sub-region code 7-digit code (3-di...</td>\n",
       "    </tr>\n",
       "    <tr>\n",
       "      <th>2</th>\n",
       "      <td>STRATUM</td>\n",
       "      <td>Stratum ID 7-character (cnt + region ID + orig...</td>\n",
       "    </tr>\n",
       "    <tr>\n",
       "      <th>3</th>\n",
       "      <td>OECD</td>\n",
       "      <td>OECD country</td>\n",
       "    </tr>\n",
       "    <tr>\n",
       "      <th>4</th>\n",
       "      <td>NC</td>\n",
       "      <td>National Centre 6-digit Code</td>\n",
       "    </tr>\n",
       "  </tbody>\n",
       "</table>\n",
       "</div>"
      ],
      "text/plain": [
       "        VAR                                        DESCRIPTION\n",
       "0       CNT                           Country code 3-character\n",
       "1  SUBNATIO  Adjudicated sub-region code 7-digit code (3-di...\n",
       "2   STRATUM  Stratum ID 7-character (cnt + region ID + orig...\n",
       "3      OECD                                       OECD country\n",
       "4        NC                       National Centre 6-digit Code"
      ]
     },
     "execution_count": 8,
     "metadata": {},
     "output_type": "execute_result"
    }
   ],
   "source": [
    "df_labels.head(5)"
   ]
  },
  {
   "cell_type": "code",
   "execution_count": 9,
   "metadata": {
    "collapsed": false
   },
   "outputs": [],
   "source": [
    "import csv\n",
    "import zipfile\n",
    "\n",
    "def _getFields(l_fields, row):\n",
    "    '''\n",
    "    Return a dictionary with the data into the row, filtering \n",
    "    the fields passed \n",
    "    '''\n",
    "    return {k: row.get(k, None) for k in l_fields}\n",
    "\n",
    "def getData(s_file, l_fields):\n",
    "    '''\n",
    "    Return a list of dictionaries with the data desired\n",
    "    '''\n",
    "    with open(s_file, 'rb') as f1:\n",
    "        zfile = zipfile.ZipFile(f1)\n",
    "        l_rtn = []\n",
    "        with zfile.open(zfile.filelist[0].filename) as f:\n",
    "            reader = csv.DictReader(f)\n",
    "            for idx, row in enumerate(reader):\n",
    "                #count lines processed\n",
    "                if idx%50000==0: print \"estou na linha {}\".format(idx)\n",
    "                #get data desired\n",
    "                l_rtn.append(_getFields(l_fields, row))\n",
    "        print \"estou na linha {}\".format(idx)\n",
    "        \n",
    "    return l_rtn    "
   ]
  },
  {
   "cell_type": "code",
   "execution_count": 9,
   "metadata": {
    "collapsed": false
   },
   "outputs": [
    {
     "name": "stdout",
     "output_type": "stream",
     "text": [
      "estou na linha 0\n",
      "estou na linha 50000\n",
      "estou na linha 100000\n",
      "estou na linha 150000\n",
      "estou na linha 200000\n",
      "estou na linha 250000\n",
      "estou na linha 300000\n",
      "estou na linha 350000\n",
      "estou na linha 400000\n",
      "estou na linha 450000\n",
      "estou na linha 485489\n",
      "CPU times: user 2min 25s, sys: 1.09 s, total: 2min 26s\n",
      "Wall time: 2min 27s\n"
     ]
    }
   ],
   "source": [
    "l_test = list(df_labels.head(5).VAR)\n",
    "%time d_data = getData(s_name, l_test)"
   ]
  },
  {
   "cell_type": "markdown",
   "metadata": {},
   "source": [
    "###let's see the countries names"
   ]
  },
  {
   "cell_type": "code",
   "execution_count": 40,
   "metadata": {
    "collapsed": false
   },
   "outputs": [],
   "source": [
    "df_country =  pd.DataFrame(d_data)"
   ]
  },
  {
   "cell_type": "code",
   "execution_count": 44,
   "metadata": {
    "collapsed": false
   },
   "outputs": [
    {
     "data": {
      "text/html": [
       "<div>\n",
       "<table border=\"1\" class=\"dataframe\">\n",
       "  <thead>\n",
       "    <tr style=\"text-align: right;\">\n",
       "      <th></th>\n",
       "      <th>CNT</th>\n",
       "      <th>NC</th>\n",
       "      <th>OECD</th>\n",
       "      <th>STRATUM</th>\n",
       "      <th>SUBNATIO</th>\n",
       "    </tr>\n",
       "  </thead>\n",
       "  <tbody>\n",
       "    <tr>\n",
       "      <th>0</th>\n",
       "      <td>Albania</td>\n",
       "      <td>Albania</td>\n",
       "      <td>Non-OECD</td>\n",
       "      <td>ALB0006</td>\n",
       "      <td>0080000</td>\n",
       "    </tr>\n",
       "    <tr>\n",
       "      <th>1</th>\n",
       "      <td>Albania</td>\n",
       "      <td>Albania</td>\n",
       "      <td>Non-OECD</td>\n",
       "      <td>ALB0006</td>\n",
       "      <td>0080000</td>\n",
       "    </tr>\n",
       "    <tr>\n",
       "      <th>2</th>\n",
       "      <td>Albania</td>\n",
       "      <td>Albania</td>\n",
       "      <td>Non-OECD</td>\n",
       "      <td>ALB0006</td>\n",
       "      <td>0080000</td>\n",
       "    </tr>\n",
       "    <tr>\n",
       "      <th>3</th>\n",
       "      <td>Albania</td>\n",
       "      <td>Albania</td>\n",
       "      <td>Non-OECD</td>\n",
       "      <td>ALB0006</td>\n",
       "      <td>0080000</td>\n",
       "    </tr>\n",
       "    <tr>\n",
       "      <th>4</th>\n",
       "      <td>Albania</td>\n",
       "      <td>Albania</td>\n",
       "      <td>Non-OECD</td>\n",
       "      <td>ALB0006</td>\n",
       "      <td>0080000</td>\n",
       "    </tr>\n",
       "  </tbody>\n",
       "</table>\n",
       "</div>"
      ],
      "text/plain": [
       "       CNT       NC      OECD  STRATUM SUBNATIO\n",
       "0  Albania  Albania  Non-OECD  ALB0006  0080000\n",
       "1  Albania  Albania  Non-OECD  ALB0006  0080000\n",
       "2  Albania  Albania  Non-OECD  ALB0006  0080000\n",
       "3  Albania  Albania  Non-OECD  ALB0006  0080000\n",
       "4  Albania  Albania  Non-OECD  ALB0006  0080000"
      ]
     },
     "execution_count": 44,
     "metadata": {},
     "output_type": "execute_result"
    }
   ],
   "source": [
    "df_country.head()"
   ]
  },
  {
   "cell_type": "code",
   "execution_count": 76,
   "metadata": {
    "collapsed": false
   },
   "outputs": [],
   "source": [
    "b=[x.strip() for x in df_country.CNT.unique()]\n",
    "a=[x.strip() for x in df_country.NC.unique()]"
   ]
  },
  {
   "cell_type": "code",
   "execution_count": 79,
   "metadata": {
    "collapsed": false
   },
   "outputs": [
    {
     "data": {
      "text/plain": [
       "['United Kingdom (excl.Scotland)',\n",
       " 'United Kingdom (Scotland)',\n",
       " 'Republic of Korea',\n",
       " 'China (Shanghai)',\n",
       " 'Perm (Russian Federation)',\n",
       " 'Viet Nam']"
      ]
     },
     "execution_count": 79,
     "metadata": {},
     "output_type": "execute_result"
    }
   ],
   "source": [
    "[x for  x in a if x not in b]"
   ]
  },
  {
   "cell_type": "code",
   "execution_count": 78,
   "metadata": {
    "collapsed": false
   },
   "outputs": [
    {
     "data": {
      "text/plain": [
       "['United Kingdom',\n",
       " 'Korea',\n",
       " 'China-Shanghai',\n",
       " 'Perm(Russian Federation)',\n",
       " 'Florida (USA)',\n",
       " 'Connecticut (USA)',\n",
       " 'Massachusetts (USA)',\n",
       " 'Vietnam']"
      ]
     },
     "execution_count": 78,
     "metadata": {},
     "output_type": "execute_result"
    }
   ],
   "source": [
    "[x for  x in b if x not in a]"
   ]
  },
  {
   "cell_type": "markdown",
   "metadata": {},
   "source": [
    "###I like more the CNT names. I will make just some changes"
   ]
  },
  {
   "cell_type": "code",
   "execution_count": 6,
   "metadata": {
    "collapsed": false
   },
   "outputs": [
    {
     "name": "stdout",
     "output_type": "stream",
     "text": [
      "estou na linha 0\n",
      "estou na linha 50000\n",
      "estou na linha 100000\n",
      "estou na linha 150000\n",
      "estou na linha 200000\n",
      "estou na linha 250000\n",
      "estou na linha 300000\n",
      "estou na linha 350000\n",
      "estou na linha 400000\n",
      "estou na linha 450000\n",
      "estou na linha 485489\n",
      "CPU times: user 2min 21s, sys: 794 ms, total: 2min 22s\n",
      "Wall time: 2min 22s\n"
     ]
    }
   ],
   "source": [
    "l_test = [\"CNT\",\"SUBJECT\"]\n",
    "%time d_data = getData(s_name, l_test)"
   ]
  },
  {
   "cell_type": "code",
   "execution_count": 82,
   "metadata": {
    "collapsed": false
   },
   "outputs": [],
   "source": [
    "df =  pd.DataFrame(d_data)\n",
    "b=[x.strip() for x in df.CNT.unique()]\n",
    "d_newNames = dict(zip(b,b))\n",
    "d_newNames[\"United Arab Emirates\"] = \"UAE\"\n",
    "d_newNames[\"United Kingdom\"] = \"UK\"\n",
    "d_newNames[\"Serbia\"] = \"Serbia\"\n",
    "d_newNames[\"Korea\"] = \"South Korea\"\n",
    "d_newNames[\"Chinese Taipei\"] = \"Taiwan\"\n",
    "d_newNames[\"Slovak Republic\"] = \"Slovakia\"\n",
    "d_newNames[\"Russian Federation\"] = \"Russia\"\n",
    "d_newNames[\"Perm(Russian Federation)\"] = \"Russia\"\n",
    "d_newNames[\"Hong Kong-China\"] = \"Hong Kong\"\n",
    "d_newNames[\"China-Shanghai\"] = \"China\"\n",
    "d_newNames[\"Macau\"] = \"Macau\"\n",
    "d_newNames[\"Connecticut (USA)\"] = \"USA\"\n",
    "d_newNames[\"Florida (USA)\"] = \"USA\"\n",
    "d_newNames[\"Massachusetts (USA)\"] = \"USA\"\n",
    "d_newNames[\"United States of America\"] = \"USA\"\n",
    "df.CNT1 = None\n",
    "df.CNT1 = df.CNT.apply(lambda x: d_newNames[x])"
   ]
  },
  {
   "cell_type": "code",
   "execution_count": 11,
   "metadata": {
    "collapsed": false
   },
   "outputs": [
    {
     "name": "stdout",
     "output_type": "stream",
     "text": [
      "Number of Rows: 485490\n",
      "Number of Countries in the dataset: 64\n"
     ]
    }
   ],
   "source": [
    "print \"Number of Rows: {}\".format(df.shape[0])\n",
    "print \"Number of Countries in the dataset: {}\".format(len(df.CNT.unique()))"
   ]
  },
  {
   "cell_type": "markdown",
   "metadata": {},
   "source": [
    "###Also, I would like to use Gini Index in my visualizations...maybe I could change the color of the countries by it"
   ]
  },
  {
   "cell_type": "markdown",
   "metadata": {},
   "source": [
    "Here is how it would be done in R\n",
    "<code>\n",
    "    > repGINI = vars %>%\n",
    "    +         group_by(CNT, SUBJECT) %>%\n",
    "    +         summarise_each(funs(Gini( (./sum(.)) * SCORE)), \n",
    "    +                        contains('W_FSTR')) %>%\n",
    "    +         melt(id=c('CNT', 'SUBJECT'), variable.name='REPNAME', \n",
    "    +              value.name='GINI')\n",
    "</code>"
   ]
  },
  {
   "cell_type": "markdown",
   "metadata": {
    "collapsed": true
   },
   "source": [
    "Think better, I will calculate it using R.... I guess that it would be faster."
   ]
  },
  {
   "cell_type": "code",
   "execution_count": 44,
   "metadata": {
    "collapsed": false
   },
   "outputs": [
    {
     "name": "stdout",
     "output_type": "stream",
     "text": [
      "estou na linha 0\n",
      "estou na linha 50000\n",
      "estou na linha 100000\n",
      "estou na linha 150000\n",
      "estou na linha 200000\n",
      "estou na linha 250000\n",
      "estou na linha 300000\n",
      "estou na linha 350000\n",
      "estou na linha 400000\n",
      "estou na linha 450000\n",
      "estou na linha 485489\n",
      "CPU times: user 2min 21s, sys: 3.59 s, total: 2min 25s\n",
      "Wall time: 2min 25s\n"
     ]
    }
   ],
   "source": [
    "l_test = [\"CNT\",\"SUBNATIO\",\"STRATUM\",\"OECD\",\"NC\",\"SCHOOLID\",\"STIDSTD\",\"PV1MATH\",\"PV2MATH\",\"PV3MATH\",\"PV4MATH\",\"PV5MATH\",\"PV1READ\",\"PV2READ\",\"PV3READ\",\"PV4READ\",\"PV5READ\",\"PV1SCIE\",\"PV2SCIE\",\"PV3SCIE\",\"PV4SCIE\",\"PV5SCIE\",\"W_FSTUWT\"]\n",
    "%time d_data = getData(s_name, l_test)"
   ]
  },
  {
   "cell_type": "code",
   "execution_count": 45,
   "metadata": {
    "collapsed": true
   },
   "outputs": [],
   "source": [
    "df =  pd.DataFrame(d_data)"
   ]
  },
  {
   "cell_type": "code",
   "execution_count": null,
   "metadata": {
    "collapsed": false
   },
   "outputs": [],
   "source": []
  },
  {
   "cell_type": "code",
   "execution_count": 36,
   "metadata": {
    "collapsed": false
   },
   "outputs": [
    {
     "data": {
      "text/html": [
       "<div>\n",
       "<table border=\"1\" class=\"dataframe\">\n",
       "  <thead>\n",
       "    <tr style=\"text-align: right;\">\n",
       "      <th></th>\n",
       "      <th>CNT</th>\n",
       "      <th>NC</th>\n",
       "      <th>OECD</th>\n",
       "      <th>PV1MATH</th>\n",
       "      <th>PV1READ</th>\n",
       "      <th>PV1SCIE</th>\n",
       "      <th>PV2MATH</th>\n",
       "      <th>PV2READ</th>\n",
       "      <th>PV2SCIE</th>\n",
       "      <th>PV3MATH</th>\n",
       "      <th>...</th>\n",
       "      <th>PV4READ</th>\n",
       "      <th>PV4SCIE</th>\n",
       "      <th>PV5MATH</th>\n",
       "      <th>PV5READ</th>\n",
       "      <th>PV5SCIE</th>\n",
       "      <th>SCHOOLID</th>\n",
       "      <th>STIDSTD</th>\n",
       "      <th>STRATUM</th>\n",
       "      <th>SUBNATIO</th>\n",
       "      <th>W_FSTUWT</th>\n",
       "    </tr>\n",
       "  </thead>\n",
       "  <tbody>\n",
       "    <tr>\n",
       "      <th>0</th>\n",
       "      <td>Albania</td>\n",
       "      <td>Albania</td>\n",
       "      <td>Non-OECD</td>\n",
       "      <td>406.8469</td>\n",
       "      <td>249.5762</td>\n",
       "      <td>None</td>\n",
       "      <td>376.4683</td>\n",
       "      <td>254.342</td>\n",
       "      <td>408.84</td>\n",
       "      <td>344.5319</td>\n",
       "      <td>...</td>\n",
       "      <td>175.7053</td>\n",
       "      <td>367.8105</td>\n",
       "      <td>381.9209</td>\n",
       "      <td>218.5981</td>\n",
       "      <td>392.9877</td>\n",
       "      <td>0000001</td>\n",
       "      <td>00001</td>\n",
       "      <td>ALB0006</td>\n",
       "      <td>0080000</td>\n",
       "      <td>8.9096</td>\n",
       "    </tr>\n",
       "    <tr>\n",
       "      <th>1</th>\n",
       "      <td>Albania</td>\n",
       "      <td>Albania</td>\n",
       "      <td>Non-OECD</td>\n",
       "      <td>486.1427</td>\n",
       "      <td>406.2936</td>\n",
       "      <td>None</td>\n",
       "      <td>464.3325</td>\n",
       "      <td>349.8975</td>\n",
       "      <td>471.5964</td>\n",
       "      <td>453.4273</td>\n",
       "      <td>...</td>\n",
       "      <td>369.7553</td>\n",
       "      <td>443.6218</td>\n",
       "      <td>476.0165</td>\n",
       "      <td>396.7618</td>\n",
       "      <td>454.8116</td>\n",
       "      <td>0000001</td>\n",
       "      <td>00002</td>\n",
       "      <td>ALB0006</td>\n",
       "      <td>0080000</td>\n",
       "      <td>8.9096</td>\n",
       "    </tr>\n",
       "    <tr>\n",
       "      <th>2</th>\n",
       "      <td>Albania</td>\n",
       "      <td>Albania</td>\n",
       "      <td>Non-OECD</td>\n",
       "      <td>533.2684</td>\n",
       "      <td>401.21</td>\n",
       "      <td>None</td>\n",
       "      <td>481.0796</td>\n",
       "      <td>404.3872</td>\n",
       "      <td>428.7952</td>\n",
       "      <td>489.6479</td>\n",
       "      <td>...</td>\n",
       "      <td>431.3938</td>\n",
       "      <td>512.7191</td>\n",
       "      <td>533.2684</td>\n",
       "      <td>401.21</td>\n",
       "      <td>499.6643</td>\n",
       "      <td>0000001</td>\n",
       "      <td>00003</td>\n",
       "      <td>ALB0006</td>\n",
       "      <td>0080000</td>\n",
       "      <td>8.4871</td>\n",
       "    </tr>\n",
       "    <tr>\n",
       "      <th>3</th>\n",
       "      <td>Albania</td>\n",
       "      <td>Albania</td>\n",
       "      <td>Non-OECD</td>\n",
       "      <td>412.2215</td>\n",
       "      <td>547.363</td>\n",
       "      <td>None</td>\n",
       "      <td>498.6836</td>\n",
       "      <td>481.4353</td>\n",
       "      <td>481.574</td>\n",
       "      <td>415.3373</td>\n",
       "      <td>...</td>\n",
       "      <td>425.0393</td>\n",
       "      <td>474.1141</td>\n",
       "      <td>454.2842</td>\n",
       "      <td>471.9036</td>\n",
       "      <td>426.5573</td>\n",
       "      <td>0000001</td>\n",
       "      <td>00004</td>\n",
       "      <td>ALB0006</td>\n",
       "      <td>0080000</td>\n",
       "      <td>8.4871</td>\n",
       "    </tr>\n",
       "    <tr>\n",
       "      <th>4</th>\n",
       "      <td>Albania</td>\n",
       "      <td>Albania</td>\n",
       "      <td>Non-OECD</td>\n",
       "      <td>381.9209</td>\n",
       "      <td>311.7707</td>\n",
       "      <td>None</td>\n",
       "      <td>328.1742</td>\n",
       "      <td>141.7883</td>\n",
       "      <td>275.774</td>\n",
       "      <td>403.7311</td>\n",
       "      <td>...</td>\n",
       "      <td>272.8495</td>\n",
       "      <td>403.5248</td>\n",
       "      <td>395.1628</td>\n",
       "      <td>260.1405</td>\n",
       "      <td>422.1746</td>\n",
       "      <td>0000001</td>\n",
       "      <td>00005</td>\n",
       "      <td>ALB0006</td>\n",
       "      <td>0080000</td>\n",
       "      <td>8.4871</td>\n",
       "    </tr>\n",
       "  </tbody>\n",
       "</table>\n",
       "<p>5 rows × 23 columns</p>\n",
       "</div>"
      ],
      "text/plain": [
       "       CNT       NC      OECD   PV1MATH   PV1READ PV1SCIE    PV2MATH  \\\n",
       "0  Albania  Albania  Non-OECD  406.8469  249.5762     None  376.4683   \n",
       "1  Albania  Albania  Non-OECD  486.1427  406.2936     None  464.3325   \n",
       "2  Albania  Albania  Non-OECD  533.2684    401.21     None  481.0796   \n",
       "3  Albania  Albania  Non-OECD  412.2215   547.363     None  498.6836   \n",
       "4  Albania  Albania  Non-OECD  381.9209  311.7707     None  328.1742   \n",
       "\n",
       "    PV2READ   PV2SCIE   PV3MATH   ...      PV4READ   PV4SCIE   PV5MATH  \\\n",
       "0   254.342    408.84  344.5319   ...     175.7053  367.8105  381.9209   \n",
       "1  349.8975  471.5964  453.4273   ...     369.7553  443.6218  476.0165   \n",
       "2  404.3872  428.7952  489.6479   ...     431.3938  512.7191  533.2684   \n",
       "3  481.4353   481.574  415.3373   ...     425.0393  474.1141  454.2842   \n",
       "4  141.7883   275.774  403.7311   ...     272.8495  403.5248  395.1628   \n",
       "\n",
       "    PV5READ   PV5SCIE SCHOOLID STIDSTD  STRATUM SUBNATIO W_FSTUWT  \n",
       "0  218.5981  392.9877  0000001   00001  ALB0006  0080000   8.9096  \n",
       "1  396.7618  454.8116  0000001   00002  ALB0006  0080000   8.9096  \n",
       "2    401.21  499.6643  0000001   00003  ALB0006  0080000   8.4871  \n",
       "3  471.9036  426.5573  0000001   00004  ALB0006  0080000   8.4871  \n",
       "4  260.1405  422.1746  0000001   00005  ALB0006  0080000   8.4871  \n",
       "\n",
       "[5 rows x 23 columns]"
      ]
     },
     "execution_count": 36,
     "metadata": {},
     "output_type": "execute_result"
    }
   ],
   "source": [
    "df.head()"
   ]
  },
  {
   "cell_type": "code",
   "execution_count": 38,
   "metadata": {
    "collapsed": false
   },
   "outputs": [
    {
     "data": {
      "text/plain": [
       "485490"
      ]
     },
     "execution_count": 38,
     "metadata": {},
     "output_type": "execute_result"
    }
   ],
   "source": [
    "len(df.ix[:,['CNT', 'SUBNATIO', 'STRATUM', 'OECD', 'NC','SCHOOLID', 'STIDSTD', 'W_FSTUWT']].values)"
   ]
  },
  {
   "cell_type": "code",
   "execution_count": 39,
   "metadata": {
    "collapsed": false
   },
   "outputs": [
    {
     "data": {
      "text/plain": [
       "485490"
      ]
     },
     "execution_count": 39,
     "metadata": {},
     "output_type": "execute_result"
    }
   ],
   "source": [
    "len(df.index)"
   ]
  },
  {
   "cell_type": "code",
   "execution_count": null,
   "metadata": {
    "collapsed": false
   },
   "outputs": [],
   "source": []
  },
  {
   "cell_type": "code",
   "execution_count": 46,
   "metadata": {
    "collapsed": true
   },
   "outputs": [],
   "source": [
    "df_aux = df.copy()"
   ]
  },
  {
   "cell_type": "code",
   "execution_count": 48,
   "metadata": {
    "collapsed": false
   },
   "outputs": [],
   "source": [
    "df.index = [df.CNT, df.SUBNATIO, df.STRATUM, df.OECD, df.NC, df.SCHOOLID, df.STIDSTD, df.W_FSTUWT]"
   ]
  },
  {
   "cell_type": "code",
   "execution_count": 49,
   "metadata": {
    "collapsed": false
   },
   "outputs": [],
   "source": [
    "df.drop(['CNT', 'SUBNATIO', 'STRATUM', 'OECD', 'NC','SCHOOLID', 'STIDSTD', 'W_FSTUWT'], inplace=True, axis=1)"
   ]
  },
  {
   "cell_type": "code",
   "execution_count": 51,
   "metadata": {
    "collapsed": false
   },
   "outputs": [],
   "source": [
    "df_aux = df.stack()"
   ]
  },
  {
   "cell_type": "code",
   "execution_count": 52,
   "metadata": {
    "collapsed": false
   },
   "outputs": [
    {
     "data": {
      "text/plain": [
       "(7282350,)"
      ]
     },
     "execution_count": 52,
     "metadata": {},
     "output_type": "execute_result"
    }
   ],
   "source": [
    "df_aux.shape"
   ]
  },
  {
   "cell_type": "markdown",
   "metadata": {
    "collapsed": true
   },
   "source": [
    "###Wait a minute... this Gini coefficient is about inequality in the Data...not economically. Let's do it in another way. I want the GDP per capita from this countries...in 2012\n",
    "\n",
    "I found a source about GDP in OCDE website...nice. The data is in dollars."
   ]
  },
  {
   "cell_type": "code",
   "execution_count": 138,
   "metadata": {
    "collapsed": false
   },
   "outputs": [],
   "source": [
    "s_gdp = \"data/OCDE_GDP_percapta.csv\""
   ]
  },
  {
   "cell_type": "code",
   "execution_count": 140,
   "metadata": {
    "collapsed": false
   },
   "outputs": [
    {
     "data": {
      "text/html": [
       "<div>\n",
       "<table border=\"1\" class=\"dataframe\">\n",
       "  <thead>\n",
       "    <tr style=\"text-align: right;\">\n",
       "      <th></th>\n",
       "      <th>country</th>\n",
       "      <th>Year</th>\n",
       "      <th>Source</th>\n",
       "      <th>Year of reference</th>\n",
       "      <th>Per capita GDP</th>\n",
       "    </tr>\n",
       "  </thead>\n",
       "  <tbody>\n",
       "    <tr>\n",
       "      <th>96</th>\n",
       "      <td>Tunisia</td>\n",
       "      <td>PISA 2012</td>\n",
       "      <td>c</td>\n",
       "      <td>2010</td>\n",
       "      <td>9409.766550</td>\n",
       "    </tr>\n",
       "    <tr>\n",
       "      <th>97</th>\n",
       "      <td>United Arab Emirates</td>\n",
       "      <td>PISA 2012</td>\n",
       "      <td>d</td>\n",
       "      <td>2010</td>\n",
       "      <td>46915.900070</td>\n",
       "    </tr>\n",
       "    <tr>\n",
       "      <th>98</th>\n",
       "      <td>Uruguay</td>\n",
       "      <td>PISA 2012</td>\n",
       "      <td>c</td>\n",
       "      <td>2010</td>\n",
       "      <td>14003.932110</td>\n",
       "    </tr>\n",
       "    <tr>\n",
       "      <th>99</th>\n",
       "      <td>Viet Nam</td>\n",
       "      <td>PISA 2012</td>\n",
       "      <td>c</td>\n",
       "      <td>2010</td>\n",
       "      <td>4097.937464</td>\n",
       "    </tr>\n",
       "    <tr>\n",
       "      <th>100</th>\n",
       "      <td>Liechtenstein</td>\n",
       "      <td>PISA 2012</td>\n",
       "      <td>c</td>\n",
       "      <td>2010</td>\n",
       "      <td>NaN</td>\n",
       "    </tr>\n",
       "  </tbody>\n",
       "</table>\n",
       "</div>"
      ],
      "text/plain": [
       "                  country       Year Source  Year of reference  Per capita GDP\n",
       "96                Tunisia  PISA 2012      c               2010     9409.766550\n",
       "97   United Arab Emirates  PISA 2012      d               2010    46915.900070\n",
       "98                Uruguay  PISA 2012      c               2010    14003.932110\n",
       "99               Viet Nam  PISA 2012      c               2010     4097.937464\n",
       "100         Liechtenstein  PISA 2012      c               2010             NaN"
      ]
     },
     "execution_count": 140,
     "metadata": {},
     "output_type": "execute_result"
    }
   ],
   "source": [
    "df_gdp = pd.read_csv(s_gdp, sep = \"\\t\")\n",
    "df_gdp.tail()"
   ]
  },
  {
   "cell_type": "code",
   "execution_count": 49,
   "metadata": {
    "collapsed": false
   },
   "outputs": [
    {
     "data": {
      "image/png": "[encoded data removed]",
      "text/plain": [
       "<matplotlib.figure.Figure at 0x167c26f50>"
      ]
     },
     "metadata": {},
     "output_type": "display_data"
    }
   ],
   "source": [
    "ax = df_gdp[\"Per capita GDP\"].hist(bins = 15);\n",
    "ax.set_title(\"Distribution of GDP per capta/n\");"
   ]
  },
  {
   "cell_type": "markdown",
   "metadata": {
    "collapsed": true
   },
   "source": [
    "###Ok, I'm not sure if it is what I want. I would like to stratify people into social status. Let's see how is distributed the feature _ESCS_, that is about Index of economic, social and cultural status"
   ]
  },
  {
   "cell_type": "code",
   "execution_count": 10,
   "metadata": {
    "collapsed": false
   },
   "outputs": [
    {
     "name": "stdout",
     "output_type": "stream",
     "text": [
      "estou na linha 0\n",
      "estou na linha 50000\n",
      "estou na linha 100000\n",
      "estou na linha 150000\n",
      "estou na linha 200000\n",
      "estou na linha 250000\n",
      "estou na linha 300000\n",
      "estou na linha 350000\n",
      "estou na linha 400000\n",
      "estou na linha 450000\n",
      "estou na linha 485489\n",
      "CPU times: user 2min 19s, sys: 1.21 s, total: 2min 20s\n",
      "Wall time: 2min 21s\n"
     ]
    }
   ],
   "source": [
    "l_test = [\"CNT\",\"ESCS\",\"STIDSTD\",\"PV1MATH\",\"PV2MATH\",\"PV3MATH\",\"PV4MATH\",\"PV5MATH\",\"PV1READ\",\"PV2READ\",\"PV3READ\",\"PV4READ\",\"PV5READ\",\"PV1SCIE\",\"PV2SCIE\",\"PV3SCIE\",\"PV4SCIE\",\"PV5SCIE\",\"W_FSTUWT\"]\n",
    "%time d_data = getData(s_name, l_test)"
   ]
  },
  {
   "cell_type": "code",
   "execution_count": 27,
   "metadata": {
    "collapsed": false
   },
   "outputs": [],
   "source": [
    "df = pd.DataFrame(d_data)"
   ]
  },
  {
   "cell_type": "code",
   "execution_count": 28,
   "metadata": {
    "collapsed": false
   },
   "outputs": [],
   "source": [
    "df.ESCS[df.ESCS==\"NA\"]=None"
   ]
  },
  {
   "cell_type": "code",
   "execution_count": 29,
   "metadata": {
    "collapsed": true
   },
   "outputs": [],
   "source": [
    "df.ESCS = df.ESCS.astype(float)"
   ]
  },
  {
   "cell_type": "code",
   "execution_count": 33,
   "metadata": {
    "collapsed": false
   },
   "outputs": [
    {
     "data": {
      "text/plain": [
       "<matplotlib.text.Text at 0x15b744750>"
      ]
     },
     "execution_count": 33,
     "metadata": {},
     "output_type": "execute_result"
    },
    {
     "data": {
      "image/png": "[encoded data removed]",
      "text/plain": [
       "<matplotlib.figure.Figure at 0x15b370d90>"
      ]
     },
     "metadata": {},
     "output_type": "display_data"
    }
   ],
   "source": [
    "ax = df.ESCS.hist(bins = 20);\n",
    "ax.set_title(\"Distribution of Index of economic, social and cultural status\\n\")"
   ]
  },
  {
   "cell_type": "markdown",
   "metadata": {},
   "source": [
    "###Curious.... how it is correlated with Math scores? And how the scores are distributed?"
   ]
  },
  {
   "cell_type": "code",
   "execution_count": 40,
   "metadata": {
    "collapsed": false
   },
   "outputs": [],
   "source": [
    "df.PV1MATH = df.PV1MATH.astype(float)"
   ]
  },
  {
   "cell_type": "code",
   "execution_count": 41,
   "metadata": {
    "collapsed": false
   },
   "outputs": [
    {
     "data": {
      "image/png": "[encoded data removed]",
      "text/plain": [
       "<matplotlib.figure.Figure at 0x15acc1190>"
      ]
     },
     "metadata": {},
     "output_type": "display_data"
    }
   ],
   "source": [
    "g = sns.jointplot(\"ESCS\", \"PV1MATH\", data=df, kind=\"reg\",\n",
    " size=6)"
   ]
  },
  {
   "cell_type": "markdown",
   "metadata": {},
   "source": [
    "Curious....the Math Score has a bell-nice-looking shape"
   ]
  },
  {
   "cell_type": "markdown",
   "metadata": {},
   "source": [
    "###There is too much data here.... I don't know if I can plot all this data using D3. Maybe I should group it in some way....Besides that, This chart is too cluttered...."
   ]
  },
  {
   "cell_type": "markdown",
   "metadata": {},
   "source": [
    "###Know what....let's see if I just classify each point by its country's GDP per capta. First, I need to identify the GDP for each country"
   ]
  },
  {
   "cell_type": "markdown",
   "metadata": {},
   "source": [
    "what countries from the dataset does not appear in GDP dataframe"
   ]
  },
  {
   "cell_type": "code",
   "execution_count": 76,
   "metadata": {
    "collapsed": false
   },
   "outputs": [],
   "source": [
    "df_gdp = df_gdp.loc[df_gdp[\"Year\"]==\"PISA 2012\"]"
   ]
  },
  {
   "cell_type": "code",
   "execution_count": 77,
   "metadata": {
    "collapsed": false
   },
   "outputs": [],
   "source": [
    "l = [x for x in list(df.CNT) if x not in  list(df_gdp.country)] "
   ]
  },
  {
   "cell_type": "code",
   "execution_count": 78,
   "metadata": {
    "collapsed": false
   },
   "outputs": [
    {
     "data": {
      "text/plain": [
       "{'China-Shanghai',\n",
       " 'Connecticut (USA)',\n",
       " 'Florida (USA)',\n",
       " 'Hong Kong-China',\n",
       " 'Liechtenstein',\n",
       " 'Macao-China',\n",
       " 'Massachusetts (USA)',\n",
       " 'Norway',\n",
       " 'Perm(Russian Federation)',\n",
       " 'United States of America',\n",
       " 'Vietnam'}"
      ]
     },
     "execution_count": 78,
     "metadata": {},
     "output_type": "execute_result"
    }
   ],
   "source": [
    "set(l)"
   ]
  },
  {
   "cell_type": "markdown",
   "metadata": {},
   "source": [
    "Now, what is in GDP dataset that does not appear in my dataset"
   ]
  },
  {
   "cell_type": "code",
   "execution_count": 79,
   "metadata": {
    "collapsed": false
   },
   "outputs": [
    {
     "data": {
      "text/plain": [
       "{'Cyprus2, 3',\n",
       " 'Hong Kong - China',\n",
       " 'Macao - China',\n",
       " 'Norway1',\n",
       " 'OECD average',\n",
       " 'Shanghai - China',\n",
       " 'United States',\n",
       " 'Viet Nam'}"
      ]
     },
     "execution_count": 79,
     "metadata": {},
     "output_type": "execute_result"
    }
   ],
   "source": [
    "l = [x for x in  list(df_gdp.country) if x not in   list(df.CNT)] \n",
    "set(l)"
   ]
  },
  {
   "cell_type": "markdown",
   "metadata": {},
   "source": [
    "Ok...let's map what is missing"
   ]
  },
  {
   "cell_type": "code",
   "execution_count": 133,
   "metadata": {
    "collapsed": true
   },
   "outputs": [],
   "source": [
    "def rename_contries(l_names):\n",
    "    \"\"\"\n",
    "    rename the name of each string in a list by names pre-selected\n",
    "    inside the function. Return a new list with the names modifieds\n",
    "    \"\"\"\n",
    "    set_names = set(l_names)\n",
    "    b=[x.strip() for x in set_names]\n",
    "    d_newNames = dict(zip(b,b))\n",
    "    l2 = [\"UAE\", \"UK\", \"Serbia\", \"South Korea\", \"Taiwan\", \"Slovakia\", \"Russia\", \n",
    "          \"Russia\", \"Hong Kong\",\"China\", \"Macau\", \"USA\", \"USA\",\"USA\", \"USA\",\n",
    "          \"Vietnam\", \"Macau\", \"Hong Kong\",\"China\", \"Norway\", \"USA\",\"Macau\"]\n",
    "    \n",
    "    l1 = [\"United Arab Emirates\",\"United Kingdom\",\"Serbia\",\"Korea\",\"Chinese Taipei\",\n",
    "          \"Slovak Republic\",\"Russian Federation\",\"Perm(Russian Federation)\",\n",
    "          \"Hong Kong-China\", \"China-Shanghai\",\"Macau\",\"Connecticut (USA)\",\"Florida (USA)\",\n",
    "          \"Massachusetts (USA)\", \"United States of America\", \"Viet Nam\", \"Macao - China\",\n",
    "         \"Hong Kong - China\", \"Shanghai - China\", \"Norway1\", 'United States', 'Macao-China']\n",
    "    for s1, s2 in zip(l1,l2):\n",
    "        if s1 in set_names:\n",
    "           d_newNames[s1] = s2\n",
    "    \n",
    "    l_rtn = [d_newNames[x] for x in l_names] \n",
    "    return l_rtn\n",
    "\n"
   ]
  },
  {
   "cell_type": "code",
   "execution_count": 134,
   "metadata": {
    "collapsed": false,
    "scrolled": false
   },
   "outputs": [],
   "source": [
    "df.CNT1 = None\n",
    "df.CNT1 = rename_contries(list(df.CNT))"
   ]
  },
  {
   "cell_type": "code",
   "execution_count": 141,
   "metadata": {
    "collapsed": false
   },
   "outputs": [],
   "source": [
    "df_gdp.country1 = None\n",
    "df_gdp.country1 = rename_contries(list(df_gdp.country))\n"
   ]
  },
  {
   "cell_type": "code",
   "execution_count": 142,
   "metadata": {
    "collapsed": false
   },
   "outputs": [
    {
     "data": {
      "text/plain": [
       "{'Cyprus2, 3', 'OECD average'}"
      ]
     },
     "execution_count": 142,
     "metadata": {},
     "output_type": "execute_result"
    }
   ],
   "source": [
    "l = [x for x in  list(df_gdp.country1) if x not in   list(df.CNT1)] \n",
    "set(l)"
   ]
  },
  {
   "cell_type": "code",
   "execution_count": 143,
   "metadata": {
    "collapsed": false
   },
   "outputs": [
    {
     "data": {
      "text/plain": [
       "set()"
      ]
     },
     "execution_count": 143,
     "metadata": {},
     "output_type": "execute_result"
    }
   ],
   "source": [
    "l = [x for x in list(df.CNT1) if x not in  list(df_gdp.country1)] \n",
    "set(l)"
   ]
  },
  {
   "cell_type": "markdown",
   "metadata": {},
   "source": [
    "Nice...all clean"
   ]
  },
  {
   "cell_type": "code",
   "execution_count": null,
   "metadata": {
    "collapsed": true
   },
   "outputs": [],
   "source": []
  },
  {
   "cell_type": "code",
   "execution_count": 152,
   "metadata": {
    "collapsed": false
   },
   "outputs": [
    {
     "data": {
      "text/plain": [
       "485490"
      ]
     },
     "execution_count": 152,
     "metadata": {},
     "output_type": "execute_result"
    }
   ],
   "source": [
    "len(df.CNT1)"
   ]
  },
  {
   "cell_type": "code",
   "execution_count": 144,
   "metadata": {
    "collapsed": false
   },
   "outputs": [],
   "source": [
    "df_gdp.index=list(df_gdp.country1)"
   ]
  },
  {
   "cell_type": "code",
   "execution_count": 158,
   "metadata": {
    "collapsed": false
   },
   "outputs": [],
   "source": [
    "df_gdp = df_gdp.loc[df_gdp.Year==\"PISA 2012\"]"
   ]
  },
  {
   "cell_type": "code",
   "execution_count": 159,
   "metadata": {
    "collapsed": false
   },
   "outputs": [
    {
     "data": {
      "text/plain": [
       "485490"
      ]
     },
     "execution_count": 159,
     "metadata": {},
     "output_type": "execute_result"
    }
   ],
   "source": [
    "len(list(df_gdp.ix[df.CNT1][\"Per capita GDP\"]))\n"
   ]
  },
  {
   "cell_type": "code",
   "execution_count": 151,
   "metadata": {
    "collapsed": false
   },
   "outputs": [
    {
     "data": {
      "text/plain": [
       "(485490, 20)"
      ]
     },
     "execution_count": 151,
     "metadata": {},
     "output_type": "execute_result"
    }
   ],
   "source": [
    "df.shape"
   ]
  },
  {
   "cell_type": "code",
   "execution_count": 160,
   "metadata": {
    "collapsed": false
   },
   "outputs": [],
   "source": [
    "df[\"perCaptaGDP\"]=None\n",
    "df[\"perCaptaGDP\"] = list(df_gdp.loc[df.CNT1][\"Per capita GDP\"].values)"
   ]
  },
  {
   "cell_type": "code",
   "execution_count": null,
   "metadata": {
    "collapsed": true
   },
   "outputs": [],
   "source": [
    "df[\"pisa_class\"] = None\n",
    "df.pisa_class = df.perCaptaGDP>20000"
   ]
  },
  {
   "cell_type": "code",
   "execution_count": null,
   "metadata": {
    "collapsed": true
   },
   "outputs": [],
   "source": [
    "g = sns.FacetGrid(tips, col=\"sex\", hue=\"pisa_class\", palette=\"Set1\")\n",
    "\n",
    "g = (g.map(plt.scatter, \"total_bill\", \"tip\", **kws).add_legend())"
   ]
  },
  {
   "cell_type": "code",
   "execution_count": 171,
   "metadata": {
    "collapsed": false
   },
   "outputs": [
    {
     "ename": "ValueError",
     "evalue": "First argument must be a sequence",
     "output_type": "error",
     "traceback": [
      "\u001b[0;31m---------------------------------------------------------------------------\u001b[0m",
      "\u001b[0;31mValueError\u001b[0m                                Traceback (most recent call last)",
      "\u001b[0;32m<ipython-input-171-0468f8d5feb6>\u001b[0m in \u001b[0;36m<module>\u001b[0;34m()\u001b[0m\n\u001b[1;32m      1\u001b[0m \u001b[0mg\u001b[0m \u001b[0;34m=\u001b[0m \u001b[0msns\u001b[0m\u001b[0;34m.\u001b[0m\u001b[0mFacetGrid\u001b[0m\u001b[0;34m(\u001b[0m\u001b[0mdf\u001b[0m\u001b[0;34m,\u001b[0m \u001b[0mcol\u001b[0m\u001b[0;34m=\u001b[0m\u001b[0;34m\"perCaptaGDP\"\u001b[0m\u001b[0;34m,\u001b[0m \u001b[0mhue\u001b[0m\u001b[0;34m=\u001b[0m\u001b[0;34m\"perCaptaGDP\"\u001b[0m\u001b[0;34m,\u001b[0m \u001b[0mpalette\u001b[0m\u001b[0;34m=\u001b[0m\u001b[0;34m\"Set1\"\u001b[0m\u001b[0;34m)\u001b[0m\u001b[0;34m\u001b[0m\u001b[0m\n\u001b[1;32m      2\u001b[0m \u001b[0;34m\u001b[0m\u001b[0m\n\u001b[0;32m----> 3\u001b[0;31m \u001b[0mg\u001b[0m \u001b[0;34m=\u001b[0m \u001b[0;34m(\u001b[0m\u001b[0mg\u001b[0m\u001b[0;34m.\u001b[0m\u001b[0mmap\u001b[0m\u001b[0;34m(\u001b[0m\u001b[0mplt\u001b[0m\u001b[0;34m.\u001b[0m\u001b[0mscatter\u001b[0m\u001b[0;34m,\u001b[0m \u001b[0;34m\"PV1MATH\"\u001b[0m\u001b[0;34m,\u001b[0m \u001b[0;34m\"ESCS\"\u001b[0m\u001b[0;34m)\u001b[0m\u001b[0;34m.\u001b[0m\u001b[0madd_legend\u001b[0m\u001b[0;34m(\u001b[0m\u001b[0;34m)\u001b[0m\u001b[0;34m)\u001b[0m\u001b[0;34m\u001b[0m\u001b[0m\n\u001b[0m",
      "\u001b[0;32m/Users/ucaiado/anaconda/lib/python2.7/site-packages/seaborn/axisgrid.pyc\u001b[0m in \u001b[0;36mmap\u001b[0;34m(self, func, *args, **kwargs)\u001b[0m\n\u001b[1;32m    724\u001b[0m \u001b[0;34m\u001b[0m\u001b[0m\n\u001b[1;32m    725\u001b[0m             \u001b[0;31m# Draw the plot\u001b[0m\u001b[0;34m\u001b[0m\u001b[0;34m\u001b[0m\u001b[0m\n\u001b[0;32m--> 726\u001b[0;31m             \u001b[0mself\u001b[0m\u001b[0;34m.\u001b[0m\u001b[0m_facet_plot\u001b[0m\u001b[0;34m(\u001b[0m\u001b[0mfunc\u001b[0m\u001b[0;34m,\u001b[0m \u001b[0max\u001b[0m\u001b[0;34m,\u001b[0m \u001b[0mplot_args\u001b[0m\u001b[0;34m,\u001b[0m \u001b[0mkwargs\u001b[0m\u001b[0;34m)\u001b[0m\u001b[0;34m\u001b[0m\u001b[0m\n\u001b[0m\u001b[1;32m    727\u001b[0m \u001b[0;34m\u001b[0m\u001b[0m\n\u001b[1;32m    728\u001b[0m         \u001b[0;31m# Finalize the annotations and layout\u001b[0m\u001b[0;34m\u001b[0m\u001b[0;34m\u001b[0m\u001b[0m\n",
      "\u001b[0;32m/Users/ucaiado/anaconda/lib/python2.7/site-packages/seaborn/axisgrid.pyc\u001b[0m in \u001b[0;36m_facet_plot\u001b[0;34m(self, func, ax, plot_args, plot_kwargs)\u001b[0m\n\u001b[1;32m    808\u001b[0m \u001b[0;34m\u001b[0m\u001b[0m\n\u001b[1;32m    809\u001b[0m         \u001b[0;31m# Draw the plot\u001b[0m\u001b[0;34m\u001b[0m\u001b[0;34m\u001b[0m\u001b[0m\n\u001b[0;32m--> 810\u001b[0;31m         \u001b[0mfunc\u001b[0m\u001b[0;34m(\u001b[0m\u001b[0;34m*\u001b[0m\u001b[0mplot_args\u001b[0m\u001b[0;34m,\u001b[0m \u001b[0;34m**\u001b[0m\u001b[0mplot_kwargs\u001b[0m\u001b[0;34m)\u001b[0m\u001b[0;34m\u001b[0m\u001b[0m\n\u001b[0m\u001b[1;32m    811\u001b[0m \u001b[0;34m\u001b[0m\u001b[0m\n\u001b[1;32m    812\u001b[0m         \u001b[0;31m# Sort out the supporting information\u001b[0m\u001b[0;34m\u001b[0m\u001b[0;34m\u001b[0m\u001b[0m\n",
      "\u001b[0;32m/Users/ucaiado/anaconda/lib/python2.7/site-packages/matplotlib/pyplot.pyc\u001b[0m in \u001b[0;36mscatter\u001b[0;34m(x, y, s, c, marker, cmap, norm, vmin, vmax, alpha, linewidths, verts, hold, **kwargs)\u001b[0m\n\u001b[1;32m   3198\u001b[0m         ret = ax.scatter(x, y, s=s, c=c, marker=marker, cmap=cmap, norm=norm,\n\u001b[1;32m   3199\u001b[0m                          \u001b[0mvmin\u001b[0m\u001b[0;34m=\u001b[0m\u001b[0mvmin\u001b[0m\u001b[0;34m,\u001b[0m \u001b[0mvmax\u001b[0m\u001b[0;34m=\u001b[0m\u001b[0mvmax\u001b[0m\u001b[0;34m,\u001b[0m \u001b[0malpha\u001b[0m\u001b[0;34m=\u001b[0m\u001b[0malpha\u001b[0m\u001b[0;34m,\u001b[0m\u001b[0;34m\u001b[0m\u001b[0m\n\u001b[0;32m-> 3200\u001b[0;31m                          linewidths=linewidths, verts=verts, **kwargs)\n\u001b[0m\u001b[1;32m   3201\u001b[0m         \u001b[0mdraw_if_interactive\u001b[0m\u001b[0;34m(\u001b[0m\u001b[0;34m)\u001b[0m\u001b[0;34m\u001b[0m\u001b[0m\n\u001b[1;32m   3202\u001b[0m     \u001b[0;32mfinally\u001b[0m\u001b[0;34m:\u001b[0m\u001b[0;34m\u001b[0m\u001b[0m\n",
      "\u001b[0;32m/Users/ucaiado/anaconda/lib/python2.7/site-packages/matplotlib/axes/_axes.pyc\u001b[0m in \u001b[0;36mscatter\u001b[0;34m(self, x, y, s, c, marker, cmap, norm, vmin, vmax, alpha, linewidths, verts, **kwargs)\u001b[0m\n\u001b[1;32m   3599\u001b[0m                 \u001b[0mc\u001b[0m \u001b[0;34m=\u001b[0m \u001b[0mnp\u001b[0m\u001b[0;34m.\u001b[0m\u001b[0mma\u001b[0m\u001b[0;34m.\u001b[0m\u001b[0mravel\u001b[0m\u001b[0;34m(\u001b[0m\u001b[0mc\u001b[0m\u001b[0;34m)\u001b[0m\u001b[0;34m\u001b[0m\u001b[0m\n\u001b[1;32m   3600\u001b[0m \u001b[0;34m\u001b[0m\u001b[0m\n\u001b[0;32m-> 3601\u001b[0;31m         \u001b[0mx\u001b[0m\u001b[0;34m,\u001b[0m \u001b[0my\u001b[0m\u001b[0;34m,\u001b[0m \u001b[0ms\u001b[0m\u001b[0;34m,\u001b[0m \u001b[0mc\u001b[0m \u001b[0;34m=\u001b[0m \u001b[0mcbook\u001b[0m\u001b[0;34m.\u001b[0m\u001b[0mdelete_masked_points\u001b[0m\u001b[0;34m(\u001b[0m\u001b[0mx\u001b[0m\u001b[0;34m,\u001b[0m \u001b[0my\u001b[0m\u001b[0;34m,\u001b[0m \u001b[0ms\u001b[0m\u001b[0;34m,\u001b[0m \u001b[0mc\u001b[0m\u001b[0;34m)\u001b[0m\u001b[0;34m\u001b[0m\u001b[0m\n\u001b[0m\u001b[1;32m   3602\u001b[0m \u001b[0;34m\u001b[0m\u001b[0m\n\u001b[1;32m   3603\u001b[0m         \u001b[0mscales\u001b[0m \u001b[0;34m=\u001b[0m \u001b[0ms\u001b[0m   \u001b[0;31m# Renamed for readability below.\u001b[0m\u001b[0;34m\u001b[0m\u001b[0m\n",
      "\u001b[0;32m/Users/ucaiado/anaconda/lib/python2.7/site-packages/matplotlib/cbook.pyc\u001b[0m in \u001b[0;36mdelete_masked_points\u001b[0;34m(*args)\u001b[0m\n\u001b[1;32m   1811\u001b[0m         \u001b[0;32mreturn\u001b[0m \u001b[0;34m(\u001b[0m\u001b[0;34m)\u001b[0m\u001b[0;34m\u001b[0m\u001b[0m\n\u001b[1;32m   1812\u001b[0m     \u001b[0;32mif\u001b[0m \u001b[0;34m(\u001b[0m\u001b[0mis_string_like\u001b[0m\u001b[0;34m(\u001b[0m\u001b[0margs\u001b[0m\u001b[0;34m[\u001b[0m\u001b[0;36m0\u001b[0m\u001b[0;34m]\u001b[0m\u001b[0;34m)\u001b[0m \u001b[0;32mor\u001b[0m \u001b[0;32mnot\u001b[0m \u001b[0miterable\u001b[0m\u001b[0;34m(\u001b[0m\u001b[0margs\u001b[0m\u001b[0;34m[\u001b[0m\u001b[0;36m0\u001b[0m\u001b[0;34m]\u001b[0m\u001b[0;34m)\u001b[0m\u001b[0;34m)\u001b[0m\u001b[0;34m:\u001b[0m\u001b[0;34m\u001b[0m\u001b[0m\n\u001b[0;32m-> 1813\u001b[0;31m         \u001b[0;32mraise\u001b[0m \u001b[0mValueError\u001b[0m\u001b[0;34m(\u001b[0m\u001b[0;34m\"First argument must be a sequence\"\u001b[0m\u001b[0;34m)\u001b[0m\u001b[0;34m\u001b[0m\u001b[0m\n\u001b[0m\u001b[1;32m   1814\u001b[0m     \u001b[0mnrecs\u001b[0m \u001b[0;34m=\u001b[0m \u001b[0mlen\u001b[0m\u001b[0;34m(\u001b[0m\u001b[0margs\u001b[0m\u001b[0;34m[\u001b[0m\u001b[0;36m0\u001b[0m\u001b[0;34m]\u001b[0m\u001b[0;34m)\u001b[0m\u001b[0;34m\u001b[0m\u001b[0m\n\u001b[1;32m   1815\u001b[0m     \u001b[0mmargs\u001b[0m \u001b[0;34m=\u001b[0m \u001b[0;34m[\u001b[0m\u001b[0;34m]\u001b[0m\u001b[0;34m\u001b[0m\u001b[0m\n",
      "\u001b[0;31mValueError\u001b[0m: First argument must be a sequence"
     ]
    },
    {
     "data": {
      "image/png": "[encoded data removed]",
      "text/plain": [
       "<matplotlib.figure.Figure at 0x1681f1410>"
      ]
     },
     "metadata": {},
     "output_type": "display_data"
    }
   ],
   "source": [
    "g = sns.FacetGrid(df, col=\"perCaptaGDP\", hue=\"perCaptaGDP\", palette=\"Set1\")\n",
    "\n",
    "g = (g.map(plt.scatter, \"PV1MATH\", \"ESCS\").add_legend())"
   ]
  },
  {
   "cell_type": "code",
   "execution_count": 169,
   "metadata": {
    "collapsed": false
   },
   "outputs": [],
   "source": [
    "import matplotlib.pylab as plt"
   ]
  },
  {
   "cell_type": "code",
   "execution_count": null,
   "metadata": {
    "collapsed": false
   },
   "outputs": [],
   "source": []
  },
  {
   "cell_type": "code",
   "execution_count": null,
   "metadata": {
    "collapsed": true
   },
   "outputs": [],
   "source": []
  },
  {
   "cell_type": "code",
   "execution_count": null,
   "metadata": {
    "collapsed": true
   },
   "outputs": [],
   "source": []
  },
  {
   "cell_type": "code",
   "execution_count": null,
   "metadata": {
    "collapsed": true
   },
   "outputs": [],
   "source": []
  },
  {
   "cell_type": "code",
   "execution_count": null,
   "metadata": {
    "collapsed": true
   },
   "outputs": [],
   "source": []
  },
  {
   "cell_type": "code",
   "execution_count": null,
   "metadata": {
    "collapsed": true
   },
   "outputs": [],
   "source": []
  },
  {
   "cell_type": "code",
   "execution_count": null,
   "metadata": {
    "collapsed": true
   },
   "outputs": [],
   "source": []
  },
  {
   "cell_type": "code",
   "execution_count": 34,
   "metadata": {
    "collapsed": false
   },
   "outputs": [
    {
     "data": {
      "text/html": [
       "<div>\n",
       "<table border=\"1\" class=\"dataframe\">\n",
       "  <thead>\n",
       "    <tr style=\"text-align: right;\">\n",
       "      <th></th>\n",
       "      <th>CNT</th>\n",
       "      <th>ESCS</th>\n",
       "      <th>PV1MATH</th>\n",
       "      <th>PV1READ</th>\n",
       "      <th>PV1SCIE</th>\n",
       "      <th>PV2MATH</th>\n",
       "      <th>PV2READ</th>\n",
       "      <th>PV2SCIE</th>\n",
       "      <th>PV3MATH</th>\n",
       "      <th>PV3READ</th>\n",
       "      <th>PV3SCIE</th>\n",
       "      <th>PV4MATH</th>\n",
       "      <th>PV4READ</th>\n",
       "      <th>PV4SCIE</th>\n",
       "      <th>PV5MATH</th>\n",
       "      <th>PV5READ</th>\n",
       "      <th>PV5SCIE</th>\n",
       "      <th>STIDSTD</th>\n",
       "      <th>W_FSTUWT</th>\n",
       "    </tr>\n",
       "  </thead>\n",
       "  <tbody>\n",
       "    <tr>\n",
       "      <th>0</th>\n",
       "      <td>Albania</td>\n",
       "      <td>NaN</td>\n",
       "      <td>406.8469</td>\n",
       "      <td>249.5762</td>\n",
       "      <td>341.7009</td>\n",
       "      <td>376.4683</td>\n",
       "      <td>254.342</td>\n",
       "      <td>408.84</td>\n",
       "      <td>344.5319</td>\n",
       "      <td>406.8496</td>\n",
       "      <td>348.2283</td>\n",
       "      <td>321.1637</td>\n",
       "      <td>175.7053</td>\n",
       "      <td>367.8105</td>\n",
       "      <td>381.9209</td>\n",
       "      <td>218.5981</td>\n",
       "      <td>392.9877</td>\n",
       "      <td>00001</td>\n",
       "      <td>8.9096</td>\n",
       "    </tr>\n",
       "    <tr>\n",
       "      <th>1</th>\n",
       "      <td>Albania</td>\n",
       "      <td>NaN</td>\n",
       "      <td>486.1427</td>\n",
       "      <td>406.2936</td>\n",
       "      <td>548.9929</td>\n",
       "      <td>464.3325</td>\n",
       "      <td>349.8975</td>\n",
       "      <td>471.5964</td>\n",
       "      <td>453.4273</td>\n",
       "      <td>400.7334</td>\n",
       "      <td>471.5964</td>\n",
       "      <td>472.9008</td>\n",
       "      <td>369.7553</td>\n",
       "      <td>443.6218</td>\n",
       "      <td>476.0165</td>\n",
       "      <td>396.7618</td>\n",
       "      <td>454.8116</td>\n",
       "      <td>00002</td>\n",
       "      <td>8.9096</td>\n",
       "    </tr>\n",
       "    <tr>\n",
       "      <th>2</th>\n",
       "      <td>Albania</td>\n",
       "      <td>NaN</td>\n",
       "      <td>533.2684</td>\n",
       "      <td>401.21</td>\n",
       "      <td>499.6643</td>\n",
       "      <td>481.0796</td>\n",
       "      <td>404.3872</td>\n",
       "      <td>428.7952</td>\n",
       "      <td>489.6479</td>\n",
       "      <td>387.7067</td>\n",
       "      <td>492.2044</td>\n",
       "      <td>490.4269</td>\n",
       "      <td>431.3938</td>\n",
       "      <td>512.7191</td>\n",
       "      <td>533.2684</td>\n",
       "      <td>401.21</td>\n",
       "      <td>499.6643</td>\n",
       "      <td>00003</td>\n",
       "      <td>8.4871</td>\n",
       "    </tr>\n",
       "    <tr>\n",
       "      <th>3</th>\n",
       "      <td>Albania</td>\n",
       "      <td>NaN</td>\n",
       "      <td>412.2215</td>\n",
       "      <td>547.363</td>\n",
       "      <td>438.6796</td>\n",
       "      <td>498.6836</td>\n",
       "      <td>481.4353</td>\n",
       "      <td>481.574</td>\n",
       "      <td>415.3373</td>\n",
       "      <td>461.5776</td>\n",
       "      <td>448.937</td>\n",
       "      <td>466.7472</td>\n",
       "      <td>425.0393</td>\n",
       "      <td>474.1141</td>\n",
       "      <td>454.2842</td>\n",
       "      <td>471.9036</td>\n",
       "      <td>426.5573</td>\n",
       "      <td>00004</td>\n",
       "      <td>8.4871</td>\n",
       "    </tr>\n",
       "    <tr>\n",
       "      <th>4</th>\n",
       "      <td>Albania</td>\n",
       "      <td>NaN</td>\n",
       "      <td>381.9209</td>\n",
       "      <td>311.7707</td>\n",
       "      <td>361.5628</td>\n",
       "      <td>328.1742</td>\n",
       "      <td>141.7883</td>\n",
       "      <td>275.774</td>\n",
       "      <td>403.7311</td>\n",
       "      <td>293.5015</td>\n",
       "      <td>372.7527</td>\n",
       "      <td>418.5309</td>\n",
       "      <td>272.8495</td>\n",
       "      <td>403.5248</td>\n",
       "      <td>395.1628</td>\n",
       "      <td>260.1405</td>\n",
       "      <td>422.1746</td>\n",
       "      <td>00005</td>\n",
       "      <td>8.4871</td>\n",
       "    </tr>\n",
       "  </tbody>\n",
       "</table>\n",
       "</div>"
      ],
      "text/plain": [
       "       CNT  ESCS   PV1MATH   PV1READ   PV1SCIE   PV2MATH   PV2READ   PV2SCIE  \\\n",
       "0  Albania   NaN  406.8469  249.5762  341.7009  376.4683   254.342    408.84   \n",
       "1  Albania   NaN  486.1427  406.2936  548.9929  464.3325  349.8975  471.5964   \n",
       "2  Albania   NaN  533.2684    401.21  499.6643  481.0796  404.3872  428.7952   \n",
       "3  Albania   NaN  412.2215   547.363  438.6796  498.6836  481.4353   481.574   \n",
       "4  Albania   NaN  381.9209  311.7707  361.5628  328.1742  141.7883   275.774   \n",
       "\n",
       "    PV3MATH   PV3READ   PV3SCIE   PV4MATH   PV4READ   PV4SCIE   PV5MATH  \\\n",
       "0  344.5319  406.8496  348.2283  321.1637  175.7053  367.8105  381.9209   \n",
       "1  453.4273  400.7334  471.5964  472.9008  369.7553  443.6218  476.0165   \n",
       "2  489.6479  387.7067  492.2044  490.4269  431.3938  512.7191  533.2684   \n",
       "3  415.3373  461.5776   448.937  466.7472  425.0393  474.1141  454.2842   \n",
       "4  403.7311  293.5015  372.7527  418.5309  272.8495  403.5248  395.1628   \n",
       "\n",
       "    PV5READ   PV5SCIE STIDSTD W_FSTUWT  \n",
       "0  218.5981  392.9877   00001   8.9096  \n",
       "1  396.7618  454.8116   00002   8.9096  \n",
       "2    401.21  499.6643   00003   8.4871  \n",
       "3  471.9036  426.5573   00004   8.4871  \n",
       "4  260.1405  422.1746   00005   8.4871  "
      ]
     },
     "execution_count": 34,
     "metadata": {},
     "output_type": "execute_result"
    }
   ],
   "source": [
    "df.head()"
   ]
  },
  {
   "cell_type": "code",
   "execution_count": null,
   "metadata": {
    "collapsed": true
   },
   "outputs": [],
   "source": []
  },
  {
   "cell_type": "markdown",
   "metadata": {},
   "source": [
    "###Look at what there are inside the data"
   ]
  },
  {
   "cell_type": "code",
   "execution_count": null,
   "metadata": {
    "collapsed": true
   },
   "outputs": [],
   "source": []
  },
  {
   "cell_type": "code",
   "execution_count": null,
   "metadata": {
    "collapsed": true
   },
   "outputs": [],
   "source": []
  },
  {
   "cell_type": "code",
   "execution_count": null,
   "metadata": {
    "collapsed": true
   },
   "outputs": [],
   "source": []
  },
  {
   "cell_type": "code",
   "execution_count": null,
   "metadata": {
    "collapsed": true
   },
   "outputs": [],
   "source": []
  },
  {
   "cell_type": "code",
   "execution_count": null,
   "metadata": {
    "collapsed": true
   },
   "outputs": [],
   "source": []
  },
  {
   "cell_type": "code",
   "execution_count": null,
   "metadata": {
    "collapsed": true
   },
   "outputs": [],
   "source": []
  },
  {
   "cell_type": "code",
   "execution_count": 4,
   "metadata": {
    "collapsed": false
   },
   "outputs": [
    {
     "data": {
      "text/html": [
       "<style>\n",
       "    @font-face {\n",
       "        font-family: \"Computer Modern\";\n",
       "        src: url('http://9dbb143991406a7c655e-aa5fcb0a5a4ec34cff238a2d56ca4144.r56.cf5.rackcdn.com/cmunss.otf');\n",
       "    }\n",
       "    @font-face {\n",
       "        font-family: \"Computer Modern\";\n",
       "        font-weight: bold;\n",
       "        src: url('http://9dbb143991406a7c655e-aa5fcb0a5a4ec34cff238a2d56ca4144.r56.cf5.rackcdn.com/cmunsx.otf');\n",
       "    }\n",
       "    @font-face {\n",
       "        font-family: \"Computer Modern\";\n",
       "        font-style: oblique;\n",
       "        src: url('http://9dbb143991406a7c655e-aa5fcb0a5a4ec34cff238a2d56ca4144.r56.cf5.rackcdn.com/cmunsi.otf');\n",
       "    }\n",
       "    @font-face {\n",
       "        font-family: \"Computer Modern\";\n",
       "        font-weight: bold;\n",
       "        font-style: oblique;\n",
       "        src: url('http://9dbb143991406a7c655e-aa5fcb0a5a4ec34cff238a2d56ca4144.r56.cf5.rackcdn.com/cmunso.otf');\n",
       "    }\n",
       "    div.cell{\n",
       "        width:800px;\n",
       "        margin-left:16% !important;\n",
       "        margin-right:auto;\n",
       "    }\n",
       "    h1 {\n",
       "        font-family: Helvetica, serif;\n",
       "    }\n",
       "    h4{\n",
       "        margin-top:12px;\n",
       "        margin-bottom: 3px;\n",
       "       }\n",
       "    div.text_cell_render{\n",
       "        font-family: Computer Modern, \"Helvetica Neue\", Arial, Helvetica, Geneva, sans-serif;\n",
       "        line-height: 145%;\n",
       "        font-size: 130%;\n",
       "        width:800px;\n",
       "        margin-left:auto;\n",
       "        margin-right:auto;\n",
       "    }\n",
       "    .CodeMirror{\n",
       "            font-family: \"Source Code Pro\", source-code-pro,Consolas, monospace;\n",
       "    }\n",
       "    .prompt{\n",
       "        display: None;\n",
       "    }\n",
       "    .text_cell_render h5 {\n",
       "        font-weight: 300;\n",
       "        font-size: 22pt;\n",
       "        color: #4057A1;\n",
       "        font-style: italic;\n",
       "        margin-bottom: .5em;\n",
       "        margin-top: 0.5em;\n",
       "        display: block;\n",
       "    }\n",
       "    \n",
       "    .warning{\n",
       "        color: rgb( 240, 20, 20 )\n",
       "        }  \n",
       "</style>\n",
       "<script>\n",
       "    MathJax.Hub.Config({\n",
       "                        TeX: {\n",
       "                           extensions: [\"AMSmath.js\"]\n",
       "                           },\n",
       "                tex2jax: {\n",
       "                    inlineMath: [ ['$','$'], [\"\\\\(\",\"\\\\)\"] ],\n",
       "                    displayMath: [ ['$$','$$'], [\"\\\\[\",\"\\\\]\"] ]\n",
       "                },\n",
       "                displayAlign: 'center', // Change this to 'center' to center equations.\n",
       "                \"HTML-CSS\": {\n",
       "                    styles: {'.MathJax_Display': {\"margin\": 4}}\n",
       "                }\n",
       "        });\n",
       "</script>\n"
      ],
      "text/plain": [
       "<IPython.core.display.HTML object>"
      ]
     },
     "execution_count": 4,
     "metadata": {},
     "output_type": "execute_result"
    }
   ],
   "source": [
    "%matplotlib inline\n",
    "from IPython.core.display import HTML\n",
    "\n",
    "\n",
    "def css_styling():\n",
    "    styles = open(\"css/ipython2.css\", \"r\").read()\n",
    "    return HTML(styles)\n",
    "\n",
    "css_styling()"
   ]
  },
  {
   "cell_type": "code",
   "execution_count": 21,
   "metadata": {
    "collapsed": true
   },
   "outputs": [],
   "source": [
    "import seaborn as sns\n",
    "sns.set_palette(\"deep\", desat=.6)\n",
    "sns.set_context(rc={\"figure.figsize\": (8, 4)})\n",
    "sns.set_style(\"darkgrid\")"
   ]
  },
  {
   "cell_type": "code",
   "execution_count": null,
   "metadata": {
    "collapsed": true
   },
   "outputs": [],
   "source": []
  }
 ],
 "metadata": {
  "kernelspec": {
   "display_name": "Python 2",
   "language": "python",
   "name": "python2"
  },
  "language_info": {
   "codemirror_mode": {
    "name": "ipython",
    "version": 2
   },
   "file_extension": ".py",
   "mimetype": "text/x-python",
   "name": "python",
   "nbconvert_exporter": "python",
   "pygments_lexer": "ipython2",
   "version": "2.7.10"
  }
 },
 "nbformat": 4,
 "nbformat_minor": 0
}
