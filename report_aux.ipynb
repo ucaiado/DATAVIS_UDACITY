{
 "cells": [
  {
   "cell_type": "markdown",
   "metadata": {},
   "source": [
    "###Open file"
   ]
  },
  {
   "cell_type": "code",
   "execution_count": 1,
   "metadata": {
    "collapsed": true
   },
   "outputs": [],
   "source": [
    "import glob\n",
    "import os\n",
    "import csv\n",
    "import zipfile\n",
    "import StringIO\n",
    "\n",
    "\n",
    "s_name = \"/Users/ucaiado/Dropbox/NEUTRINO/ALGO/DATA/pisa2012.csv.zip\"\n",
    "s_dict = \"/Users/ucaiado/Dropbox/NEUTRINO/ALGO/DATA/pisadict2012.csv\"\n",
    "\n",
    "# for name in glob.glob('C:/Projects/abase/*.zip'):\n",
    "#     base = os.path.basename(name)\n",
    "#     filename = os.path.splitext(base)[0]\n",
    "\n",
    "\n",
    "#     datadirectory = 'C:/Projects/abase/'\n",
    "#     dataFile = filename\n",
    "#     archive = '.'.join([dataFile, 'zip'])\n",
    "#     fullpath = ''.join([datadirectory, archive])\n",
    "#     csv_file = '.'.join([dataFile, 'csv']) #all fixed\n",
    "\n",
    "\n",
    "#     filehandle = open(fullpath, 'rb')\n",
    "#     zfile = zipfile.ZipFile(filehandle)\n",
    "#     data = StringIO.StringIO(zfile.read(csv_file)) #don't forget this line!\n",
    "#     reader = csv.reader(data)\n",
    "\n",
    "#     for row in reader:\n",
    "#         print row"
   ]
  },
  {
   "cell_type": "markdown",
   "metadata": {},
   "source": [
    "###Create a function to read the file"
   ]
  },
  {
   "cell_type": "code",
   "execution_count": 2,
   "metadata": {
    "collapsed": true
   },
   "outputs": [],
   "source": [
    "import pandas as pd"
   ]
  },
  {
   "cell_type": "code",
   "execution_count": 3,
   "metadata": {
    "collapsed": true
   },
   "outputs": [],
   "source": [
    "df_labels = pd.read_csv(s_dict)\n",
    "df_labels.columns=[\"VAR\",\"DESCRIPTION\"]"
   ]
  },
  {
   "cell_type": "code",
   "execution_count": 4,
   "metadata": {
    "collapsed": false
   },
   "outputs": [
    {
     "data": {
      "text/html": [
       "<div>\n",
       "<table border=\"1\" class=\"dataframe\">\n",
       "  <thead>\n",
       "    <tr style=\"text-align: right;\">\n",
       "      <th></th>\n",
       "      <th>VAR</th>\n",
       "      <th>DESCRIPTION</th>\n",
       "    </tr>\n",
       "  </thead>\n",
       "  <tbody>\n",
       "    <tr>\n",
       "      <th>0</th>\n",
       "      <td>CNT</td>\n",
       "      <td>Country code 3-character</td>\n",
       "    </tr>\n",
       "    <tr>\n",
       "      <th>1</th>\n",
       "      <td>SUBNATIO</td>\n",
       "      <td>Adjudicated sub-region code 7-digit code (3-di...</td>\n",
       "    </tr>\n",
       "    <tr>\n",
       "      <th>2</th>\n",
       "      <td>STRATUM</td>\n",
       "      <td>Stratum ID 7-character (cnt + region ID + orig...</td>\n",
       "    </tr>\n",
       "    <tr>\n",
       "      <th>3</th>\n",
       "      <td>OECD</td>\n",
       "      <td>OECD country</td>\n",
       "    </tr>\n",
       "    <tr>\n",
       "      <th>4</th>\n",
       "      <td>NC</td>\n",
       "      <td>National Centre 6-digit Code</td>\n",
       "    </tr>\n",
       "  </tbody>\n",
       "</table>\n",
       "</div>"
      ],
      "text/plain": [
       "        VAR                                        DESCRIPTION\n",
       "0       CNT                           Country code 3-character\n",
       "1  SUBNATIO  Adjudicated sub-region code 7-digit code (3-di...\n",
       "2   STRATUM  Stratum ID 7-character (cnt + region ID + orig...\n",
       "3      OECD                                       OECD country\n",
       "4        NC                       National Centre 6-digit Code"
      ]
     },
     "execution_count": 4,
     "metadata": {},
     "output_type": "execute_result"
    }
   ],
   "source": [
    "df_labels.head(5)"
   ]
  },
  {
   "cell_type": "code",
   "execution_count": 5,
   "metadata": {
    "collapsed": false
   },
   "outputs": [],
   "source": [
    "import csv\n",
    "import zipfile\n",
    "\n",
    "def _getFields(l_fields, row):\n",
    "    '''\n",
    "    Return a dictionary with the data into the row, filtering \n",
    "    the fields passed \n",
    "    '''\n",
    "    return {k: row.get(k, None) for k in l_fields}\n",
    "\n",
    "def getData(s_file, l_fields):\n",
    "    '''\n",
    "    Return a list of dictionaries with the data desired\n",
    "    '''\n",
    "    with open(s_file, 'rb') as f1:\n",
    "        zfile = zipfile.ZipFile(f1)\n",
    "        l_rtn = []\n",
    "        with zfile.open(zfile.filelist[0].filename) as f:\n",
    "            reader = csv.DictReader(f)\n",
    "            for idx, row in enumerate(reader):\n",
    "                #count lines processed\n",
    "                if idx%50000==0: print \"estou na linha {}\".format(idx)\n",
    "                #get data desired\n",
    "                l_rtn.append(_getFields(l_fields, row))\n",
    "        print \"estou na linha {}\".format(idx)\n",
    "        \n",
    "    return l_rtn    "
   ]
  },
  {
   "cell_type": "code",
   "execution_count": 37,
   "metadata": {
    "collapsed": false
   },
   "outputs": [
    {
     "name": "stdout",
     "output_type": "stream",
     "text": [
      "estou na linha 0\n",
      "estou na linha 50000\n",
      "estou na linha 100000\n",
      "estou na linha 150000\n",
      "estou na linha 200000\n",
      "estou na linha 250000\n",
      "estou na linha 300000\n",
      "estou na linha 350000\n",
      "estou na linha 400000\n",
      "estou na linha 450000\n",
      "estou na linha 485489\n",
      "CPU times: user 2min 18s, sys: 723 ms, total: 2min 19s\n",
      "Wall time: 2min 19s\n"
     ]
    }
   ],
   "source": [
    "l_test = list(df_labels.head(5).VAR)\n",
    "%time d_data = getData(s_name, l_test)"
   ]
  },
  {
   "cell_type": "markdown",
   "metadata": {},
   "source": [
    "###let's see the countries names"
   ]
  },
  {
   "cell_type": "code",
   "execution_count": 40,
   "metadata": {
    "collapsed": false
   },
   "outputs": [],
   "source": [
    "df_country =  pd.DataFrame(d_data)"
   ]
  },
  {
   "cell_type": "code",
   "execution_count": 44,
   "metadata": {
    "collapsed": false
   },
   "outputs": [
    {
     "data": {
      "text/html": [
       "<div>\n",
       "<table border=\"1\" class=\"dataframe\">\n",
       "  <thead>\n",
       "    <tr style=\"text-align: right;\">\n",
       "      <th></th>\n",
       "      <th>CNT</th>\n",
       "      <th>NC</th>\n",
       "      <th>OECD</th>\n",
       "      <th>STRATUM</th>\n",
       "      <th>SUBNATIO</th>\n",
       "    </tr>\n",
       "  </thead>\n",
       "  <tbody>\n",
       "    <tr>\n",
       "      <th>0</th>\n",
       "      <td>Albania</td>\n",
       "      <td>Albania</td>\n",
       "      <td>Non-OECD</td>\n",
       "      <td>ALB0006</td>\n",
       "      <td>0080000</td>\n",
       "    </tr>\n",
       "    <tr>\n",
       "      <th>1</th>\n",
       "      <td>Albania</td>\n",
       "      <td>Albania</td>\n",
       "      <td>Non-OECD</td>\n",
       "      <td>ALB0006</td>\n",
       "      <td>0080000</td>\n",
       "    </tr>\n",
       "    <tr>\n",
       "      <th>2</th>\n",
       "      <td>Albania</td>\n",
       "      <td>Albania</td>\n",
       "      <td>Non-OECD</td>\n",
       "      <td>ALB0006</td>\n",
       "      <td>0080000</td>\n",
       "    </tr>\n",
       "    <tr>\n",
       "      <th>3</th>\n",
       "      <td>Albania</td>\n",
       "      <td>Albania</td>\n",
       "      <td>Non-OECD</td>\n",
       "      <td>ALB0006</td>\n",
       "      <td>0080000</td>\n",
       "    </tr>\n",
       "    <tr>\n",
       "      <th>4</th>\n",
       "      <td>Albania</td>\n",
       "      <td>Albania</td>\n",
       "      <td>Non-OECD</td>\n",
       "      <td>ALB0006</td>\n",
       "      <td>0080000</td>\n",
       "    </tr>\n",
       "  </tbody>\n",
       "</table>\n",
       "</div>"
      ],
      "text/plain": [
       "       CNT       NC      OECD  STRATUM SUBNATIO\n",
       "0  Albania  Albania  Non-OECD  ALB0006  0080000\n",
       "1  Albania  Albania  Non-OECD  ALB0006  0080000\n",
       "2  Albania  Albania  Non-OECD  ALB0006  0080000\n",
       "3  Albania  Albania  Non-OECD  ALB0006  0080000\n",
       "4  Albania  Albania  Non-OECD  ALB0006  0080000"
      ]
     },
     "execution_count": 44,
     "metadata": {},
     "output_type": "execute_result"
    }
   ],
   "source": [
    "df_country.head()"
   ]
  },
  {
   "cell_type": "code",
   "execution_count": 76,
   "metadata": {
    "collapsed": false
   },
   "outputs": [],
   "source": [
    "b=[x.strip() for x in df_country.CNT.unique()]\n",
    "a=[x.strip() for x in df_country.NC.unique()]"
   ]
  },
  {
   "cell_type": "code",
   "execution_count": 79,
   "metadata": {
    "collapsed": false
   },
   "outputs": [
    {
     "data": {
      "text/plain": [
       "['United Kingdom (excl.Scotland)',\n",
       " 'United Kingdom (Scotland)',\n",
       " 'Republic of Korea',\n",
       " 'China (Shanghai)',\n",
       " 'Perm (Russian Federation)',\n",
       " 'Viet Nam']"
      ]
     },
     "execution_count": 79,
     "metadata": {},
     "output_type": "execute_result"
    }
   ],
   "source": [
    "[x for  x in a if x not in b]"
   ]
  },
  {
   "cell_type": "code",
   "execution_count": 78,
   "metadata": {
    "collapsed": false
   },
   "outputs": [
    {
     "data": {
      "text/plain": [
       "['United Kingdom',\n",
       " 'Korea',\n",
       " 'China-Shanghai',\n",
       " 'Perm(Russian Federation)',\n",
       " 'Florida (USA)',\n",
       " 'Connecticut (USA)',\n",
       " 'Massachusetts (USA)',\n",
       " 'Vietnam']"
      ]
     },
     "execution_count": 78,
     "metadata": {},
     "output_type": "execute_result"
    }
   ],
   "source": [
    "[x for  x in b if x not in a]"
   ]
  },
  {
   "cell_type": "markdown",
   "metadata": {},
   "source": [
    "###I like more the CNT names. I will make just some changes"
   ]
  },
  {
   "cell_type": "code",
   "execution_count": 6,
   "metadata": {
    "collapsed": false
   },
   "outputs": [
    {
     "name": "stdout",
     "output_type": "stream",
     "text": [
      "estou na linha 0\n",
      "estou na linha 50000\n",
      "estou na linha 100000\n",
      "estou na linha 150000\n",
      "estou na linha 200000\n",
      "estou na linha 250000\n",
      "estou na linha 300000\n",
      "estou na linha 350000\n",
      "estou na linha 400000\n",
      "estou na linha 450000\n",
      "estou na linha 485489\n",
      "CPU times: user 2min 21s, sys: 794 ms, total: 2min 22s\n",
      "Wall time: 2min 22s\n"
     ]
    }
   ],
   "source": [
    "l_test = [\"CNT\",\"SUBJECT\"]\n",
    "%time d_data = getData(s_name, l_test)"
   ]
  },
  {
   "cell_type": "code",
   "execution_count": 7,
   "metadata": {
    "collapsed": true
   },
   "outputs": [],
   "source": [
    "df =  pd.DataFrame(d_data)\n",
    "b=[x.strip() for x in df.CNT.unique()]"
   ]
  },
  {
   "cell_type": "code",
   "execution_count": 8,
   "metadata": {
    "collapsed": false
   },
   "outputs": [],
   "source": [
    "d_newNames = dict(zip(b,b))\n",
    "d_newNames[\"United Arab Emirates\"] = \"UAE\"\n",
    "d_newNames[\"United Kingdom\"] = \"UK\"\n",
    "d_newNames[\"Serbia\"] = \"Serbia\"\n",
    "d_newNames[\"Korea\"] = \"South Korea\"\n",
    "d_newNames[\"Chinese Taipei\"] = \"Taiwan\"\n",
    "d_newNames[\"Slovak Republic\"] = \"Slovakia\"\n",
    "d_newNames[\"Russian Federation\"] = \"Russia\"\n",
    "d_newNames[\"Perm(Russian Federation)\"] = \"Russia\"\n",
    "d_newNames[\"Hong Kong-China\"] = \"Hong Kong\"\n",
    "d_newNames[\"China-Shanghai\"] = \"China\"\n",
    "d_newNames[\"Macau\"] = \"Macau\"\n",
    "d_newNames[\"Connecticut (USA)\"] = \"USA\"\n",
    "d_newNames[\"Florida (USA)\"] = \"USA\"\n",
    "d_newNames[\"Massachusetts (USA)\"] = \"USA\"\n",
    "d_newNames[\"United States of America\"] = \"USA\""
   ]
  },
  {
   "cell_type": "code",
   "execution_count": 9,
   "metadata": {
    "collapsed": false
   },
   "outputs": [],
   "source": [
    "df.CNT = df.CNT.apply(lambda x: d_newNames[x])"
   ]
  },
  {
   "cell_type": "code",
   "execution_count": 11,
   "metadata": {
    "collapsed": false
   },
   "outputs": [
    {
     "name": "stdout",
     "output_type": "stream",
     "text": [
      "Number of Rows: 485490\n",
      "Number of Countries in the dataset: 64\n"
     ]
    }
   ],
   "source": [
    "print \"Number of Rows: {}\".format(df.shape[0])\n",
    "print \"Number of Countries in the dataset: {}\".format(len(df.CNT.unique()))"
   ]
  },
  {
   "cell_type": "markdown",
   "metadata": {},
   "source": [
    "###Also, I would like to use Gini Index in my visualizations...maybe I could change the color of the countries by it"
   ]
  },
  {
   "cell_type": "markdown",
   "metadata": {},
   "source": [
    "Here is how it would be done in R\n",
    "<code>\n",
    "    > repGINI = vars %>%\n",
    "    +         group_by(CNT, SUBJECT) %>%\n",
    "    +         summarise_each(funs(Gini( (./sum(.)) * SCORE)), \n",
    "    +                        contains('W_FSTR')) %>%\n",
    "    +         melt(id=c('CNT', 'SUBJECT'), variable.name='REPNAME', \n",
    "    +              value.name='GINI')\n",
    "</code>"
   ]
  },
  {
   "cell_type": "markdown",
   "metadata": {
    "collapsed": true
   },
   "source": [
    "Think better, I will calculate it using R.... I guess that it would be faster."
   ]
  },
  {
   "cell_type": "code",
   "execution_count": 44,
   "metadata": {
    "collapsed": false
   },
   "outputs": [
    {
     "name": "stdout",
     "output_type": "stream",
     "text": [
      "estou na linha 0\n",
      "estou na linha 50000\n",
      "estou na linha 100000\n",
      "estou na linha 150000\n",
      "estou na linha 200000\n",
      "estou na linha 250000\n",
      "estou na linha 300000\n",
      "estou na linha 350000\n",
      "estou na linha 400000\n",
      "estou na linha 450000\n",
      "estou na linha 485489\n",
      "CPU times: user 2min 21s, sys: 3.59 s, total: 2min 25s\n",
      "Wall time: 2min 25s\n"
     ]
    }
   ],
   "source": [
    "l_test = [\"CNT\",\"SUBNATIO\",\"STRATUM\",\"OECD\",\"NC\",\"SCHOOLID\",\"STIDSTD\",\"PV1MATH\",\"PV2MATH\",\"PV3MATH\",\"PV4MATH\",\"PV5MATH\",\"PV1READ\",\"PV2READ\",\"PV3READ\",\"PV4READ\",\"PV5READ\",\"PV1SCIE\",\"PV2SCIE\",\"PV3SCIE\",\"PV4SCIE\",\"PV5SCIE\",\"W_FSTUWT\"]\n",
    "%time d_data = getData(s_name, l_test)"
   ]
  },
  {
   "cell_type": "code",
   "execution_count": 45,
   "metadata": {
    "collapsed": true
   },
   "outputs": [],
   "source": [
    "df =  pd.DataFrame(d_data)"
   ]
  },
  {
   "cell_type": "code",
   "execution_count": 43,
   "metadata": {
    "collapsed": false
   },
   "outputs": [
    {
     "data": {
      "text/html": [
       "<div>\n",
       "<table border=\"1\" class=\"dataframe\">\n",
       "  <thead>\n",
       "    <tr style=\"text-align: right;\">\n",
       "      <th></th>\n",
       "      <th>0</th>\n",
       "      <th>1</th>\n",
       "      <th>2</th>\n",
       "      <th>3</th>\n",
       "      <th>4</th>\n",
       "      <th>5</th>\n",
       "      <th>6</th>\n",
       "      <th>7</th>\n",
       "      <th>8</th>\n",
       "      <th>9</th>\n",
       "      <th>...</th>\n",
       "      <th>40</th>\n",
       "      <th>41</th>\n",
       "      <th>42</th>\n",
       "      <th>43</th>\n",
       "      <th>44</th>\n",
       "      <th>45</th>\n",
       "      <th>46</th>\n",
       "      <th>47</th>\n",
       "      <th>48</th>\n",
       "      <th>49</th>\n",
       "    </tr>\n",
       "  </thead>\n",
       "  <tbody>\n",
       "    <tr>\n",
       "      <th>CNT</th>\n",
       "      <td>Albania</td>\n",
       "      <td>Albania</td>\n",
       "      <td>Albania</td>\n",
       "      <td>Albania</td>\n",
       "      <td>Albania</td>\n",
       "      <td>Albania</td>\n",
       "      <td>Albania</td>\n",
       "      <td>Albania</td>\n",
       "      <td>Albania</td>\n",
       "      <td>Albania</td>\n",
       "      <td>...</td>\n",
       "      <td>Albania</td>\n",
       "      <td>Albania</td>\n",
       "      <td>Albania</td>\n",
       "      <td>Albania</td>\n",
       "      <td>Albania</td>\n",
       "      <td>Albania</td>\n",
       "      <td>Albania</td>\n",
       "      <td>Albania</td>\n",
       "      <td>Albania</td>\n",
       "      <td>Albania</td>\n",
       "    </tr>\n",
       "    <tr>\n",
       "      <th>NC</th>\n",
       "      <td>Albania</td>\n",
       "      <td>Albania</td>\n",
       "      <td>Albania</td>\n",
       "      <td>Albania</td>\n",
       "      <td>Albania</td>\n",
       "      <td>Albania</td>\n",
       "      <td>Albania</td>\n",
       "      <td>Albania</td>\n",
       "      <td>Albania</td>\n",
       "      <td>Albania</td>\n",
       "      <td>...</td>\n",
       "      <td>Albania</td>\n",
       "      <td>Albania</td>\n",
       "      <td>Albania</td>\n",
       "      <td>Albania</td>\n",
       "      <td>Albania</td>\n",
       "      <td>Albania</td>\n",
       "      <td>Albania</td>\n",
       "      <td>Albania</td>\n",
       "      <td>Albania</td>\n",
       "      <td>Albania</td>\n",
       "    </tr>\n",
       "    <tr>\n",
       "      <th>OECD</th>\n",
       "      <td>Non-OECD</td>\n",
       "      <td>Non-OECD</td>\n",
       "      <td>Non-OECD</td>\n",
       "      <td>Non-OECD</td>\n",
       "      <td>Non-OECD</td>\n",
       "      <td>Non-OECD</td>\n",
       "      <td>Non-OECD</td>\n",
       "      <td>Non-OECD</td>\n",
       "      <td>Non-OECD</td>\n",
       "      <td>Non-OECD</td>\n",
       "      <td>...</td>\n",
       "      <td>Non-OECD</td>\n",
       "      <td>Non-OECD</td>\n",
       "      <td>Non-OECD</td>\n",
       "      <td>Non-OECD</td>\n",
       "      <td>Non-OECD</td>\n",
       "      <td>Non-OECD</td>\n",
       "      <td>Non-OECD</td>\n",
       "      <td>Non-OECD</td>\n",
       "      <td>Non-OECD</td>\n",
       "      <td>Non-OECD</td>\n",
       "    </tr>\n",
       "    <tr>\n",
       "      <th>PV1MATH</th>\n",
       "      <td>406.8469</td>\n",
       "      <td>486.1427</td>\n",
       "      <td>533.2684</td>\n",
       "      <td>412.2215</td>\n",
       "      <td>381.9209</td>\n",
       "      <td>396.3312</td>\n",
       "      <td>438.0823</td>\n",
       "      <td>576.5773</td>\n",
       "      <td>434.1097</td>\n",
       "      <td>463.6314</td>\n",
       "      <td>...</td>\n",
       "      <td>339.1572</td>\n",
       "      <td>430.0592</td>\n",
       "      <td>377.2472</td>\n",
       "      <td>386.7503</td>\n",
       "      <td>425.4635</td>\n",
       "      <td>326.6163</td>\n",
       "      <td>380.8303</td>\n",
       "      <td>406.8469</td>\n",
       "      <td>296.3935</td>\n",
       "      <td>368.7568</td>\n",
       "    </tr>\n",
       "    <tr>\n",
       "      <th>PV1READ</th>\n",
       "      <td>249.5762</td>\n",
       "      <td>406.2936</td>\n",
       "      <td>401.21</td>\n",
       "      <td>547.363</td>\n",
       "      <td>311.7707</td>\n",
       "      <td>378.2544</td>\n",
       "      <td>373.2503</td>\n",
       "      <td>567.7589</td>\n",
       "      <td>313.9153</td>\n",
       "      <td>454.5082</td>\n",
       "      <td>...</td>\n",
       "      <td>378.2592</td>\n",
       "      <td>369.1171</td>\n",
       "      <td>430.1229</td>\n",
       "      <td>344.2568</td>\n",
       "      <td>452.8401</td>\n",
       "      <td>307.5608</td>\n",
       "      <td>315.4245</td>\n",
       "      <td>400.3929</td>\n",
       "      <td>360.2236</td>\n",
       "      <td>424.772</td>\n",
       "    </tr>\n",
       "    <tr>\n",
       "      <th>PV1SCIE</th>\n",
       "      <td>None</td>\n",
       "      <td>None</td>\n",
       "      <td>None</td>\n",
       "      <td>None</td>\n",
       "      <td>None</td>\n",
       "      <td>None</td>\n",
       "      <td>None</td>\n",
       "      <td>None</td>\n",
       "      <td>None</td>\n",
       "      <td>None</td>\n",
       "      <td>...</td>\n",
       "      <td>None</td>\n",
       "      <td>None</td>\n",
       "      <td>None</td>\n",
       "      <td>None</td>\n",
       "      <td>None</td>\n",
       "      <td>None</td>\n",
       "      <td>None</td>\n",
       "      <td>None</td>\n",
       "      <td>None</td>\n",
       "      <td>None</td>\n",
       "    </tr>\n",
       "    <tr>\n",
       "      <th>PV2MATH</th>\n",
       "      <td>376.4683</td>\n",
       "      <td>464.3325</td>\n",
       "      <td>481.0796</td>\n",
       "      <td>498.6836</td>\n",
       "      <td>328.1742</td>\n",
       "      <td>354.2686</td>\n",
       "      <td>540.1231</td>\n",
       "      <td>516.5992</td>\n",
       "      <td>353.1002</td>\n",
       "      <td>441.0422</td>\n",
       "      <td>...</td>\n",
       "      <td>300.2103</td>\n",
       "      <td>442.5222</td>\n",
       "      <td>371.0157</td>\n",
       "      <td>343.9087</td>\n",
       "      <td>408.3268</td>\n",
       "      <td>349.2055</td>\n",
       "      <td>351.2307</td>\n",
       "      <td>379.584</td>\n",
       "      <td>350.1402</td>\n",
       "      <td>335.2625</td>\n",
       "    </tr>\n",
       "    <tr>\n",
       "      <th>PV2READ</th>\n",
       "      <td>254.342</td>\n",
       "      <td>349.8975</td>\n",
       "      <td>404.3872</td>\n",
       "      <td>481.4353</td>\n",
       "      <td>141.7883</td>\n",
       "      <td>366.3398</td>\n",
       "      <td>374.0446</td>\n",
       "      <td>465.1099</td>\n",
       "      <td>332.9787</td>\n",
       "      <td>420.3529</td>\n",
       "      <td>...</td>\n",
       "      <td>334.9542</td>\n",
       "      <td>355.484</td>\n",
       "      <td>426.9456</td>\n",
       "      <td>296.1401</td>\n",
       "      <td>367.0546</td>\n",
       "      <td>307.5608</td>\n",
       "      <td>336.0766</td>\n",
       "      <td>408.4124</td>\n",
       "      <td>364.1951</td>\n",
       "      <td>413.5448</td>\n",
       "    </tr>\n",
       "    <tr>\n",
       "      <th>PV2SCIE</th>\n",
       "      <td>408.84</td>\n",
       "      <td>471.5964</td>\n",
       "      <td>428.7952</td>\n",
       "      <td>481.574</td>\n",
       "      <td>275.774</td>\n",
       "      <td>358.2059</td>\n",
       "      <td>462.458</td>\n",
       "      <td>596.3633</td>\n",
       "      <td>317.0832</td>\n",
       "      <td>343.6591</td>\n",
       "      <td>...</td>\n",
       "      <td>326.3148</td>\n",
       "      <td>361.5628</td>\n",
       "      <td>437.0944</td>\n",
       "      <td>360.6304</td>\n",
       "      <td>478.7766</td>\n",
       "      <td>426.5573</td>\n",
       "      <td>364.3603</td>\n",
       "      <td>359.6979</td>\n",
       "      <td>383.9426</td>\n",
       "      <td>390.6565</td>\n",
       "    </tr>\n",
       "    <tr>\n",
       "      <th>PV3MATH</th>\n",
       "      <td>344.5319</td>\n",
       "      <td>453.4273</td>\n",
       "      <td>489.6479</td>\n",
       "      <td>415.3373</td>\n",
       "      <td>403.7311</td>\n",
       "      <td>372.1841</td>\n",
       "      <td>489.4921</td>\n",
       "      <td>532.9568</td>\n",
       "      <td>392.826</td>\n",
       "      <td>425.4635</td>\n",
       "      <td>...</td>\n",
       "      <td>315.7891</td>\n",
       "      <td>483.027</td>\n",
       "      <td>396.7207</td>\n",
       "      <td>391.4239</td>\n",
       "      <td>387.2955</td>\n",
       "      <td>353.8791</td>\n",
       "      <td>378.4935</td>\n",
       "      <td>397.4996</td>\n",
       "      <td>274.5833</td>\n",
       "      <td>290.8631</td>\n",
       "    </tr>\n",
       "    <tr>\n",
       "      <th>PV3READ</th>\n",
       "      <td>406.8496</td>\n",
       "      <td>400.7334</td>\n",
       "      <td>387.7067</td>\n",
       "      <td>461.5776</td>\n",
       "      <td>293.5015</td>\n",
       "      <td>387.7861</td>\n",
       "      <td>401.8454</td>\n",
       "      <td>431.4282</td>\n",
       "      <td>316.2982</td>\n",
       "      <td>360.7796</td>\n",
       "      <td>...</td>\n",
       "      <td>251.5519</td>\n",
       "      <td>415.6299</td>\n",
       "      <td>391.2017</td>\n",
       "      <td>332.2276</td>\n",
       "      <td>364.6717</td>\n",
       "      <td>280.5543</td>\n",
       "      <td>366.2603</td>\n",
       "      <td>308.1692</td>\n",
       "      <td>266.495</td>\n",
       "      <td>355.0028</td>\n",
       "    </tr>\n",
       "    <tr>\n",
       "      <th>PV3SCIE</th>\n",
       "      <td>348.2283</td>\n",
       "      <td>471.5964</td>\n",
       "      <td>492.2044</td>\n",
       "      <td>448.937</td>\n",
       "      <td>372.7527</td>\n",
       "      <td>405.7628</td>\n",
       "      <td>499.7576</td>\n",
       "      <td>554.4013</td>\n",
       "      <td>376.7624</td>\n",
       "      <td>339.9291</td>\n",
       "      <td>...</td>\n",
       "      <td>321.6524</td>\n",
       "      <td>562.9802</td>\n",
       "      <td>485.5837</td>\n",
       "      <td>394.1999</td>\n",
       "      <td>474.1141</td>\n",
       "      <td>352.8907</td>\n",
       "      <td>452.0142</td>\n",
       "      <td>459.4741</td>\n",
       "      <td>403.5248</td>\n",
       "      <td>434.4834</td>\n",
       "    </tr>\n",
       "    <tr>\n",
       "      <th>PV4MATH</th>\n",
       "      <td>321.1637</td>\n",
       "      <td>472.9008</td>\n",
       "      <td>490.4269</td>\n",
       "      <td>466.7472</td>\n",
       "      <td>418.5309</td>\n",
       "      <td>387.7629</td>\n",
       "      <td>443.5348</td>\n",
       "      <td>549.3145</td>\n",
       "      <td>425.5414</td>\n",
       "      <td>421.5688</td>\n",
       "      <td>...</td>\n",
       "      <td>237.1164</td>\n",
       "      <td>467.4482</td>\n",
       "      <td>373.3525</td>\n",
       "      <td>364.94</td>\n",
       "      <td>419.232</td>\n",
       "      <td>291.5641</td>\n",
       "      <td>358.2412</td>\n",
       "      <td>409.9626</td>\n",
       "      <td>284.7095</td>\n",
       "      <td>389.7881</td>\n",
       "    </tr>\n",
       "    <tr>\n",
       "      <th>PV4READ</th>\n",
       "      <td>175.7053</td>\n",
       "      <td>369.7553</td>\n",
       "      <td>431.3938</td>\n",
       "      <td>425.0393</td>\n",
       "      <td>272.8495</td>\n",
       "      <td>335.3617</td>\n",
       "      <td>338.3006</td>\n",
       "      <td>535.6811</td>\n",
       "      <td>391.7577</td>\n",
       "      <td>450.5366</td>\n",
       "      <td>...</td>\n",
       "      <td>316.5095</td>\n",
       "      <td>377.1365</td>\n",
       "      <td>411.0594</td>\n",
       "      <td>194.293</td>\n",
       "      <td>440.1312</td>\n",
       "      <td>345.6877</td>\n",
       "      <td>396.4441</td>\n",
       "      <td>413.224</td>\n",
       "      <td>425.357</td>\n",
       "      <td>417.5545</td>\n",
       "    </tr>\n",
       "    <tr>\n",
       "      <th>PV4SCIE</th>\n",
       "      <td>367.8105</td>\n",
       "      <td>443.6218</td>\n",
       "      <td>512.7191</td>\n",
       "      <td>474.1141</td>\n",
       "      <td>403.5248</td>\n",
       "      <td>403.8978</td>\n",
       "      <td>519.3398</td>\n",
       "      <td>513.3719</td>\n",
       "      <td>409.3995</td>\n",
       "      <td>335.2667</td>\n",
       "      <td>...</td>\n",
       "      <td>297.4077</td>\n",
       "      <td>473.4614</td>\n",
       "      <td>430.567</td>\n",
       "      <td>353.1705</td>\n",
       "      <td>506.7512</td>\n",
       "      <td>335.1734</td>\n",
       "      <td>420.3096</td>\n",
       "      <td>495.8411</td>\n",
       "      <td>419.3771</td>\n",
       "      <td>414.9012</td>\n",
       "    </tr>\n",
       "    <tr>\n",
       "      <th>PV5MATH</th>\n",
       "      <td>381.9209</td>\n",
       "      <td>476.0165</td>\n",
       "      <td>533.2684</td>\n",
       "      <td>454.2842</td>\n",
       "      <td>395.1628</td>\n",
       "      <td>315.3217</td>\n",
       "      <td>539.3441</td>\n",
       "      <td>535.2937</td>\n",
       "      <td>438.0044</td>\n",
       "      <td>417.6741</td>\n",
       "      <td>...</td>\n",
       "      <td>175.5803</td>\n",
       "      <td>433.9539</td>\n",
       "      <td>353.1002</td>\n",
       "      <td>396.0975</td>\n",
       "      <td>408.3268</td>\n",
       "      <td>347.6476</td>\n",
       "      <td>368.3673</td>\n",
       "      <td>374.9104</td>\n",
       "      <td>314.3091</td>\n",
       "      <td>321.2416</td>\n",
       "    </tr>\n",
       "    <tr>\n",
       "      <th>PV5READ</th>\n",
       "      <td>218.5981</td>\n",
       "      <td>396.7618</td>\n",
       "      <td>401.21</td>\n",
       "      <td>471.9036</td>\n",
       "      <td>260.1405</td>\n",
       "      <td>219.3924</td>\n",
       "      <td>373.2503</td>\n",
       "      <td>582.9958</td>\n",
       "      <td>278.9657</td>\n",
       "      <td>323.447</td>\n",
       "      <td>...</td>\n",
       "      <td>238.7208</td>\n",
       "      <td>393.1754</td>\n",
       "      <td>419.0025</td>\n",
       "      <td>330.6237</td>\n",
       "      <td>388.501</td>\n",
       "      <td>417.1756</td>\n",
       "      <td>344.0197</td>\n",
       "      <td>335.4354</td>\n",
       "      <td>295.8845</td>\n",
       "      <td>415.1487</td>\n",
       "    </tr>\n",
       "    <tr>\n",
       "      <th>PV5SCIE</th>\n",
       "      <td>392.9877</td>\n",
       "      <td>454.8116</td>\n",
       "      <td>499.6643</td>\n",
       "      <td>426.5573</td>\n",
       "      <td>422.1746</td>\n",
       "      <td>325.5688</td>\n",
       "      <td>466.188</td>\n",
       "      <td>519.8993</td>\n",
       "      <td>382.3573</td>\n",
       "      <td>287.7098</td>\n",
       "      <td>...</td>\n",
       "      <td>247.0533</td>\n",
       "      <td>459.4741</td>\n",
       "      <td>452.9467</td>\n",
       "      <td>357.8329</td>\n",
       "      <td>473.1816</td>\n",
       "      <td>350.0932</td>\n",
       "      <td>387.6725</td>\n",
       "      <td>441.7568</td>\n",
       "      <td>390.47</td>\n",
       "      <td>419.5636</td>\n",
       "    </tr>\n",
       "    <tr>\n",
       "      <th>SCHOOLID</th>\n",
       "      <td>0000001</td>\n",
       "      <td>0000001</td>\n",
       "      <td>0000001</td>\n",
       "      <td>0000001</td>\n",
       "      <td>0000001</td>\n",
       "      <td>0000001</td>\n",
       "      <td>0000001</td>\n",
       "      <td>0000001</td>\n",
       "      <td>0000001</td>\n",
       "      <td>0000002</td>\n",
       "      <td>...</td>\n",
       "      <td>0000002</td>\n",
       "      <td>0000003</td>\n",
       "      <td>0000003</td>\n",
       "      <td>0000003</td>\n",
       "      <td>0000003</td>\n",
       "      <td>0000003</td>\n",
       "      <td>0000003</td>\n",
       "      <td>0000003</td>\n",
       "      <td>0000003</td>\n",
       "      <td>0000003</td>\n",
       "    </tr>\n",
       "    <tr>\n",
       "      <th>STIDSTD</th>\n",
       "      <td>00001</td>\n",
       "      <td>00002</td>\n",
       "      <td>00003</td>\n",
       "      <td>00004</td>\n",
       "      <td>00005</td>\n",
       "      <td>00006</td>\n",
       "      <td>00007</td>\n",
       "      <td>00008</td>\n",
       "      <td>00009</td>\n",
       "      <td>00010</td>\n",
       "      <td>...</td>\n",
       "      <td>00041</td>\n",
       "      <td>00042</td>\n",
       "      <td>00043</td>\n",
       "      <td>00044</td>\n",
       "      <td>00045</td>\n",
       "      <td>00046</td>\n",
       "      <td>00047</td>\n",
       "      <td>00048</td>\n",
       "      <td>00049</td>\n",
       "      <td>00050</td>\n",
       "    </tr>\n",
       "    <tr>\n",
       "      <th>STRATUM</th>\n",
       "      <td>ALB0006</td>\n",
       "      <td>ALB0006</td>\n",
       "      <td>ALB0006</td>\n",
       "      <td>ALB0006</td>\n",
       "      <td>ALB0006</td>\n",
       "      <td>ALB0006</td>\n",
       "      <td>ALB0006</td>\n",
       "      <td>ALB0006</td>\n",
       "      <td>ALB0006</td>\n",
       "      <td>ALB0005</td>\n",
       "      <td>...</td>\n",
       "      <td>ALB0005</td>\n",
       "      <td>ALB0007</td>\n",
       "      <td>ALB0007</td>\n",
       "      <td>ALB0007</td>\n",
       "      <td>ALB0007</td>\n",
       "      <td>ALB0007</td>\n",
       "      <td>ALB0007</td>\n",
       "      <td>ALB0007</td>\n",
       "      <td>ALB0007</td>\n",
       "      <td>ALB0007</td>\n",
       "    </tr>\n",
       "    <tr>\n",
       "      <th>SUBNATIO</th>\n",
       "      <td>0080000</td>\n",
       "      <td>0080000</td>\n",
       "      <td>0080000</td>\n",
       "      <td>0080000</td>\n",
       "      <td>0080000</td>\n",
       "      <td>0080000</td>\n",
       "      <td>0080000</td>\n",
       "      <td>0080000</td>\n",
       "      <td>0080000</td>\n",
       "      <td>0080000</td>\n",
       "      <td>...</td>\n",
       "      <td>0080000</td>\n",
       "      <td>0080000</td>\n",
       "      <td>0080000</td>\n",
       "      <td>0080000</td>\n",
       "      <td>0080000</td>\n",
       "      <td>0080000</td>\n",
       "      <td>0080000</td>\n",
       "      <td>0080000</td>\n",
       "      <td>0080000</td>\n",
       "      <td>0080000</td>\n",
       "    </tr>\n",
       "    <tr>\n",
       "      <th>W_FSTUWT</th>\n",
       "      <td>8.9096</td>\n",
       "      <td>8.9096</td>\n",
       "      <td>8.4871</td>\n",
       "      <td>8.4871</td>\n",
       "      <td>8.4871</td>\n",
       "      <td>8.4871</td>\n",
       "      <td>8.9096</td>\n",
       "      <td>9.8606</td>\n",
       "      <td>8.4871</td>\n",
       "      <td>6.7688</td>\n",
       "      <td>...</td>\n",
       "      <td>7.4167</td>\n",
       "      <td>9.8416</td>\n",
       "      <td>8.345</td>\n",
       "      <td>8.345</td>\n",
       "      <td>8.345</td>\n",
       "      <td>8.345</td>\n",
       "      <td>8.345</td>\n",
       "      <td>8.345</td>\n",
       "      <td>8.345</td>\n",
       "      <td>9.8416</td>\n",
       "    </tr>\n",
       "  </tbody>\n",
       "</table>\n",
       "<p>23 rows × 50 columns</p>\n",
       "</div>"
      ],
      "text/plain": [
       "                0         1         2         3         4         5   \\\n",
       "CNT        Albania   Albania   Albania   Albania   Albania   Albania   \n",
       "NC         Albania   Albania   Albania   Albania   Albania   Albania   \n",
       "OECD      Non-OECD  Non-OECD  Non-OECD  Non-OECD  Non-OECD  Non-OECD   \n",
       "PV1MATH   406.8469  486.1427  533.2684  412.2215  381.9209  396.3312   \n",
       "PV1READ   249.5762  406.2936    401.21   547.363  311.7707  378.2544   \n",
       "PV1SCIE       None      None      None      None      None      None   \n",
       "PV2MATH   376.4683  464.3325  481.0796  498.6836  328.1742  354.2686   \n",
       "PV2READ    254.342  349.8975  404.3872  481.4353  141.7883  366.3398   \n",
       "PV2SCIE     408.84  471.5964  428.7952   481.574   275.774  358.2059   \n",
       "PV3MATH   344.5319  453.4273  489.6479  415.3373  403.7311  372.1841   \n",
       "PV3READ   406.8496  400.7334  387.7067  461.5776  293.5015  387.7861   \n",
       "PV3SCIE   348.2283  471.5964  492.2044   448.937  372.7527  405.7628   \n",
       "PV4MATH   321.1637  472.9008  490.4269  466.7472  418.5309  387.7629   \n",
       "PV4READ   175.7053  369.7553  431.3938  425.0393  272.8495  335.3617   \n",
       "PV4SCIE   367.8105  443.6218  512.7191  474.1141  403.5248  403.8978   \n",
       "PV5MATH   381.9209  476.0165  533.2684  454.2842  395.1628  315.3217   \n",
       "PV5READ   218.5981  396.7618    401.21  471.9036  260.1405  219.3924   \n",
       "PV5SCIE   392.9877  454.8116  499.6643  426.5573  422.1746  325.5688   \n",
       "SCHOOLID   0000001   0000001   0000001   0000001   0000001   0000001   \n",
       "STIDSTD      00001     00002     00003     00004     00005     00006   \n",
       "STRATUM    ALB0006   ALB0006   ALB0006   ALB0006   ALB0006   ALB0006   \n",
       "SUBNATIO   0080000   0080000   0080000   0080000   0080000   0080000   \n",
       "W_FSTUWT    8.9096    8.9096    8.4871    8.4871    8.4871    8.4871   \n",
       "\n",
       "                6         7         8         9     ...           40  \\\n",
       "CNT        Albania   Albania   Albania   Albania    ...      Albania   \n",
       "NC         Albania   Albania   Albania   Albania    ...      Albania   \n",
       "OECD      Non-OECD  Non-OECD  Non-OECD  Non-OECD    ...     Non-OECD   \n",
       "PV1MATH   438.0823  576.5773  434.1097  463.6314    ...     339.1572   \n",
       "PV1READ   373.2503  567.7589  313.9153  454.5082    ...     378.2592   \n",
       "PV1SCIE       None      None      None      None    ...         None   \n",
       "PV2MATH   540.1231  516.5992  353.1002  441.0422    ...     300.2103   \n",
       "PV2READ   374.0446  465.1099  332.9787  420.3529    ...     334.9542   \n",
       "PV2SCIE    462.458  596.3633  317.0832  343.6591    ...     326.3148   \n",
       "PV3MATH   489.4921  532.9568   392.826  425.4635    ...     315.7891   \n",
       "PV3READ   401.8454  431.4282  316.2982  360.7796    ...     251.5519   \n",
       "PV3SCIE   499.7576  554.4013  376.7624  339.9291    ...     321.6524   \n",
       "PV4MATH   443.5348  549.3145  425.5414  421.5688    ...     237.1164   \n",
       "PV4READ   338.3006  535.6811  391.7577  450.5366    ...     316.5095   \n",
       "PV4SCIE   519.3398  513.3719  409.3995  335.2667    ...     297.4077   \n",
       "PV5MATH   539.3441  535.2937  438.0044  417.6741    ...     175.5803   \n",
       "PV5READ   373.2503  582.9958  278.9657   323.447    ...     238.7208   \n",
       "PV5SCIE    466.188  519.8993  382.3573  287.7098    ...     247.0533   \n",
       "SCHOOLID   0000001   0000001   0000001   0000002    ...      0000002   \n",
       "STIDSTD      00007     00008     00009     00010    ...        00041   \n",
       "STRATUM    ALB0006   ALB0006   ALB0006   ALB0005    ...      ALB0005   \n",
       "SUBNATIO   0080000   0080000   0080000   0080000    ...      0080000   \n",
       "W_FSTUWT    8.9096    9.8606    8.4871    6.7688    ...       7.4167   \n",
       "\n",
       "                41        42        43        44        45        46  \\\n",
       "CNT        Albania   Albania   Albania   Albania   Albania   Albania   \n",
       "NC         Albania   Albania   Albania   Albania   Albania   Albania   \n",
       "OECD      Non-OECD  Non-OECD  Non-OECD  Non-OECD  Non-OECD  Non-OECD   \n",
       "PV1MATH   430.0592  377.2472  386.7503  425.4635  326.6163  380.8303   \n",
       "PV1READ   369.1171  430.1229  344.2568  452.8401  307.5608  315.4245   \n",
       "PV1SCIE       None      None      None      None      None      None   \n",
       "PV2MATH   442.5222  371.0157  343.9087  408.3268  349.2055  351.2307   \n",
       "PV2READ    355.484  426.9456  296.1401  367.0546  307.5608  336.0766   \n",
       "PV2SCIE   361.5628  437.0944  360.6304  478.7766  426.5573  364.3603   \n",
       "PV3MATH    483.027  396.7207  391.4239  387.2955  353.8791  378.4935   \n",
       "PV3READ   415.6299  391.2017  332.2276  364.6717  280.5543  366.2603   \n",
       "PV3SCIE   562.9802  485.5837  394.1999  474.1141  352.8907  452.0142   \n",
       "PV4MATH   467.4482  373.3525    364.94   419.232  291.5641  358.2412   \n",
       "PV4READ   377.1365  411.0594   194.293  440.1312  345.6877  396.4441   \n",
       "PV4SCIE   473.4614   430.567  353.1705  506.7512  335.1734  420.3096   \n",
       "PV5MATH   433.9539  353.1002  396.0975  408.3268  347.6476  368.3673   \n",
       "PV5READ   393.1754  419.0025  330.6237   388.501  417.1756  344.0197   \n",
       "PV5SCIE   459.4741  452.9467  357.8329  473.1816  350.0932  387.6725   \n",
       "SCHOOLID   0000003   0000003   0000003   0000003   0000003   0000003   \n",
       "STIDSTD      00042     00043     00044     00045     00046     00047   \n",
       "STRATUM    ALB0007   ALB0007   ALB0007   ALB0007   ALB0007   ALB0007   \n",
       "SUBNATIO   0080000   0080000   0080000   0080000   0080000   0080000   \n",
       "W_FSTUWT    9.8416     8.345     8.345     8.345     8.345     8.345   \n",
       "\n",
       "                47        48        49  \n",
       "CNT        Albania   Albania   Albania  \n",
       "NC         Albania   Albania   Albania  \n",
       "OECD      Non-OECD  Non-OECD  Non-OECD  \n",
       "PV1MATH   406.8469  296.3935  368.7568  \n",
       "PV1READ   400.3929  360.2236   424.772  \n",
       "PV1SCIE       None      None      None  \n",
       "PV2MATH    379.584  350.1402  335.2625  \n",
       "PV2READ   408.4124  364.1951  413.5448  \n",
       "PV2SCIE   359.6979  383.9426  390.6565  \n",
       "PV3MATH   397.4996  274.5833  290.8631  \n",
       "PV3READ   308.1692   266.495  355.0028  \n",
       "PV3SCIE   459.4741  403.5248  434.4834  \n",
       "PV4MATH   409.9626  284.7095  389.7881  \n",
       "PV4READ    413.224   425.357  417.5545  \n",
       "PV4SCIE   495.8411  419.3771  414.9012  \n",
       "PV5MATH   374.9104  314.3091  321.2416  \n",
       "PV5READ   335.4354  295.8845  415.1487  \n",
       "PV5SCIE   441.7568    390.47  419.5636  \n",
       "SCHOOLID   0000003   0000003   0000003  \n",
       "STIDSTD      00048     00049     00050  \n",
       "STRATUM    ALB0007   ALB0007   ALB0007  \n",
       "SUBNATIO   0080000   0080000   0080000  \n",
       "W_FSTUWT     8.345     8.345    9.8416  \n",
       "\n",
       "[23 rows x 50 columns]"
      ]
     },
     "execution_count": 43,
     "metadata": {},
     "output_type": "execute_result"
    }
   ],
   "source": [
    "df.head(50).T"
   ]
  },
  {
   "cell_type": "code",
   "execution_count": 36,
   "metadata": {
    "collapsed": false
   },
   "outputs": [
    {
     "data": {
      "text/html": [
       "<div>\n",
       "<table border=\"1\" class=\"dataframe\">\n",
       "  <thead>\n",
       "    <tr style=\"text-align: right;\">\n",
       "      <th></th>\n",
       "      <th>CNT</th>\n",
       "      <th>NC</th>\n",
       "      <th>OECD</th>\n",
       "      <th>PV1MATH</th>\n",
       "      <th>PV1READ</th>\n",
       "      <th>PV1SCIE</th>\n",
       "      <th>PV2MATH</th>\n",
       "      <th>PV2READ</th>\n",
       "      <th>PV2SCIE</th>\n",
       "      <th>PV3MATH</th>\n",
       "      <th>...</th>\n",
       "      <th>PV4READ</th>\n",
       "      <th>PV4SCIE</th>\n",
       "      <th>PV5MATH</th>\n",
       "      <th>PV5READ</th>\n",
       "      <th>PV5SCIE</th>\n",
       "      <th>SCHOOLID</th>\n",
       "      <th>STIDSTD</th>\n",
       "      <th>STRATUM</th>\n",
       "      <th>SUBNATIO</th>\n",
       "      <th>W_FSTUWT</th>\n",
       "    </tr>\n",
       "  </thead>\n",
       "  <tbody>\n",
       "    <tr>\n",
       "      <th>0</th>\n",
       "      <td>Albania</td>\n",
       "      <td>Albania</td>\n",
       "      <td>Non-OECD</td>\n",
       "      <td>406.8469</td>\n",
       "      <td>249.5762</td>\n",
       "      <td>None</td>\n",
       "      <td>376.4683</td>\n",
       "      <td>254.342</td>\n",
       "      <td>408.84</td>\n",
       "      <td>344.5319</td>\n",
       "      <td>...</td>\n",
       "      <td>175.7053</td>\n",
       "      <td>367.8105</td>\n",
       "      <td>381.9209</td>\n",
       "      <td>218.5981</td>\n",
       "      <td>392.9877</td>\n",
       "      <td>0000001</td>\n",
       "      <td>00001</td>\n",
       "      <td>ALB0006</td>\n",
       "      <td>0080000</td>\n",
       "      <td>8.9096</td>\n",
       "    </tr>\n",
       "    <tr>\n",
       "      <th>1</th>\n",
       "      <td>Albania</td>\n",
       "      <td>Albania</td>\n",
       "      <td>Non-OECD</td>\n",
       "      <td>486.1427</td>\n",
       "      <td>406.2936</td>\n",
       "      <td>None</td>\n",
       "      <td>464.3325</td>\n",
       "      <td>349.8975</td>\n",
       "      <td>471.5964</td>\n",
       "      <td>453.4273</td>\n",
       "      <td>...</td>\n",
       "      <td>369.7553</td>\n",
       "      <td>443.6218</td>\n",
       "      <td>476.0165</td>\n",
       "      <td>396.7618</td>\n",
       "      <td>454.8116</td>\n",
       "      <td>0000001</td>\n",
       "      <td>00002</td>\n",
       "      <td>ALB0006</td>\n",
       "      <td>0080000</td>\n",
       "      <td>8.9096</td>\n",
       "    </tr>\n",
       "    <tr>\n",
       "      <th>2</th>\n",
       "      <td>Albania</td>\n",
       "      <td>Albania</td>\n",
       "      <td>Non-OECD</td>\n",
       "      <td>533.2684</td>\n",
       "      <td>401.21</td>\n",
       "      <td>None</td>\n",
       "      <td>481.0796</td>\n",
       "      <td>404.3872</td>\n",
       "      <td>428.7952</td>\n",
       "      <td>489.6479</td>\n",
       "      <td>...</td>\n",
       "      <td>431.3938</td>\n",
       "      <td>512.7191</td>\n",
       "      <td>533.2684</td>\n",
       "      <td>401.21</td>\n",
       "      <td>499.6643</td>\n",
       "      <td>0000001</td>\n",
       "      <td>00003</td>\n",
       "      <td>ALB0006</td>\n",
       "      <td>0080000</td>\n",
       "      <td>8.4871</td>\n",
       "    </tr>\n",
       "    <tr>\n",
       "      <th>3</th>\n",
       "      <td>Albania</td>\n",
       "      <td>Albania</td>\n",
       "      <td>Non-OECD</td>\n",
       "      <td>412.2215</td>\n",
       "      <td>547.363</td>\n",
       "      <td>None</td>\n",
       "      <td>498.6836</td>\n",
       "      <td>481.4353</td>\n",
       "      <td>481.574</td>\n",
       "      <td>415.3373</td>\n",
       "      <td>...</td>\n",
       "      <td>425.0393</td>\n",
       "      <td>474.1141</td>\n",
       "      <td>454.2842</td>\n",
       "      <td>471.9036</td>\n",
       "      <td>426.5573</td>\n",
       "      <td>0000001</td>\n",
       "      <td>00004</td>\n",
       "      <td>ALB0006</td>\n",
       "      <td>0080000</td>\n",
       "      <td>8.4871</td>\n",
       "    </tr>\n",
       "    <tr>\n",
       "      <th>4</th>\n",
       "      <td>Albania</td>\n",
       "      <td>Albania</td>\n",
       "      <td>Non-OECD</td>\n",
       "      <td>381.9209</td>\n",
       "      <td>311.7707</td>\n",
       "      <td>None</td>\n",
       "      <td>328.1742</td>\n",
       "      <td>141.7883</td>\n",
       "      <td>275.774</td>\n",
       "      <td>403.7311</td>\n",
       "      <td>...</td>\n",
       "      <td>272.8495</td>\n",
       "      <td>403.5248</td>\n",
       "      <td>395.1628</td>\n",
       "      <td>260.1405</td>\n",
       "      <td>422.1746</td>\n",
       "      <td>0000001</td>\n",
       "      <td>00005</td>\n",
       "      <td>ALB0006</td>\n",
       "      <td>0080000</td>\n",
       "      <td>8.4871</td>\n",
       "    </tr>\n",
       "  </tbody>\n",
       "</table>\n",
       "<p>5 rows × 23 columns</p>\n",
       "</div>"
      ],
      "text/plain": [
       "       CNT       NC      OECD   PV1MATH   PV1READ PV1SCIE    PV2MATH  \\\n",
       "0  Albania  Albania  Non-OECD  406.8469  249.5762     None  376.4683   \n",
       "1  Albania  Albania  Non-OECD  486.1427  406.2936     None  464.3325   \n",
       "2  Albania  Albania  Non-OECD  533.2684    401.21     None  481.0796   \n",
       "3  Albania  Albania  Non-OECD  412.2215   547.363     None  498.6836   \n",
       "4  Albania  Albania  Non-OECD  381.9209  311.7707     None  328.1742   \n",
       "\n",
       "    PV2READ   PV2SCIE   PV3MATH   ...      PV4READ   PV4SCIE   PV5MATH  \\\n",
       "0   254.342    408.84  344.5319   ...     175.7053  367.8105  381.9209   \n",
       "1  349.8975  471.5964  453.4273   ...     369.7553  443.6218  476.0165   \n",
       "2  404.3872  428.7952  489.6479   ...     431.3938  512.7191  533.2684   \n",
       "3  481.4353   481.574  415.3373   ...     425.0393  474.1141  454.2842   \n",
       "4  141.7883   275.774  403.7311   ...     272.8495  403.5248  395.1628   \n",
       "\n",
       "    PV5READ   PV5SCIE SCHOOLID STIDSTD  STRATUM SUBNATIO W_FSTUWT  \n",
       "0  218.5981  392.9877  0000001   00001  ALB0006  0080000   8.9096  \n",
       "1  396.7618  454.8116  0000001   00002  ALB0006  0080000   8.9096  \n",
       "2    401.21  499.6643  0000001   00003  ALB0006  0080000   8.4871  \n",
       "3  471.9036  426.5573  0000001   00004  ALB0006  0080000   8.4871  \n",
       "4  260.1405  422.1746  0000001   00005  ALB0006  0080000   8.4871  \n",
       "\n",
       "[5 rows x 23 columns]"
      ]
     },
     "execution_count": 36,
     "metadata": {},
     "output_type": "execute_result"
    }
   ],
   "source": [
    "df.head()"
   ]
  },
  {
   "cell_type": "code",
   "execution_count": 38,
   "metadata": {
    "collapsed": false
   },
   "outputs": [
    {
     "data": {
      "text/plain": [
       "485490"
      ]
     },
     "execution_count": 38,
     "metadata": {},
     "output_type": "execute_result"
    }
   ],
   "source": [
    "len(df.ix[:,['CNT', 'SUBNATIO', 'STRATUM', 'OECD', 'NC','SCHOOLID', 'STIDSTD', 'W_FSTUWT']].values)"
   ]
  },
  {
   "cell_type": "code",
   "execution_count": 39,
   "metadata": {
    "collapsed": false
   },
   "outputs": [
    {
     "data": {
      "text/plain": [
       "485490"
      ]
     },
     "execution_count": 39,
     "metadata": {},
     "output_type": "execute_result"
    }
   ],
   "source": [
    "len(df.index)"
   ]
  },
  {
   "cell_type": "code",
   "execution_count": null,
   "metadata": {
    "collapsed": false
   },
   "outputs": [],
   "source": []
  },
  {
   "cell_type": "code",
   "execution_count": 46,
   "metadata": {
    "collapsed": true
   },
   "outputs": [],
   "source": [
    "df_aux = df.copy()"
   ]
  },
  {
   "cell_type": "code",
   "execution_count": 48,
   "metadata": {
    "collapsed": false
   },
   "outputs": [],
   "source": [
    "df.index = [df.CNT, df.SUBNATIO, df.STRATUM, df.OECD, df.NC, df.SCHOOLID, df.STIDSTD, df.W_FSTUWT]"
   ]
  },
  {
   "cell_type": "code",
   "execution_count": 49,
   "metadata": {
    "collapsed": false
   },
   "outputs": [],
   "source": [
    "df.drop(['CNT', 'SUBNATIO', 'STRATUM', 'OECD', 'NC','SCHOOLID', 'STIDSTD', 'W_FSTUWT'], inplace=True, axis=1)"
   ]
  },
  {
   "cell_type": "code",
   "execution_count": 51,
   "metadata": {
    "collapsed": false
   },
   "outputs": [],
   "source": [
    "df_aux = df.stack()"
   ]
  },
  {
   "cell_type": "code",
   "execution_count": 52,
   "metadata": {
    "collapsed": false
   },
   "outputs": [
    {
     "data": {
      "text/plain": [
       "(7282350,)"
      ]
     },
     "execution_count": 52,
     "metadata": {},
     "output_type": "execute_result"
    }
   ],
   "source": [
    "df_aux.shape"
   ]
  },
  {
   "cell_type": "code",
   "execution_count": null,
   "metadata": {
    "collapsed": true
   },
   "outputs": [],
   "source": []
  },
  {
   "cell_type": "code",
   "execution_count": null,
   "metadata": {
    "collapsed": true
   },
   "outputs": [],
   "source": []
  },
  {
   "cell_type": "code",
   "execution_count": null,
   "metadata": {
    "collapsed": true
   },
   "outputs": [],
   "source": []
  },
  {
   "cell_type": "code",
   "execution_count": null,
   "metadata": {
    "collapsed": true
   },
   "outputs": [],
   "source": []
  },
  {
   "cell_type": "code",
   "execution_count": 17,
   "metadata": {
    "collapsed": false
   },
   "outputs": [
    {
     "data": {
      "text/plain": [
       "array([None], dtype=object)"
      ]
     },
     "execution_count": 17,
     "metadata": {},
     "output_type": "execute_result"
    }
   ],
   "source": [
    "df.groupby(l_test).count()"
   ]
  },
  {
   "cell_type": "markdown",
   "metadata": {},
   "source": [
    "###Look at what there are inside the data"
   ]
  },
  {
   "cell_type": "code",
   "execution_count": null,
   "metadata": {
    "collapsed": true
   },
   "outputs": [],
   "source": []
  },
  {
   "cell_type": "code",
   "execution_count": null,
   "metadata": {
    "collapsed": true
   },
   "outputs": [],
   "source": []
  },
  {
   "cell_type": "code",
   "execution_count": null,
   "metadata": {
    "collapsed": true
   },
   "outputs": [],
   "source": []
  },
  {
   "cell_type": "code",
   "execution_count": null,
   "metadata": {
    "collapsed": true
   },
   "outputs": [],
   "source": []
  },
  {
   "cell_type": "code",
   "execution_count": null,
   "metadata": {
    "collapsed": true
   },
   "outputs": [],
   "source": []
  },
  {
   "cell_type": "code",
   "execution_count": null,
   "metadata": {
    "collapsed": true
   },
   "outputs": [],
   "source": []
  },
  {
   "cell_type": "code",
   "execution_count": null,
   "metadata": {
    "collapsed": true
   },
   "outputs": [],
   "source": []
  }
 ],
 "metadata": {
  "kernelspec": {
   "display_name": "Python 2",
   "language": "python",
   "name": "python2"
  },
  "language_info": {
   "codemirror_mode": {
    "name": "ipython",
    "version": 2
   },
   "file_extension": ".py",
   "mimetype": "text/x-python",
   "name": "python",
   "nbconvert_exporter": "python",
   "pygments_lexer": "ipython2",
   "version": "2.7.10"
  }
 },
 "nbformat": 4,
 "nbformat_minor": 0
}
