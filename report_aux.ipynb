{
 "cells": [
  {
   "cell_type": "markdown",
   "metadata": {},
   "source": [
    "###Open file"
   ]
  },
  {
   "cell_type": "code",
   "execution_count": 16,
   "metadata": {
    "collapsed": true
   },
   "outputs": [],
   "source": [
    "import glob\n",
    "import os\n",
    "import csv\n",
    "import zipfile\n",
    "import StringIO\n",
    "\n",
    "\n",
    "s_name = \"/Users/ucaiado/Dropbox/NEUTRINO/ALGO/DATA/pisa2012.csv.zip\"\n",
    "s_dict = \"/Users/ucaiado/Dropbox/NEUTRINO/ALGO/DATA/pisadict2012.csv\"\n",
    "\n",
    "# for name in glob.glob('C:/Projects/abase/*.zip'):\n",
    "#     base = os.path.basename(name)\n",
    "#     filename = os.path.splitext(base)[0]\n",
    "\n",
    "\n",
    "#     datadirectory = 'C:/Projects/abase/'\n",
    "#     dataFile = filename\n",
    "#     archive = '.'.join([dataFile, 'zip'])\n",
    "#     fullpath = ''.join([datadirectory, archive])\n",
    "#     csv_file = '.'.join([dataFile, 'csv']) #all fixed\n",
    "\n",
    "\n",
    "#     filehandle = open(fullpath, 'rb')\n",
    "#     zfile = zipfile.ZipFile(filehandle)\n",
    "#     data = StringIO.StringIO(zfile.read(csv_file)) #don't forget this line!\n",
    "#     reader = csv.reader(data)\n",
    "\n",
    "#     for row in reader:\n",
    "#         print row"
   ]
  },
  {
   "cell_type": "markdown",
   "metadata": {},
   "source": [
    "###Create a function to read the file"
   ]
  },
  {
   "cell_type": "code",
   "execution_count": 17,
   "metadata": {
    "collapsed": true
   },
   "outputs": [],
   "source": [
    "import pandas as pd"
   ]
  },
  {
   "cell_type": "code",
   "execution_count": 20,
   "metadata": {
    "collapsed": true
   },
   "outputs": [],
   "source": [
    "df_labels = pd.read_csv(s_dict)\n",
    "df_labels.columns=[\"VAR\",\"DESCRIPTION\"]"
   ]
  },
  {
   "cell_type": "code",
   "execution_count": 24,
   "metadata": {
    "collapsed": false
   },
   "outputs": [
    {
     "data": {
      "text/html": [
       "<div>\n",
       "<table border=\"1\" class=\"dataframe\">\n",
       "  <thead>\n",
       "    <tr style=\"text-align: right;\">\n",
       "      <th></th>\n",
       "      <th>VAR</th>\n",
       "      <th>DESCRIPTION</th>\n",
       "    </tr>\n",
       "  </thead>\n",
       "  <tbody>\n",
       "    <tr>\n",
       "      <th>0</th>\n",
       "      <td>CNT</td>\n",
       "      <td>Country code 3-character</td>\n",
       "    </tr>\n",
       "    <tr>\n",
       "      <th>1</th>\n",
       "      <td>SUBNATIO</td>\n",
       "      <td>Adjudicated sub-region code 7-digit code (3-di...</td>\n",
       "    </tr>\n",
       "    <tr>\n",
       "      <th>2</th>\n",
       "      <td>STRATUM</td>\n",
       "      <td>Stratum ID 7-character (cnt + region ID + orig...</td>\n",
       "    </tr>\n",
       "    <tr>\n",
       "      <th>3</th>\n",
       "      <td>OECD</td>\n",
       "      <td>OECD country</td>\n",
       "    </tr>\n",
       "    <tr>\n",
       "      <th>4</th>\n",
       "      <td>NC</td>\n",
       "      <td>National Centre 6-digit Code</td>\n",
       "    </tr>\n",
       "  </tbody>\n",
       "</table>\n",
       "</div>"
      ],
      "text/plain": [
       "        VAR                                        DESCRIPTION\n",
       "0       CNT                           Country code 3-character\n",
       "1  SUBNATIO  Adjudicated sub-region code 7-digit code (3-di...\n",
       "2   STRATUM  Stratum ID 7-character (cnt + region ID + orig...\n",
       "3      OECD                                       OECD country\n",
       "4        NC                       National Centre 6-digit Code"
      ]
     },
     "execution_count": 24,
     "metadata": {},
     "output_type": "execute_result"
    }
   ],
   "source": [
    "df_labels.head(5)"
   ]
  },
  {
   "cell_type": "code",
   "execution_count": 36,
   "metadata": {
    "collapsed": false
   },
   "outputs": [],
   "source": [
    "import csv\n",
    "import zipfile\n",
    "\n",
    "def _getFields(l_fields, row):\n",
    "    '''\n",
    "    Return a dictionary with the data into the row, filtering \n",
    "    the fields passed \n",
    "    '''\n",
    "    return {k: row.get(k, None) for k in l_fields}\n",
    "\n",
    "def getData(s_file, l_fields):\n",
    "    '''\n",
    "    Return a list of dictionaries with the data desired\n",
    "    '''\n",
    "    with open(s_file, 'rb') as f1:\n",
    "        zfile = zipfile.ZipFile(f1)\n",
    "        l_rtn = []\n",
    "        with zfile.open(zfile.filelist[0].filename) as f:\n",
    "            reader = csv.DictReader(f)\n",
    "            for idx, row in enumerate(reader):\n",
    "                #count lines processed\n",
    "                if idx%50000==0: print \"estou na linha {}\".format(idx)\n",
    "                #get data desired\n",
    "                l_rtn.append(_getFields(l_fields, row))\n",
    "        print \"estou na linha {}\".format(idx)\n",
    "        \n",
    "    return l_rtn    "
   ]
  },
  {
   "cell_type": "code",
   "execution_count": 37,
   "metadata": {
    "collapsed": false
   },
   "outputs": [
    {
     "name": "stdout",
     "output_type": "stream",
     "text": [
      "estou na linha 0\n",
      "estou na linha 50000\n",
      "estou na linha 100000\n",
      "estou na linha 150000\n",
      "estou na linha 200000\n",
      "estou na linha 250000\n",
      "estou na linha 300000\n",
      "estou na linha 350000\n",
      "estou na linha 400000\n",
      "estou na linha 450000\n",
      "estou na linha 485489\n",
      "CPU times: user 2min 18s, sys: 723 ms, total: 2min 19s\n",
      "Wall time: 2min 19s\n"
     ]
    }
   ],
   "source": [
    "l_test = list(df_labels.head(5).VAR)\n",
    "%time d_data = getData(s_name, l_test)"
   ]
  },
  {
   "cell_type": "markdown",
   "metadata": {},
   "source": [
    "###let's see the countries names"
   ]
  },
  {
   "cell_type": "code",
   "execution_count": 40,
   "metadata": {
    "collapsed": false
   },
   "outputs": [],
   "source": [
    "df_country =  pd.DataFrame(d_data)"
   ]
  },
  {
   "cell_type": "code",
   "execution_count": 44,
   "metadata": {
    "collapsed": false
   },
   "outputs": [
    {
     "data": {
      "text/html": [
       "<div>\n",
       "<table border=\"1\" class=\"dataframe\">\n",
       "  <thead>\n",
       "    <tr style=\"text-align: right;\">\n",
       "      <th></th>\n",
       "      <th>CNT</th>\n",
       "      <th>NC</th>\n",
       "      <th>OECD</th>\n",
       "      <th>STRATUM</th>\n",
       "      <th>SUBNATIO</th>\n",
       "    </tr>\n",
       "  </thead>\n",
       "  <tbody>\n",
       "    <tr>\n",
       "      <th>0</th>\n",
       "      <td>Albania</td>\n",
       "      <td>Albania</td>\n",
       "      <td>Non-OECD</td>\n",
       "      <td>ALB0006</td>\n",
       "      <td>0080000</td>\n",
       "    </tr>\n",
       "    <tr>\n",
       "      <th>1</th>\n",
       "      <td>Albania</td>\n",
       "      <td>Albania</td>\n",
       "      <td>Non-OECD</td>\n",
       "      <td>ALB0006</td>\n",
       "      <td>0080000</td>\n",
       "    </tr>\n",
       "    <tr>\n",
       "      <th>2</th>\n",
       "      <td>Albania</td>\n",
       "      <td>Albania</td>\n",
       "      <td>Non-OECD</td>\n",
       "      <td>ALB0006</td>\n",
       "      <td>0080000</td>\n",
       "    </tr>\n",
       "    <tr>\n",
       "      <th>3</th>\n",
       "      <td>Albania</td>\n",
       "      <td>Albania</td>\n",
       "      <td>Non-OECD</td>\n",
       "      <td>ALB0006</td>\n",
       "      <td>0080000</td>\n",
       "    </tr>\n",
       "    <tr>\n",
       "      <th>4</th>\n",
       "      <td>Albania</td>\n",
       "      <td>Albania</td>\n",
       "      <td>Non-OECD</td>\n",
       "      <td>ALB0006</td>\n",
       "      <td>0080000</td>\n",
       "    </tr>\n",
       "  </tbody>\n",
       "</table>\n",
       "</div>"
      ],
      "text/plain": [
       "       CNT       NC      OECD  STRATUM SUBNATIO\n",
       "0  Albania  Albania  Non-OECD  ALB0006  0080000\n",
       "1  Albania  Albania  Non-OECD  ALB0006  0080000\n",
       "2  Albania  Albania  Non-OECD  ALB0006  0080000\n",
       "3  Albania  Albania  Non-OECD  ALB0006  0080000\n",
       "4  Albania  Albania  Non-OECD  ALB0006  0080000"
      ]
     },
     "execution_count": 44,
     "metadata": {},
     "output_type": "execute_result"
    }
   ],
   "source": [
    "df_country.head()"
   ]
  },
  {
   "cell_type": "code",
   "execution_count": 76,
   "metadata": {
    "collapsed": false
   },
   "outputs": [],
   "source": [
    "b=[x.strip() for x in df_country.CNT.unique()]\n",
    "a=[x.strip() for x in df_country.NC.unique()]"
   ]
  },
  {
   "cell_type": "code",
   "execution_count": 79,
   "metadata": {
    "collapsed": false
   },
   "outputs": [
    {
     "data": {
      "text/plain": [
       "['United Kingdom (excl.Scotland)',\n",
       " 'United Kingdom (Scotland)',\n",
       " 'Republic of Korea',\n",
       " 'China (Shanghai)',\n",
       " 'Perm (Russian Federation)',\n",
       " 'Viet Nam']"
      ]
     },
     "execution_count": 79,
     "metadata": {},
     "output_type": "execute_result"
    }
   ],
   "source": [
    "[x for  x in a if x not in b]"
   ]
  },
  {
   "cell_type": "code",
   "execution_count": 78,
   "metadata": {
    "collapsed": false
   },
   "outputs": [
    {
     "data": {
      "text/plain": [
       "['United Kingdom',\n",
       " 'Korea',\n",
       " 'China-Shanghai',\n",
       " 'Perm(Russian Federation)',\n",
       " 'Florida (USA)',\n",
       " 'Connecticut (USA)',\n",
       " 'Massachusetts (USA)',\n",
       " 'Vietnam']"
      ]
     },
     "execution_count": 78,
     "metadata": {},
     "output_type": "execute_result"
    }
   ],
   "source": [
    "[x for  x in b if x not in a]"
   ]
  },
  {
   "cell_type": "markdown",
   "metadata": {},
   "source": [
    "###I like more the CNT names. I will make just some changes"
   ]
  },
  {
   "cell_type": "code",
   "execution_count": 82,
   "metadata": {
    "collapsed": false
   },
   "outputs": [],
   "source": [
    "d_newNames = dict(zip(b,b))\n",
    "d_newNames[\"United Arab Emirates\"] = \"UAE\"\n",
    "d_newNames[\"United Kingdom\"] = \"UK\"\n",
    "d_newNames[\"Serbia\"] = \"Serbia\"\n",
    "d_newNames[\"Korea\"] = \"South Korea\"\n",
    "d_newNames[\"Chinese Taipei\"] = \"Taiwan\"\n",
    "d_newNames[\"Slovak Republic\"] = \"Slovakia\"\n",
    "d_newNames[\"Russian Federation\"] = \"Russia\"\n",
    "d_newNames[\"Perm(Russian Federation)\"] = \"Russia\"\n",
    "d_newNames[\"Hong Kong-China\"] = \"Hong Kong\"\n",
    "d_newNames[\"China-Shanghai\"] = \"China\"\n",
    "d_newNames[\"Macau\"] = \"Macau\"\n",
    "d_newNames[\"Connecticut (USA)\"] = \"USA\"\n",
    "d_newNames[\"Florida (USA)\"] = \"USA\"\n",
    "d_newNames[\"Massachusetts (USA)\"] = \"USA\"\n",
    "d_newNames[\"United States of America\"] = \"USA\""
   ]
  },
  {
   "cell_type": "code",
   "execution_count": 86,
   "metadata": {
    "collapsed": false
   },
   "outputs": [],
   "source": [
    "df_country.CNT = df_country.CNT.apply(lambda x: d_newNames[x])"
   ]
  },
  {
   "cell_type": "code",
   "execution_count": 89,
   "metadata": {
    "collapsed": false
   },
   "outputs": [
    {
     "name": "stdout",
     "output_type": "stream",
     "text": [
      "Number of Countries in the dataset: 64\n"
     ]
    }
   ],
   "source": [
    "print \"Number of Countries in the dataset: {}\".format(len(df_country.CNT.unique()))"
   ]
  },
  {
   "cell_type": "markdown",
   "metadata": {},
   "source": [
    "###Also, I would like to use Gini Index in my visualizations...maybe I could change the color of the countries by it"
   ]
  },
  {
   "cell_type": "markdown",
   "metadata": {},
   "source": [
    "Here is how it would be done in R\n",
    "<code>\n",
    "    > repGINI = vars %>%\n",
    "    +         group_by(CNT, SUBJECT) %>%\n",
    "    +         summarise_each(funs(Gini( (./sum(.)) * SCORE)), \n",
    "    +                        contains('W_FSTR')) %>%\n",
    "    +         melt(id=c('CNT', 'SUBJECT'), variable.name='REPNAME', \n",
    "    +              value.name='GINI')\n",
    "</code>"
   ]
  },
  {
   "cell_type": "code",
   "execution_count": null,
   "metadata": {
    "collapsed": true
   },
   "outputs": [],
   "source": []
  },
  {
   "cell_type": "code",
   "execution_count": null,
   "metadata": {
    "collapsed": true
   },
   "outputs": [],
   "source": []
  },
  {
   "cell_type": "code",
   "execution_count": null,
   "metadata": {
    "collapsed": true
   },
   "outputs": [],
   "source": []
  },
  {
   "cell_type": "markdown",
   "metadata": {},
   "source": [
    "###Look at what there are inside the data"
   ]
  },
  {
   "cell_type": "code",
   "execution_count": 57,
   "metadata": {
    "collapsed": true
   },
   "outputs": [],
   "source": [
    "import pprint"
   ]
  },
  {
   "cell_type": "code",
   "execution_count": 61,
   "metadata": {
    "collapsed": false
   },
   "outputs": [
    {
     "name": "stdout",
     "output_type": "stream",
     "text": [
      "[None, ',']\n"
     ]
    }
   ],
   "source": [
    "pprint.pprint(row.keys())"
   ]
  },
  {
   "cell_type": "code",
   "execution_count": 90,
   "metadata": {
    "collapsed": false
   },
   "outputs": [
    {
     "name": "stdout",
     "output_type": "stream",
     "text": [
      "estou na linha 0\n"
     ]
    }
   ],
   "source": [
    "with open(s_name, 'rb') as f1:\n",
    "    zfile = zipfile.ZipFile(f1)\n",
    "    with zfile.open(zfile.filelist[0].filename) as f:\n",
    "        reader = csv.DictReader(f)\n",
    "        for idx, row in enumerate(reader):\n",
    "            if idx==0:break\n",
    "    print \"estou na linha {}\".format(idx)"
   ]
  },
  {
   "cell_type": "code",
   "execution_count": 12,
   "metadata": {
    "collapsed": false
   },
   "outputs": [
    {
     "data": {
      "text/plain": [
       "2"
      ]
     },
     "execution_count": 12,
     "metadata": {},
     "output_type": "execute_result"
    }
   ],
   "source": [
    "len(row)"
   ]
  },
  {
   "cell_type": "code",
   "execution_count": 26,
   "metadata": {
    "collapsed": false
   },
   "outputs": [
    {
     "data": {
      "text/plain": [
       "['CNT', 'SUBNATIO', 'STRATUM', 'OECD', 'NC']"
      ]
     },
     "execution_count": 26,
     "metadata": {},
     "output_type": "execute_result"
    }
   ],
   "source": [
    "l_test"
   ]
  },
  {
   "cell_type": "code",
   "execution_count": 27,
   "metadata": {
    "collapsed": false
   },
   "outputs": [],
   "source": [
    "l_schoolSupport = [\"DISCLIMA\", \"MTSUP\", \"TEACHSUP\", \"STUDREL\", \"TCHBEHFA\",\"TCHBEHSO\", \"TCHBEHTD\"]\n",
    "l_homeSupport = [\"HISCED\", \"HISEI\", \"HOMEPOS\", \"CULTPOS\", \"ESCS\", \"HEDRES\"]\n",
    "l_test = list(df_labels.head(5).VAR)\n",
    "\n",
    "#d_data = {k: row.get(k, None) for k in l_schoolSupport + l_homeSupport + [\"PV1MATH\"]}\n",
    "d_data = {k: row.get(k, None) for k in l_test}"
   ]
  },
  {
   "cell_type": "code",
   "execution_count": 28,
   "metadata": {
    "collapsed": false
   },
   "outputs": [
    {
     "data": {
      "text/plain": [
       "['OECD', 'CNT', 'STRATUM', 'NC', 'SUBNATIO']"
      ]
     },
     "execution_count": 28,
     "metadata": {},
     "output_type": "execute_result"
    }
   ],
   "source": [
    "d_data.keys()"
   ]
  },
  {
   "cell_type": "code",
   "execution_count": null,
   "metadata": {
    "collapsed": false
   },
   "outputs": [],
   "source": []
  },
  {
   "cell_type": "code",
   "execution_count": 29,
   "metadata": {
    "collapsed": false
   },
   "outputs": [
    {
     "name": "stdout",
     "output_type": "stream",
     "text": [
      "{'CNT': None, 'NC': None, 'OECD': None, 'STRATUM': None, 'SUBNATIO': None}\n"
     ]
    }
   ],
   "source": [
    "import pprint \n",
    "pprint.pprint(d_data)"
   ]
  },
  {
   "cell_type": "code",
   "execution_count": null,
   "metadata": {
    "collapsed": true
   },
   "outputs": [],
   "source": []
  }
 ],
 "metadata": {
  "kernelspec": {
   "display_name": "Python 2",
   "language": "python",
   "name": "python2"
  },
  "language_info": {
   "codemirror_mode": {
    "name": "ipython",
    "version": 2
   },
   "file_extension": ".py",
   "mimetype": "text/x-python",
   "name": "python",
   "nbconvert_exporter": "python",
   "pygments_lexer": "ipython2",
   "version": "2.7.10"
  }
 },
 "nbformat": 4,
 "nbformat_minor": 0
}
